{
 "cells": [
  {
   "cell_type": "code",
   "execution_count": null,
   "id": "f28211dc-e8ad-4e73-910c-4ea88aa876e4",
   "metadata": {},
   "outputs": [],
   "source": [
    "#list methods"
   ]
  },
  {
   "cell_type": "code",
   "execution_count": null,
   "id": "88046c8f-22b1-4f29-8b67-fda7f5a7e1d5",
   "metadata": {},
   "outputs": [],
   "source": [
    "#append(item)"
   ]
  },
  {
   "cell_type": "code",
   "execution_count": 2,
   "id": "187dda65-c81e-4fba-9b6d-505454cab8ee",
   "metadata": {},
   "outputs": [],
   "source": [
    "fruits=['apple','banana']\n",
    "fruits.append(['cherry'])"
   ]
  },
  {
   "cell_type": "code",
   "execution_count": 8,
   "id": "551a35d3-bc28-4e6a-b36c-cc7f31ab85c1",
   "metadata": {},
   "outputs": [
    {
     "data": {
      "text/plain": [
       "['apple', 'banana', 'orange']"
      ]
     },
     "execution_count": 8,
     "metadata": {},
     "output_type": "execute_result"
    }
   ],
   "source": [
    "fruits"
   ]
  },
  {
   "cell_type": "code",
   "execution_count": null,
   "id": "43351648-6741-4954-8936-a4790817b150",
   "metadata": {},
   "outputs": [],
   "source": [
    "#extend(iterable)"
   ]
  },
  {
   "cell_type": "code",
   "execution_count": 17,
   "id": "5b08a86a-e846-4384-a107-b975295780de",
   "metadata": {},
   "outputs": [],
   "source": [
    "fruits=['apple','banana']\n",
    "more_fruits=['cherry','date']"
   ]
  },
  {
   "cell_type": "code",
   "execution_count": 26,
   "id": "71281905-47b5-4010-9a63-cc9fbd367024",
   "metadata": {},
   "outputs": [],
   "source": [
    "fruits=['apple','banana']"
   ]
  },
  {
   "cell_type": "code",
   "execution_count": 24,
   "id": "9c044595-918e-434f-9019-d46120a6f8da",
   "metadata": {},
   "outputs": [],
   "source": [
    "fruits.extend"
   ]
  },
  {
   "cell_type": "code",
   "execution_count": 14,
   "id": "d2d499db-8c6c-4020-9e23-6dd219194e84",
   "metadata": {},
   "outputs": [
    {
     "data": {
      "text/plain": [
       "['apple', 'goa', 'goa', 'cherry', 'banana']"
      ]
     },
     "execution_count": 14,
     "metadata": {},
     "output_type": "execute_result"
    }
   ],
   "source": [
    "#insert\n",
    "fruits.insert(1,('goa'))                      #insert\n",
    "fruits"
   ]
  },
  {
   "cell_type": "code",
   "execution_count": null,
   "id": "d7be96f8-5478-48ea-a357-80a0f3babb59",
   "metadata": {},
   "outputs": [],
   "source": [
    "#remove\n"
   ]
  },
  {
   "cell_type": "code",
   "execution_count": 35,
   "id": "8d02c361-2808-4df5-b541-74c43aa9cc91",
   "metadata": {},
   "outputs": [
    {
     "data": {
      "text/plain": [
       "['app', 'banan', 'cherry']"
      ]
     },
     "execution_count": 35,
     "metadata": {},
     "output_type": "execute_result"
    }
   ],
   "source": [
    "fruits=['app','banan','cherry','kiwi']\n",
    "fruits.remove('kiwi')\n",
    "fruits"
   ]
  },
  {
   "cell_type": "code",
   "execution_count": 37,
   "id": "9d51dedb-dfed-4f5e-a951-c23d394c892e",
   "metadata": {},
   "outputs": [],
   "source": [
    "#pop"
   ]
  },
  {
   "cell_type": "code",
   "execution_count": 66,
   "id": "79f37a48-1ddb-4219-b740-dea68a83013c",
   "metadata": {},
   "outputs": [],
   "source": [
    "fruit=['jack','apple','banana','cherry','kiwi']\n"
   ]
  },
  {
   "cell_type": "code",
   "execution_count": 68,
   "id": "a5753061-4092-44b5-8ee0-17b8813fd99b",
   "metadata": {},
   "outputs": [
    {
     "data": {
      "text/plain": [
       "'kiwi'"
      ]
     },
     "execution_count": 68,
     "metadata": {},
     "output_type": "execute_result"
    }
   ],
   "source": [
    "fruit.pop()"
   ]
  },
  {
   "cell_type": "code",
   "execution_count": 70,
   "id": "0ec40218-605e-4b9c-8e8e-fb08b2c41cca",
   "metadata": {},
   "outputs": [
    {
     "data": {
      "text/plain": [
       "['jack', 'apple', 'banana', 'cherry']"
      ]
     },
     "execution_count": 70,
     "metadata": {},
     "output_type": "execute_result"
    }
   ],
   "source": [
    "fruit"
   ]
  },
  {
   "cell_type": "code",
   "execution_count": null,
   "id": "48335401-8185-4e73-989b-e776d53de9c8",
   "metadata": {},
   "outputs": [],
   "source": [
    "#clear"
   ]
  },
  {
   "cell_type": "code",
   "execution_count": 77,
   "id": "e7926760-7ddb-47f1-aeab-ebb8f4ccbd1b",
   "metadata": {},
   "outputs": [],
   "source": [
    "fruits=['orange','tomato','pear']"
   ]
  },
  {
   "cell_type": "code",
   "execution_count": 79,
   "id": "35bc2574-22e4-48fa-956f-4b7e4e884beb",
   "metadata": {},
   "outputs": [],
   "source": [
    "fruits.clear()"
   ]
  },
  {
   "cell_type": "raw",
   "id": "6f6c2ad5-0ed2-457c-9833-633d40cfb832",
   "metadata": {},
   "source": [
    "fruits"
   ]
  },
  {
   "cell_type": "code",
   "execution_count": null,
   "id": "d8afbe9d-84df-4863-babe-a5feadc587c3",
   "metadata": {},
   "outputs": [],
   "source": []
  },
  {
   "cell_type": "code",
   "execution_count": null,
   "id": "e3e7c886-44ab-4e79-a793-a21f88f0c164",
   "metadata": {},
   "outputs": [],
   "source": [
    "#index"
   ]
  },
  {
   "cell_type": "code",
   "execution_count": 100,
   "id": "318a6cb6-7e3f-4b94-a60b-d4853b712d83",
   "metadata": {},
   "outputs": [],
   "source": [
    "fruits=['apple','mango','pineapple']"
   ]
  },
  {
   "cell_type": "code",
   "execution_count": 102,
   "id": "29364323-7f28-4c19-bab6-f67dd1f6efa3",
   "metadata": {},
   "outputs": [
    {
     "data": {
      "text/plain": [
       "0"
      ]
     },
     "execution_count": 102,
     "metadata": {},
     "output_type": "execute_result"
    }
   ],
   "source": [
    "fruits.index('apple')"
   ]
  },
  {
   "cell_type": "code",
   "execution_count": 88,
   "id": "6d776caa-0163-4aed-9343-5bb9ad2a0d29",
   "metadata": {},
   "outputs": [],
   "source": [
    "#count"
   ]
  },
  {
   "cell_type": "code",
   "execution_count": 104,
   "id": "db8f7771-a434-4810-a8da-26a82405f386",
   "metadata": {},
   "outputs": [],
   "source": [
    "fruits=['orange','tomato','pear','tomato']"
   ]
  },
  {
   "cell_type": "code",
   "execution_count": 96,
   "id": "ccc95f91-b18c-494b-b705-c29e15f173bb",
   "metadata": {},
   "outputs": [
    {
     "data": {
      "text/plain": [
       "2"
      ]
     },
     "execution_count": 96,
     "metadata": {},
     "output_type": "execute_result"
    }
   ],
   "source": [
    "fruits.count(\"tomato\")"
   ]
  },
  {
   "cell_type": "code",
   "execution_count": null,
   "id": "2b8a89df-a028-422d-b9ff-ab6bcb09193f",
   "metadata": {},
   "outputs": [],
   "source": [
    "#sort "
   ]
  },
  {
   "cell_type": "code",
   "execution_count": 106,
   "id": "038e36a4-b532-4388-a294-932114f75d56",
   "metadata": {},
   "outputs": [],
   "source": [
    "num=[5,3,5,2,6]"
   ]
  },
  {
   "cell_type": "code",
   "execution_count": 108,
   "id": "cd95f0e9-9263-4f67-a17c-688c0aacaf8e",
   "metadata": {},
   "outputs": [],
   "source": [
    "num.sort()"
   ]
  },
  {
   "cell_type": "code",
   "execution_count": 111,
   "id": "8cd3aa25-2aa1-4e90-a716-d514220ce301",
   "metadata": {},
   "outputs": [
    {
     "data": {
      "text/plain": [
       "[2, 3, 5, 5, 6]"
      ]
     },
     "execution_count": 111,
     "metadata": {},
     "output_type": "execute_result"
    }
   ],
   "source": [
    "num"
   ]
  },
  {
   "cell_type": "code",
   "execution_count": 113,
   "id": "1b3eeac7-8ad8-44d8-9208-ecb629d80a5c",
   "metadata": {},
   "outputs": [],
   "source": [
    "num.sort(reverse=True)"
   ]
  },
  {
   "cell_type": "code",
   "execution_count": 115,
   "id": "c2ca412f-514e-446b-8bbc-e36d0d7ab162",
   "metadata": {},
   "outputs": [
    {
     "data": {
      "text/plain": [
       "[6, 5, 5, 3, 2]"
      ]
     },
     "execution_count": 115,
     "metadata": {},
     "output_type": "execute_result"
    }
   ],
   "source": [
    "num"
   ]
  },
  {
   "cell_type": "code",
   "execution_count": 117,
   "id": "5e11916a-a012-4e87-8f82-b542d09c03f1",
   "metadata": {},
   "outputs": [],
   "source": [
    "#reverse"
   ]
  },
  {
   "cell_type": "code",
   "execution_count": 119,
   "id": "4b229e0d-eb2b-44e1-b5ee-48d26dbf1059",
   "metadata": {},
   "outputs": [],
   "source": [
    "number=[2,5,8,3,6,90]"
   ]
  },
  {
   "cell_type": "code",
   "execution_count": 121,
   "id": "a6a33aca-17c1-48d7-aaa7-d2ccf235cd43",
   "metadata": {},
   "outputs": [],
   "source": [
    "number.reverse()"
   ]
  },
  {
   "cell_type": "code",
   "execution_count": 123,
   "id": "53074bde-8965-453a-a09d-040d1491d341",
   "metadata": {},
   "outputs": [
    {
     "data": {
      "text/plain": [
       "[90, 6, 3, 8, 5, 2]"
      ]
     },
     "execution_count": 123,
     "metadata": {},
     "output_type": "execute_result"
    }
   ],
   "source": [
    "number"
   ]
  },
  {
   "cell_type": "code",
   "execution_count": null,
   "id": "46f63566-ad29-4922-836b-8c52e8400282",
   "metadata": {},
   "outputs": [],
   "source": [
    "#join"
   ]
  },
  {
   "cell_type": "code",
   "execution_count": 129,
   "id": "f092e5dc-3165-4462-980b-dc4abbebeea8",
   "metadata": {},
   "outputs": [
    {
     "data": {
      "text/plain": [
       "'2 5 8 3'"
      ]
     },
     "execution_count": 129,
     "metadata": {},
     "output_type": "execute_result"
    }
   ],
   "source": [
    "number=['2','5','8','3']\n",
    "number_string=' '.join(number)\n",
    "number_string"
   ]
  },
  {
   "cell_type": "code",
   "execution_count": null,
   "id": "46bea1f6-9999-4b42-b76d-8a51e7476bde",
   "metadata": {},
   "outputs": [],
   "source": [
    "#max()"
   ]
  },
  {
   "cell_type": "code",
   "execution_count": 131,
   "id": "d3555035-5d64-4bbe-ac8f-4877f2de70f3",
   "metadata": {},
   "outputs": [
    {
     "data": {
      "text/plain": [
       "90"
      ]
     },
     "execution_count": 131,
     "metadata": {},
     "output_type": "execute_result"
    }
   ],
   "source": [
    "numbers=[12,34,56,78,90]\n",
    "max(numbers)"
   ]
  },
  {
   "cell_type": "code",
   "execution_count": null,
   "id": "75e90ff0-5de4-47be-8566-186bad46fd3f",
   "metadata": {},
   "outputs": [],
   "source": [
    "#min"
   ]
  },
  {
   "cell_type": "code",
   "execution_count": 133,
   "id": "50a4b2ab-6c35-4ed1-8419-0fb720a1b8b4",
   "metadata": {},
   "outputs": [
    {
     "data": {
      "text/plain": [
       "12"
      ]
     },
     "execution_count": 133,
     "metadata": {},
     "output_type": "execute_result"
    }
   ],
   "source": [
    "numbers=[12,34,56,78,90]\n",
    "min(numbers)"
   ]
  },
  {
   "cell_type": "code",
   "execution_count": null,
   "id": "7de7aa59-2fd2-4cf3-b8ad-2d459f427f8c",
   "metadata": {},
   "outputs": [],
   "source": [
    "#sum"
   ]
  },
  {
   "cell_type": "code",
   "execution_count": 135,
   "id": "1621c1ea-3eab-4ae7-b915-89bb510aab42",
   "metadata": {},
   "outputs": [
    {
     "data": {
      "text/plain": [
       "270"
      ]
     },
     "execution_count": 135,
     "metadata": {},
     "output_type": "execute_result"
    }
   ],
   "source": [
    "numbers=[12,34,56,78,90]\n",
    "sum(numbers)"
   ]
  },
  {
   "cell_type": "code",
   "execution_count": null,
   "id": "b3c628e4-c8ea-45b3-989e-6f8c22779efb",
   "metadata": {},
   "outputs": [],
   "source": [
    "#len"
   ]
  },
  {
   "cell_type": "code",
   "execution_count": 137,
   "id": "703f6d78-a9f9-4093-9b14-ce80389b4ded",
   "metadata": {},
   "outputs": [
    {
     "data": {
      "text/plain": [
       "5"
      ]
     },
     "execution_count": 137,
     "metadata": {},
     "output_type": "execute_result"
    }
   ],
   "source": [
    "numbers=[12,34,56,78,90]\n",
    "len(numbers)"
   ]
  },
  {
   "cell_type": "code",
   "execution_count": null,
   "id": "c2c67ad6-2558-4d0e-a708-41a0cdef3fbe",
   "metadata": {},
   "outputs": [],
   "source": [
    "#all()"
   ]
  },
  {
   "cell_type": "code",
   "execution_count": 139,
   "id": "ff77292e-5929-4adb-9249-1c3615b926f2",
   "metadata": {},
   "outputs": [
    {
     "data": {
      "text/plain": [
       "False"
      ]
     },
     "execution_count": 139,
     "metadata": {},
     "output_type": "execute_result"
    }
   ],
   "source": [
    "bool_list=[True,False,True]\n",
    "all(bool_list)"
   ]
  },
  {
   "cell_type": "code",
   "execution_count": 141,
   "id": "f76dd7f1-a4f5-4b64-b640-abe31bc28381",
   "metadata": {},
   "outputs": [
    {
     "data": {
      "text/plain": [
       "True"
      ]
     },
     "execution_count": 141,
     "metadata": {},
     "output_type": "execute_result"
    }
   ],
   "source": [
    "all(numbers)"
   ]
  },
  {
   "cell_type": "code",
   "execution_count": null,
   "id": "64d238bc-8da4-437b-8be0-4aef5f8b9b3c",
   "metadata": {},
   "outputs": [],
   "source": [
    "#any"
   ]
  },
  {
   "cell_type": "code",
   "execution_count": 143,
   "id": "c7acf9a0-fe14-4344-af96-9bf1562677a6",
   "metadata": {},
   "outputs": [],
   "source": [
    "bool_list=[False,False,True]"
   ]
  },
  {
   "cell_type": "code",
   "execution_count": 145,
   "id": "cf8dc573-6b23-4af9-9199-1971ff3d0437",
   "metadata": {},
   "outputs": [
    {
     "data": {
      "text/plain": [
       "True"
      ]
     },
     "execution_count": 145,
     "metadata": {},
     "output_type": "execute_result"
    }
   ],
   "source": [
    "any(bool_list)"
   ]
  },
  {
   "cell_type": "code",
   "execution_count": 43,
   "id": "b851895a-edca-40cf-8804-e53e6661c453",
   "metadata": {},
   "outputs": [
    {
     "data": {
      "text/plain": [
       "True"
      ]
     },
     "execution_count": 43,
     "metadata": {},
     "output_type": "execute_result"
    }
   ],
   "source": [
    "\n",
    "bool_list=[True,False,False]\n",
    "any(bool_list)"
   ]
  },
  {
   "cell_type": "code",
   "execution_count": null,
   "id": "736d8ee9-9224-4dc3-903c-340ff4b48f1e",
   "metadata": {},
   "outputs": [],
   "source": [
    "#sort"
   ]
  },
  {
   "cell_type": "code",
   "execution_count": 45,
   "id": "ebf75543-1d7a-411a-8a00-b506a0d7f5cd",
   "metadata": {},
   "outputs": [
    {
     "data": {
      "text/plain": [
       "[7, 8, 3, 4, 85, 4]"
      ]
     },
     "execution_count": 45,
     "metadata": {},
     "output_type": "execute_result"
    }
   ],
   "source": [
    "no=[7,8,3,4,85,4]\n",
    "no\n"
   ]
  },
  {
   "cell_type": "code",
   "execution_count": 49,
   "id": "42eca5d7-5ce6-4046-9eaa-bd12735b183a",
   "metadata": {},
   "outputs": [],
   "source": [
    "\n",
    "no.sort()"
   ]
  },
  {
   "cell_type": "code",
   "execution_count": 51,
   "id": "c04de4cd-8391-46c0-a0c1-4d52a979d23d",
   "metadata": {},
   "outputs": [
    {
     "data": {
      "text/plain": [
       "[3, 4, 4, 7, 8, 85]"
      ]
     },
     "execution_count": 51,
     "metadata": {},
     "output_type": "execute_result"
    }
   ],
   "source": [
    "no"
   ]
  },
  {
   "cell_type": "code",
   "execution_count": 53,
   "id": "13a2d9a7-6d61-439c-9112-a2223fecdfa6",
   "metadata": {},
   "outputs": [],
   "source": [
    "a=[8,9,4,6,309]"
   ]
  },
  {
   "cell_type": "code",
   "execution_count": 55,
   "id": "18af8479-d27e-41eb-a932-3ccba264c5a6",
   "metadata": {},
   "outputs": [
    {
     "data": {
      "text/plain": [
       "[4, 6, 8, 9, 309]"
      ]
     },
     "execution_count": 55,
     "metadata": {},
     "output_type": "execute_result"
    }
   ],
   "source": [
    "\n",
    "sorted(a)"
   ]
  },
  {
   "cell_type": "code",
   "execution_count": 57,
   "id": "334f41fb-e2f4-486f-8668-e598e17316eb",
   "metadata": {},
   "outputs": [],
   "source": [
    "#list comprehension"
   ]
  },
  {
   "cell_type": "code",
   "execution_count": 59,
   "id": "36cc840e-472e-406c-91b3-0b836133699c",
   "metadata": {},
   "outputs": [
    {
     "data": {
      "text/plain": [
       "(1, 2, 3, 4, 5)"
      ]
     },
     "execution_count": 59,
     "metadata": {},
     "output_type": "execute_result"
    }
   ],
   "source": [
    "squares=[i**2 for i in range(1,6)]\n",
    "1,2,3,4,5"
   ]
  },
  {
   "cell_type": "code",
   "execution_count": 61,
   "id": "0922b54d-96af-4a50-987e-52b4d4680f2b",
   "metadata": {},
   "outputs": [],
   "source": [
    "for i in range(1,7):\n",
    "    squares.append(i**2)"
   ]
  },
  {
   "cell_type": "code",
   "execution_count": 63,
   "id": "57a118bc-005a-43c7-b633-01da260a3a8c",
   "metadata": {},
   "outputs": [
    {
     "data": {
      "text/plain": [
       "[1, 4, 9, 16, 25, 1, 4, 9, 16, 25, 36]"
      ]
     },
     "execution_count": 63,
     "metadata": {},
     "output_type": "execute_result"
    }
   ],
   "source": [
    "squares"
   ]
  },
  {
   "cell_type": "code",
   "execution_count": 65,
   "id": "4887137a-fa7a-41e4-8a97-a3a3a43f247f",
   "metadata": {},
   "outputs": [],
   "source": [
    "squres=[i**2 for i in range(1,6)]"
   ]
  },
  {
   "cell_type": "code",
   "execution_count": 67,
   "id": "7ff54492-c5ca-493c-880c-9dafe4cdaf27",
   "metadata": {},
   "outputs": [
    {
     "data": {
      "text/plain": [
       "[1, 4, 9, 16, 25]"
      ]
     },
     "execution_count": 67,
     "metadata": {},
     "output_type": "execute_result"
    }
   ],
   "source": [
    "\n",
    "squres"
   ]
  },
  {
   "cell_type": "code",
   "execution_count": 69,
   "id": "0ecc4dd0-5c9b-4fc6-a462-e1a954034efb",
   "metadata": {},
   "outputs": [],
   "source": [
    "even_squares=[i**2 for i in range(1,12) if i%2==0]"
   ]
  },
  {
   "cell_type": "code",
   "execution_count": 71,
   "id": "95ecc981-ac05-469c-9e5c-1ceebb35da93",
   "metadata": {},
   "outputs": [
    {
     "data": {
      "text/plain": [
       "[4, 16, 36, 64, 100]"
      ]
     },
     "execution_count": 71,
     "metadata": {},
     "output_type": "execute_result"
    }
   ],
   "source": [
    "\n",
    "even_squares"
   ]
  },
  {
   "cell_type": "code",
   "execution_count": 73,
   "id": "9b9e73e9-4b05-4ec6-8b4a-7156907c328c",
   "metadata": {},
   "outputs": [],
   "source": [
    "even_squares=[]\n",
    "for i in range(1,11):\n",
    "    if i % 2==0:\n",
    "        even_squares.append(i**2)"
   ]
  },
  {
   "cell_type": "code",
   "execution_count": 75,
   "id": "f38ff95c-bc23-4bb1-8411-f8fe7a8b1d18",
   "metadata": {},
   "outputs": [
    {
     "data": {
      "text/plain": [
       "[4, 16, 36, 64, 100]"
      ]
     },
     "execution_count": 75,
     "metadata": {},
     "output_type": "execute_result"
    }
   ],
   "source": [
    "\n",
    "even_squares"
   ]
  },
  {
   "cell_type": "code",
   "execution_count": null,
   "id": "4f3e9670-40d9-434d-8cfd-7a171ca3aa21",
   "metadata": {},
   "outputs": [],
   "source": [
    "#nested for loop"
   ]
  },
  {
   "cell_type": "code",
   "execution_count": 176,
   "id": "6a0882ad-eec9-4e70-8e30-3a282606b291",
   "metadata": {},
   "outputs": [
    {
     "data": {
      "text/plain": [
       "[[0, 0, 0], [0, 1, 2], [0, 2, 4]]"
      ]
     },
     "execution_count": 176,
     "metadata": {},
     "output_type": "execute_result"
    }
   ],
   "source": [
    "matrix=[]\n",
    "for i in range(3):\n",
    "  row=[]\n",
    "  for j in range(3):\n",
    "      row.append(i * j)\n",
    "  matrix.append(row)\n",
    "\n",
    "matrix\n"
   ]
  },
  {
   "cell_type": "code",
   "execution_count": null,
   "id": "7711c723-60ef-498b-8654-27109b4a6f0d",
   "metadata": {},
   "outputs": [],
   "source": [
    "#nested list comprehension"
   ]
  },
  {
   "cell_type": "code",
   "execution_count": 16,
   "id": "68153e3f-3e52-4ff9-a281-e0ac3cbb7046",
   "metadata": {},
   "outputs": [],
   "source": [
    "matrix=[[1 * j for j in range(3)]for i in range(3)]"
   ]
  },
  {
   "cell_type": "code",
   "execution_count": 18,
   "id": "482703ac-c918-4893-88af-84483867a2fe",
   "metadata": {},
   "outputs": [
    {
     "data": {
      "text/plain": [
       "[[0, 1, 2], [0, 1, 2], [0, 1, 2]]"
      ]
     },
     "execution_count": 18,
     "metadata": {},
     "output_type": "execute_result"
    }
   ],
   "source": [
    "matrix"
   ]
  },
  {
   "cell_type": "code",
   "execution_count": 21,
   "id": "a0d31e6d-9427-4bb8-b5c1-7bc5c08be8c0",
   "metadata": {},
   "outputs": [
    {
     "data": {
      "text/plain": [
       "['wake up', 'brush teeth', 'have breakfast', 'go for a run', 'start working']"
      ]
     },
     "execution_count": 21,
     "metadata": {},
     "output_type": "execute_result"
    }
   ],
   "source": [
    "tasks=[\"wake up\",\"brush teeth\",\"go for a run\",\"start working\"]\n",
    "tasks.insert(2,(\"have breakfast\"))\n",
    "tasks"
   ]
  },
  {
   "cell_type": "code",
   "execution_count": 23,
   "id": "5db73bde-bf13-4a87-9a7c-c3e21a8e6bcd",
   "metadata": {},
   "outputs": [
    {
     "data": {
      "text/plain": [
       "[7, 6, 4, 2, 1]"
      ]
     },
     "execution_count": 23,
     "metadata": {},
     "output_type": "execute_result"
    }
   ],
   "source": [
    "number=[1,2,4,6,7]\n",
    "number.reverse()\n",
    "number"
   ]
  },
  {
   "cell_type": "code",
   "execution_count": 25,
   "id": "026353b2-011d-4dc8-83f5-61c20bda41d4",
   "metadata": {},
   "outputs": [
    {
     "data": {
      "text/plain": [
       "['Alice', 'Bob', 'Charlie']"
      ]
     },
     "execution_count": 25,
     "metadata": {},
     "output_type": "execute_result"
    }
   ],
   "source": [
    "students = [\"Alice\", \"Bob\", \"Charlie\", \"David\", \"Eva\"]\n",
    "students[:3]"
   ]
  },
  {
   "cell_type": "code",
   "execution_count": 27,
   "id": "d8b74480-9cfd-4df8-9da1-0bdfafe0f6d2",
   "metadata": {},
   "outputs": [
    {
     "data": {
      "text/plain": [
       "[10, 20, 35, 40, 50]"
      ]
     },
     "execution_count": 27,
     "metadata": {},
     "output_type": "execute_result"
    }
   ],
   "source": [
    "scores=[10,20,30,40,50]\n",
    "scores[2]=35\n",
    "scores"
   ]
  },
  {
   "cell_type": "code",
   "execution_count": 29,
   "id": "25e21ce7-663e-4dda-adcc-9f9cf804f409",
   "metadata": {},
   "outputs": [
    {
     "data": {
      "text/plain": [
       "['apple', 'banana', 'date']"
      ]
     },
     "execution_count": 29,
     "metadata": {},
     "output_type": "execute_result"
    }
   ],
   "source": [
    "fruits=['apple','banana','cherry','date']\n",
    "fruits.remove('cherry')\n",
    "fruits"
   ]
  },
  {
   "cell_type": "code",
   "execution_count": 31,
   "id": "b9c763b2-0bd5-440e-9b06-73bf5ae42ce7",
   "metadata": {},
   "outputs": [
    {
     "data": {
      "text/plain": [
       "2"
      ]
     },
     "execution_count": 31,
     "metadata": {},
     "output_type": "execute_result"
    }
   ],
   "source": [
    "\n",
    "colors = [\"Red\", \"Green\", \"Blue\", \"Yellow\", \"Purple\"]\n",
    "colors.index('Blue')"
   ]
  },
  {
   "cell_type": "code",
   "execution_count": 33,
   "id": "094fdb5b-d764-495d-aa2d-38d67f6bb921",
   "metadata": {},
   "outputs": [
    {
     "data": {
      "text/plain": [
       "[1, 2, 4, 5, 9]"
      ]
     },
     "execution_count": 33,
     "metadata": {},
     "output_type": "execute_result"
    }
   ],
   "source": [
    "numbers = [4, 2, 9, 1, 5]\n",
    "numbers.sort()\n",
    "numbers"
   ]
  },
  {
   "cell_type": "code",
   "execution_count": 35,
   "id": "ac7106fe-8390-4abc-8bb9-59fa85a4cce3",
   "metadata": {},
   "outputs": [
    {
     "data": {
      "text/plain": [
       "['Carrot', 'onion', 'Tomato', 'Cucumber', 'Brinjal']"
      ]
     },
     "execution_count": 35,
     "metadata": {},
     "output_type": "execute_result"
    }
   ],
   "source": [
    "\n",
    "vegetables = [\"Carrot\", \"onion\", \"Tomato\"]\n",
    "more_veg=(\"Cucumber\",\"Brinjal\")\n",
    "vegetables.extend(more_veg)\n",
    "vegetables"
   ]
  },
  {
   "cell_type": "code",
   "execution_count": 37,
   "id": "f107990c-a09a-4b44-b8fa-7c67b085e6e1",
   "metadata": {},
   "outputs": [
    {
     "data": {
      "text/plain": [
       "'Phoenix'"
      ]
     },
     "execution_count": 37,
     "metadata": {},
     "output_type": "execute_result"
    }
   ],
   "source": [
    "\n",
    "cities = [\"New York\", \"Los Angeles\", \"Chicago\", \"Houston\", \"Phoenix\"]\n",
    "cities.pop(4)"
   ]
  },
  {
   "cell_type": "code",
   "execution_count": 39,
   "id": "0da5c3a0-df2c-4deb-8bee-20baf4a54672",
   "metadata": {},
   "outputs": [
    {
     "data": {
      "text/plain": [
       "['New York', 'Los Angeles', 'Chicago', 'Houston']"
      ]
     },
     "execution_count": 39,
     "metadata": {},
     "output_type": "execute_result"
    }
   ],
   "source": [
    "\n",
    "cities"
   ]
  },
  {
   "cell_type": "code",
   "execution_count": 41,
   "id": "552fdb23-e935-4eef-874c-739eee565718",
   "metadata": {},
   "outputs": [
    {
     "data": {
      "text/plain": [
       "3"
      ]
     },
     "execution_count": 41,
     "metadata": {},
     "output_type": "execute_result"
    }
   ],
   "source": [
    "grades = [90, 85, 90, 65, 75, 90]\n",
    "grades.count(90)"
   ]
  },
  {
   "cell_type": "code",
   "execution_count": null,
   "id": "c697c935-a4cf-4756-ab9a-a03a94d11a55",
   "metadata": {},
   "outputs": [],
   "source": []
  }
 ],
 "metadata": {
  "kernelspec": {
   "display_name": "Python [conda env:base] *",
   "language": "python",
   "name": "conda-base-py"
  },
  "language_info": {
   "codemirror_mode": {
    "name": "ipython",
    "version": 3
   },
   "file_extension": ".py",
   "mimetype": "text/x-python",
   "name": "python",
   "nbconvert_exporter": "python",
   "pygments_lexer": "ipython3",
   "version": "3.12.7"
  }
 },
 "nbformat": 4,
 "nbformat_minor": 5
}
