{
 "cells": [
  {
   "cell_type": "code",
   "execution_count": null,
   "id": "1dcba21a-7ba7-4658-9b8f-bc262af3dc8d",
   "metadata": {},
   "outputs": [],
   "source": [
    "##median"
   ]
  },
  {
   "cell_type": "code",
   "execution_count": 16,
   "id": "e0be450e-faee-4657-8cf5-3ee34c5a3f31",
   "metadata": {},
   "outputs": [
    {
     "name": "stdout",
     "output_type": "stream",
     "text": [
      "median Income: 65000.0\n"
     ]
    }
   ],
   "source": [
    "import numpy as np \n",
    "incomes = np.array([45000,55000,65000,60000,70000,80000,90000])\n",
    "median_income=np.median(incomes)\n",
    "print(\"median Income:\",median_income)"
   ]
  },
  {
   "cell_type": "code",
   "execution_count": null,
   "id": "66050be9-c653-46ce-9cc8-53d42d6530e4",
   "metadata": {},
   "outputs": [],
   "source": [
    "##mean"
   ]
  },
  {
   "cell_type": "code",
   "execution_count": 4,
   "id": "dfa496f7-fc64-421d-a3c2-1e6711c37527",
   "metadata": {},
   "outputs": [
    {
     "name": "stdout",
     "output_type": "stream",
     "text": [
      "avg temp: 43.333333333333336\n"
     ]
    }
   ],
   "source": [
    "import numpy as np\n",
    "\n",
    "temp=np.array([34,56,78,3,22,67])\n",
    "avg_temp=np.mean(temp)\n",
    "print(\"avg temp:\",avg_temp)"
   ]
  },
  {
   "cell_type": "code",
   "execution_count": null,
   "id": "0a7a666d-cbe9-449e-8f3d-64a308a987a4",
   "metadata": {},
   "outputs": [],
   "source": [
    "## standard deviation"
   ]
  },
  {
   "cell_type": "code",
   "execution_count": 18,
   "id": "0c456a67-b279-4698-8fbe-435a9d4e27d2",
   "metadata": {},
   "outputs": [],
   "source": [
    "classA = np.array([73,55,78,33])\n",
    "\n",
    "classB = np.array([83,48,67,22])"
   ]
  },
  {
   "cell_type": "code",
   "execution_count": 20,
   "id": "56e84b03-1bd6-4731-aaad-02908b6848e5",
   "metadata": {},
   "outputs": [
    {
     "data": {
      "text/plain": [
       "17.65467360219384"
      ]
     },
     "execution_count": 20,
     "metadata": {},
     "output_type": "execute_result"
    }
   ],
   "source": [
    "np.std(classA)"
   ]
  },
  {
   "cell_type": "code",
   "execution_count": 22,
   "id": "0f01fe8a-4255-475d-8e81-931326d726c1",
   "metadata": {},
   "outputs": [
    {
     "data": {
      "text/plain": [
       "22.726636354727024"
      ]
     },
     "execution_count": 22,
     "metadata": {},
     "output_type": "execute_result"
    }
   ],
   "source": [
    "np.std(classB)"
   ]
  },
  {
   "cell_type": "code",
   "execution_count": null,
   "id": "03120073-eac9-49be-bb5f-8160703f6675",
   "metadata": {},
   "outputs": [],
   "source": []
  },
  {
   "cell_type": "code",
   "execution_count": 25,
   "id": "05f7ffdd-f382-400f-85e1-96f8b348caa8",
   "metadata": {},
   "outputs": [],
   "source": [
    "prd_a=np.array([4,3])\n",
    "prd_b=np.array([2,8])"
   ]
  },
  {
   "cell_type": "code",
   "execution_count": 27,
   "id": "8af378a8-7a56-452b-bdcf-b317480260c2",
   "metadata": {},
   "outputs": [
    {
     "data": {
      "text/plain": [
       "0.25"
      ]
     },
     "execution_count": 27,
     "metadata": {},
     "output_type": "execute_result"
    }
   ],
   "source": [
    "np.var(prd_a)"
   ]
  },
  {
   "cell_type": "code",
   "execution_count": 29,
   "id": "a3633f56-6e3d-47b3-a952-41a7be4bca55",
   "metadata": {},
   "outputs": [
    {
     "data": {
      "text/plain": [
       "9.0"
      ]
     },
     "execution_count": 29,
     "metadata": {},
     "output_type": "execute_result"
    }
   ],
   "source": [
    "np.var(prd_b)"
   ]
  },
  {
   "cell_type": "code",
   "execution_count": 31,
   "id": "28203982-1f9f-4d36-8df7-e6a984b7a1a9",
   "metadata": {},
   "outputs": [
    {
     "name": "stdout",
     "output_type": "stream",
     "text": [
      "Min Traffic: 1200\n",
      "Min Traffic: 8300\n"
     ]
    }
   ],
   "source": [
    "daily_traffic=np.array([1200,2345,6678,8300,3567])\n",
    "print(\"Min Traffic:\",np.min(daily_traffic))\n",
    "print(\"Min Traffic:\",np.max(daily_traffic))"
   ]
  },
  {
   "cell_type": "code",
   "execution_count": 33,
   "id": "afc98642-7a3f-40e2-9d34-ad6049e29475",
   "metadata": {},
   "outputs": [
    {
     "name": "stdout",
     "output_type": "stream",
     "text": [
      "total weekly sales: 22090\n"
     ]
    }
   ],
   "source": [
    "sales=np.array([1200,2345,6678,8300,3567])\n",
    "total_sales=np.sum(sales)\n",
    "print(\"total weekly sales:\",total_sales)"
   ]
  },
  {
   "cell_type": "code",
   "execution_count": 39,
   "id": "ba23824e-32b3-4642-98f9-83eafe09a6bc",
   "metadata": {},
   "outputs": [
    {
     "name": "stdout",
     "output_type": "stream",
     "text": [
      "25th percentile: 26.5\n",
      "50th percentile(Median): 72.0\n",
      "75th percentile: 528.0\n",
      "90th percentile: 10289.199999999966\n"
     ]
    }
   ],
   "source": [
    "test_scores=np.array([78,28,27,66,4,72,26,46,22,11,378,47498,83984,334,678,234,7,987,907])\n",
    "print(\"25th percentile:\",np.percentile(test_scores,25))\n",
    "print(\"50th percentile(Median):\",np.percentile(test_scores,50))\n",
    "print(\"75th percentile:\",np.percentile(test_scores,75))\n",
    "print(\"90th percentile:\",np.percentile(test_scores,90))"
   ]
  },
  {
   "cell_type": "code",
   "execution_count": 41,
   "id": "b7b11a45-3df0-4bdf-8ce1-8e5eeccb210d",
   "metadata": {},
   "outputs": [],
   "source": [
    "import numpy as np\n",
    "\n",
    "arr=np.array([1,2,3,4,5])\n",
    "\n",
    "np.save('my_array.npy',arr)\n"
   ]
  },
  {
   "cell_type": "code",
   "execution_count": 47,
   "id": "be73d8f9-5731-40fc-98c2-679d40e2dd40",
   "metadata": {},
   "outputs": [
    {
     "name": "stdout",
     "output_type": "stream",
     "text": [
      "[1 2 3 4 5]\n"
     ]
    }
   ],
   "source": [
    "loaded_arr=np.load('my_array.npy')\n",
    "print(loaded_arr)"
   ]
  },
  {
   "cell_type": "code",
   "execution_count": 63,
   "id": "17de6863-ea48-4e2b-bb4b-b355de95488e",
   "metadata": {},
   "outputs": [],
   "source": [
    "arr=np.array([[1,2,3],[4,5,6]])\n",
    "np.savetxt('array.txt',arr)"
   ]
  },
  {
   "cell_type": "code",
   "execution_count": null,
   "id": "284cc1b9-b0c4-4987-9f2b-554b911d2290",
   "metadata": {},
   "outputs": [],
   "source": []
  }
 ],
 "metadata": {
  "kernelspec": {
   "display_name": "Python [conda env:base] *",
   "language": "python",
   "name": "conda-base-py"
  },
  "language_info": {
   "codemirror_mode": {
    "name": "ipython",
    "version": 3
   },
   "file_extension": ".py",
   "mimetype": "text/x-python",
   "name": "python",
   "nbconvert_exporter": "python",
   "pygments_lexer": "ipython3",
   "version": "3.12.7"
  }
 },
 "nbformat": 4,
 "nbformat_minor": 5
}
