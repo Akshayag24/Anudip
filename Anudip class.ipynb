{
 "cells": [
  {
   "cell_type": "code",
   "execution_count": 3,
   "id": "694a5496-694b-4673-aee5-f1702d0e2a06",
   "metadata": {},
   "outputs": [
    {
     "name": "stdout",
     "output_type": "stream",
     "text": [
      "hello world!\n"
     ]
    }
   ],
   "source": [
    "print(\"hello world!\")"
   ]
  },
  {
   "cell_type": "code",
   "execution_count": 12,
   "id": "150ede27-2805-46ff-9289-44028563b9da",
   "metadata": {},
   "outputs": [
    {
     "name": "stdout",
     "output_type": "stream",
     "text": [
      "10 15\n"
     ]
    }
   ],
   "source": [
    "A=10\n",
    "a=15\n",
    "print(A,a)"
   ]
  },
  {
   "cell_type": "markdown",
   "id": "6ab41746-4bf2-411b-8d5c-4fc751f09e19",
   "metadata": {},
   "source": [
    "##first session"
   ]
  },
  {
   "cell_type": "code",
   "execution_count": 16,
   "id": "e2204612-0a52-42b3-b47d-8963fbaa91be",
   "metadata": {},
   "outputs": [
    {
     "name": "stdout",
     "output_type": "stream",
     "text": [
      "achu\n"
     ]
    }
   ],
   "source": [
    "print('achu')"
   ]
  },
  {
   "cell_type": "code",
   "execution_count": 18,
   "id": "f6223110-30cc-4edc-9b51-678c45dc8551",
   "metadata": {},
   "outputs": [
    {
     "name": "stdout",
     "output_type": "stream",
     "text": [
      "3\n"
     ]
    }
   ],
   "source": [
    "print(3)"
   ]
  },
  {
   "cell_type": "code",
   "execution_count": 20,
   "id": "2d65919b-be02-44e1-9bc5-662002b1cea2",
   "metadata": {},
   "outputs": [
    {
     "name": "stdout",
     "output_type": "stream",
     "text": [
      "-0.87\n"
     ]
    }
   ],
   "source": [
    "print(-0.87)"
   ]
  },
  {
   "cell_type": "code",
   "execution_count": 24,
   "id": "d866e005-a8d4-4910-8944-e335aa415f29",
   "metadata": {},
   "outputs": [
    {
     "name": "stdout",
     "output_type": "stream",
     "text": [
      "hello-world\n"
     ]
    }
   ],
   "source": [
    "print('hello',end='-')\n",
    "print('world')"
   ]
  },
  {
   "cell_type": "code",
   "execution_count": 28,
   "id": "b8ca2097-7a3e-4aff-a375-8ef571f2ff3e",
   "metadata": {},
   "outputs": [
    {
     "data": {
      "text/plain": [
       "float"
      ]
     },
     "execution_count": 28,
     "metadata": {},
     "output_type": "execute_result"
    }
   ],
   "source": [
    "a=56.8\n",
    "type(a)"
   ]
  },
  {
   "cell_type": "code",
   "execution_count": 32,
   "id": "d04edf72-1f3d-4040-b2d7-0a119595122d",
   "metadata": {},
   "outputs": [
    {
     "data": {
      "text/plain": [
       "complex"
      ]
     },
     "execution_count": 32,
     "metadata": {},
     "output_type": "execute_result"
    }
   ],
   "source": [
    "z=4+3j\n",
    "type(z)"
   ]
  },
  {
   "cell_type": "code",
   "execution_count": 34,
   "id": "6dc0faa3-b016-45cb-b14d-677eda6ffe88",
   "metadata": {},
   "outputs": [
    {
     "data": {
      "text/plain": [
       "list"
      ]
     },
     "execution_count": 34,
     "metadata": {},
     "output_type": "execute_result"
    }
   ],
   "source": [
    "lis=[\"apple\",2,4,5]\n",
    "type(lis)"
   ]
  },
  {
   "cell_type": "code",
   "execution_count": 40,
   "id": "d2491149-d37e-46dd-87d5-79a5d46329e0",
   "metadata": {},
   "outputs": [
    {
     "data": {
      "text/plain": [
       "tuple"
      ]
     },
     "execution_count": 40,
     "metadata": {},
     "output_type": "execute_result"
    }
   ],
   "source": [
    "point=(7,5)\n",
    "type(point)"
   ]
  },
  {
   "cell_type": "code",
   "execution_count": 42,
   "id": "30bb759b-05af-4b09-b031-72f006e41213",
   "metadata": {},
   "outputs": [
    {
     "data": {
      "text/plain": [
       "tuple"
      ]
     },
     "execution_count": 42,
     "metadata": {},
     "output_type": "execute_result"
    }
   ],
   "source": [
    "achu=(\"wait\",69,\"love\")\n",
    "type(achu)"
   ]
  },
  {
   "cell_type": "code",
   "execution_count": 44,
   "id": "3f44ccbb-af67-4127-91d8-b3f6fbaa1a34",
   "metadata": {},
   "outputs": [
    {
     "data": {
      "text/plain": [
       "{1, 2, 3, 4, 5}"
      ]
     },
     "execution_count": 44,
     "metadata": {},
     "output_type": "execute_result"
    }
   ],
   "source": [
    "unique={1,2,2,3,4,5}\n",
    "unique"
   ]
  },
  {
   "cell_type": "code",
   "execution_count": 46,
   "id": "bca534e9-bbae-4200-9aad-e7dec7572287",
   "metadata": {},
   "outputs": [
    {
     "data": {
      "text/plain": [
       "set"
      ]
     },
     "execution_count": 46,
     "metadata": {},
     "output_type": "execute_result"
    }
   ],
   "source": [
    "type(unique)"
   ]
  },
  {
   "cell_type": "code",
   "execution_count": null,
   "id": "a852c117-9ff2-453b-9ac3-494a24a747a3",
   "metadata": {},
   "outputs": [],
   "source": []
  }
 ],
 "metadata": {
  "kernelspec": {
   "display_name": "Python [conda env:base] *",
   "language": "python",
   "name": "conda-base-py"
  },
  "language_info": {
   "codemirror_mode": {
    "name": "ipython",
    "version": 3
   },
   "file_extension": ".py",
   "mimetype": "text/x-python",
   "name": "python",
   "nbconvert_exporter": "python",
   "pygments_lexer": "ipython3",
   "version": "3.12.7"
  }
 },
 "nbformat": 4,
 "nbformat_minor": 5
}
