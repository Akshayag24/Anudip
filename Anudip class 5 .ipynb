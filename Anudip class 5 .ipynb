{
 "cells": [
  {
   "cell_type": "code",
   "execution_count": 2,
   "id": "10839670-e24d-48ac-ac17-4af3c57fce3e",
   "metadata": {},
   "outputs": [
    {
     "name": "stdout",
     "output_type": "stream",
     "text": [
      "12\n",
      "14\n",
      "16\n",
      "18\n",
      "20\n",
      "22\n",
      "24\n",
      "26\n",
      "28\n"
     ]
    }
   ],
   "source": [
    "#for a list of numbers print only the ones that are both even and greater than 10\n",
    "for i in range(30):\n",
    "    if i%2==0 and i>10:\n",
    "        print(i)"
   ]
  },
  {
   "cell_type": "code",
   "execution_count": 4,
   "id": "56a5c875-33ad-411e-9b42-a011ebdc7ec9",
   "metadata": {},
   "outputs": [
    {
     "name": "stdout",
     "output_type": "stream",
     "text": [
      "11 is a prime number\n",
      "13 is a prime number\n",
      "15 is a prime number\n",
      "17 is a prime number\n",
      "19 is a prime number\n",
      "21 is a prime number\n",
      "23 is a prime number\n",
      "25 is a prime number\n",
      "27 is a prime number\n",
      "29 is a prime number\n",
      "31 is a prime number\n",
      "33 is a prime number\n",
      "35 is a prime number\n",
      "37 is a prime number\n",
      "39 is a prime number\n",
      "41 is a prime number\n",
      "43 is a prime number\n",
      "45 is a prime number\n",
      "47 is a prime number\n",
      "49 is a prime number\n"
     ]
    }
   ],
   "source": [
    "for i in range(10,50):\n",
    "    if i%2!=0:\n",
    "        print(f'{i} is a prime number')"
   ]
  },
  {
   "cell_type": "code",
   "execution_count": 6,
   "id": "4308e4ec-8fd2-41fe-8244-870f63d80766",
   "metadata": {},
   "outputs": [
    {
     "name": "stdout",
     "output_type": "stream",
     "text": [
      "1\n",
      "2\n",
      "3\n"
     ]
    }
   ],
   "source": [
    "i = [1,2,3,4,5]\n",
    "for numbers in i:\n",
    "    if numbers == 4:\n",
    "        break\n",
    "    print(numbers)  \n"
   ]
  },
  {
   "cell_type": "code",
   "execution_count": 8,
   "id": "c2a0c86d-9602-4bc8-9450-fe901ce2b8c9",
   "metadata": {},
   "outputs": [
    {
     "name": "stdout",
     "output_type": "stream",
     "text": [
      "1\n",
      "2\n",
      "3\n",
      "4\n",
      "6\n",
      "7\n"
     ]
    }
   ],
   "source": [
    "i=[1,2,3,4,5,6,7]\n",
    "for numbers in i:\n",
    "    if numbers == 5:\n",
    "        continue\n",
    "    print(numbers) "
   ]
  },
  {
   "cell_type": "code",
   "execution_count": 10,
   "id": "a4ac1eb8-1747-412e-a48b-916c6acff420",
   "metadata": {},
   "outputs": [
    {
     "name": "stdout",
     "output_type": "stream",
     "text": [
      "current number is: 10\n",
      "current number is: 8\n",
      "current number is: 6\n",
      "current number is: 4\n",
      "current number is: 2\n"
     ]
    }
   ],
   "source": [
    "#while\n",
    "number = 10\n",
    "while number>0:\n",
    "    print(\"current number is:\",number)\n",
    "    number-=2"
   ]
  },
  {
   "cell_type": "code",
   "execution_count": 12,
   "id": "dec7b357-92c3-4477-9cb9-50e858965152",
   "metadata": {},
   "outputs": [
    {
     "name": "stdout",
     "output_type": "stream",
     "text": [
      "x is: 3\n",
      "x is: 2\n",
      "x is: 1\n",
      "loop has ended\n"
     ]
    }
   ],
   "source": [
    "x=3\n",
    "while x>0:\n",
    "    print(\"x is:\", x)\n",
    "    x-=1\n",
    "else:\n",
    "    print(\"loop has ended\")"
   ]
  },
  {
   "cell_type": "code",
   "execution_count": 14,
   "id": "215616f6-4a8b-47b5-b573-977b0cbe6b8f",
   "metadata": {},
   "outputs": [
    {
     "name": "stdout",
     "output_type": "stream",
     "text": [
      "x is: 3\n",
      "x is: 2\n",
      "x is: 1\n",
      "loop has ended\n"
     ]
    }
   ],
   "source": [
    "#infinite while loop \n",
    "#if the condition in a while loop never becomes false, the loop continues indefinitely\n",
    "x=3\n",
    "while x>0:\n",
    "    print(\"x is:\", x)\n",
    "    x-=1\n",
    "else:\n",
    "    print(\"loop has ended\")"
   ]
  },
  {
   "cell_type": "code",
   "execution_count": 16,
   "id": "ba337fbb-c5b6-45d8-b6fd-1c197ef91a2b",
   "metadata": {},
   "outputs": [],
   "source": [
    "str=\"Good Evening\""
   ]
  },
  {
   "cell_type": "code",
   "execution_count": 18,
   "id": "0ff0a8de-dc50-4970-9826-dd96de23672f",
   "metadata": {},
   "outputs": [
    {
     "data": {
      "text/plain": [
       "str"
      ]
     },
     "execution_count": 18,
     "metadata": {},
     "output_type": "execute_result"
    }
   ],
   "source": [
    "type(str)"
   ]
  },
  {
   "cell_type": "code",
   "execution_count": 20,
   "id": "cc10c90f-bff8-4d35-81c9-896fe8f7ed31",
   "metadata": {},
   "outputs": [
    {
     "data": {
      "text/plain": [
       "12"
      ]
     },
     "execution_count": 20,
     "metadata": {},
     "output_type": "execute_result"
    }
   ],
   "source": [
    "len(str)"
   ]
  },
  {
   "cell_type": "code",
   "execution_count": 22,
   "id": "fe12f379-fc80-4de9-a37e-7b7654d958f8",
   "metadata": {},
   "outputs": [
    {
     "data": {
      "text/plain": [
       "'v'"
      ]
     },
     "execution_count": 22,
     "metadata": {},
     "output_type": "execute_result"
    }
   ],
   "source": [
    "str[6]"
   ]
  },
  {
   "cell_type": "code",
   "execution_count": 24,
   "id": "ef6fea2c-e020-4057-9dc9-6401715d2ff5",
   "metadata": {},
   "outputs": [
    {
     "data": {
      "text/plain": [
       "'g'"
      ]
     },
     "execution_count": 24,
     "metadata": {},
     "output_type": "execute_result"
    }
   ],
   "source": [
    "str[11]"
   ]
  },
  {
   "cell_type": "code",
   "execution_count": 26,
   "id": "26660833-b55d-4486-acc3-7897d801328c",
   "metadata": {},
   "outputs": [
    {
     "data": {
      "text/plain": [
       "'g'"
      ]
     },
     "execution_count": 26,
     "metadata": {},
     "output_type": "execute_result"
    }
   ],
   "source": [
    "str[-1]"
   ]
  },
  {
   "cell_type": "code",
   "execution_count": 28,
   "id": "29b9131d-c718-4869-b270-f30bdd4dad77",
   "metadata": {},
   "outputs": [],
   "source": [
    "a=\"python programming\""
   ]
  },
  {
   "cell_type": "code",
   "execution_count": 30,
   "id": "190d80f4-137d-49ff-bd2c-4ba152cbdb26",
   "metadata": {},
   "outputs": [
    {
     "data": {
      "text/plain": [
       "'pyth'"
      ]
     },
     "execution_count": 30,
     "metadata": {},
     "output_type": "execute_result"
    }
   ],
   "source": [
    "a[0:4]"
   ]
  },
  {
   "cell_type": "code",
   "execution_count": 32,
   "id": "198d4107-6f65-4420-87e6-5ff8dc3220ee",
   "metadata": {},
   "outputs": [
    {
     "data": {
      "text/plain": [
       "'g'"
      ]
     },
     "execution_count": 32,
     "metadata": {},
     "output_type": "execute_result"
    }
   ],
   "source": [
    "a[-1]"
   ]
  },
  {
   "cell_type": "code",
   "execution_count": 34,
   "id": "45be4f7e-c98a-4e88-8a83-295c59ae2b73",
   "metadata": {},
   "outputs": [
    {
     "data": {
      "text/plain": [
       "'n progr'"
      ]
     },
     "execution_count": 34,
     "metadata": {},
     "output_type": "execute_result"
    }
   ],
   "source": [
    "a[5:12]"
   ]
  },
  {
   "cell_type": "code",
   "execution_count": 36,
   "id": "c645a09d-c8cb-4079-8a0c-4dbbaeb67921",
   "metadata": {},
   "outputs": [
    {
     "data": {
      "text/plain": [
       "'pto r'"
      ]
     },
     "execution_count": 36,
     "metadata": {},
     "output_type": "execute_result"
    }
   ],
   "source": [
    "a[0:10:2]"
   ]
  },
  {
   "cell_type": "code",
   "execution_count": 38,
   "id": "b18d7a26-a4e3-4786-baba-7b1e6d31cd5b",
   "metadata": {},
   "outputs": [
    {
     "data": {
      "text/plain": [
       "' programming'"
      ]
     },
     "execution_count": 38,
     "metadata": {},
     "output_type": "execute_result"
    }
   ],
   "source": [
    "a[6:]"
   ]
  },
  {
   "cell_type": "code",
   "execution_count": 40,
   "id": "39b4146d-ecd0-4cc9-91d7-54f7cccb3c04",
   "metadata": {},
   "outputs": [
    {
     "name": "stdout",
     "output_type": "stream",
     "text": [
      "python programming\n"
     ]
    }
   ],
   "source": [
    "print(a)"
   ]
  },
  {
   "cell_type": "code",
   "execution_count": 42,
   "id": "9d7bdad6-aa18-46b2-83c3-463229dae1cd",
   "metadata": {},
   "outputs": [
    {
     "name": "stdout",
     "output_type": "stream",
     "text": [
      "gnimmargorp nohtyp\n"
     ]
    }
   ],
   "source": [
    "reversed_a=a[::-1]\n",
    "print(reversed_a)"
   ]
  },
  {
   "cell_type": "code",
   "execution_count": 44,
   "id": "f228ed15-05d3-4fd1-8e51-619913305e7a",
   "metadata": {},
   "outputs": [
    {
     "name": "stdout",
     "output_type": "stream",
     "text": [
      "programming\n"
     ]
    }
   ],
   "source": [
    "substring=a[7:]\n",
    "print(substring)"
   ]
  },
  {
   "cell_type": "code",
   "execution_count": 46,
   "id": "991267e5-e30b-4b52-a7f7-fa12d912fa50",
   "metadata": {},
   "outputs": [],
   "source": [
    "original_str='hello there'"
   ]
  },
  {
   "cell_type": "code",
   "execution_count": 48,
   "id": "48b42d97-ef28-4209-b6a5-0a4126419e43",
   "metadata": {},
   "outputs": [],
   "source": [
    "new_str=original_str.replace('there','achu')"
   ]
  },
  {
   "cell_type": "code",
   "execution_count": 50,
   "id": "9e223f61-69d8-48b7-b1f6-1ce585e991ca",
   "metadata": {},
   "outputs": [
    {
     "data": {
      "text/plain": [
       "'hello achu'"
      ]
     },
     "execution_count": 50,
     "metadata": {},
     "output_type": "execute_result"
    }
   ],
   "source": [
    "new_str"
   ]
  },
  {
   "cell_type": "code",
   "execution_count": 52,
   "id": "402c1617-f4a9-437e-9ba2-f902309bcbb4",
   "metadata": {},
   "outputs": [
    {
     "data": {
      "text/plain": [
       "'hello there'"
      ]
     },
     "execution_count": 52,
     "metadata": {},
     "output_type": "execute_result"
    }
   ],
   "source": [
    "original_str"
   ]
  },
  {
   "cell_type": "code",
   "execution_count": 54,
   "id": "0d4a668e-d0d5-420a-b7c1-65b054a312f5",
   "metadata": {},
   "outputs": [],
   "source": [
    "name='Myself Name'"
   ]
  },
  {
   "cell_type": "code",
   "execution_count": 56,
   "id": "83cd7fd6-21a0-431b-b6eb-def271a43656",
   "metadata": {},
   "outputs": [],
   "source": [
    "your_name=name.replace('Name','Neha')"
   ]
  },
  {
   "cell_type": "code",
   "execution_count": 58,
   "id": "1a9c218b-89bb-4d71-a0d7-009559267a53",
   "metadata": {},
   "outputs": [
    {
     "data": {
      "text/plain": [
       "'Myself Neha'"
      ]
     },
     "execution_count": 58,
     "metadata": {},
     "output_type": "execute_result"
    }
   ],
   "source": [
    "your_name"
   ]
  },
  {
   "cell_type": "code",
   "execution_count": 60,
   "id": "9ae2e794-611a-4b8b-a247-e45be9dde7ed",
   "metadata": {},
   "outputs": [],
   "source": [
    "x='hello'\n",
    "y='there'\n",
    "combined_string=x +\" \" + y"
   ]
  },
  {
   "cell_type": "code",
   "execution_count": 62,
   "id": "af0a0179-8f55-4448-a58e-b2eb30c96e52",
   "metadata": {},
   "outputs": [
    {
     "data": {
      "text/plain": [
       "'hello there'"
      ]
     },
     "execution_count": 62,
     "metadata": {},
     "output_type": "execute_result"
    }
   ],
   "source": [
    "combined_string"
   ]
  },
  {
   "cell_type": "code",
   "execution_count": 64,
   "id": "f1766dd5-6848-43e0-a441-0698e63c166d",
   "metadata": {},
   "outputs": [],
   "source": [
    "name='ben'\n",
    "age=17\n",
    "\n"
   ]
  },
  {
   "cell_type": "code",
   "execution_count": 66,
   "id": "40fdc5ec-82db-48b2-ab58-633db9c9c338",
   "metadata": {},
   "outputs": [
    {
     "name": "stdout",
     "output_type": "stream",
     "text": [
      "My name is ben  and im 17  years old \n"
     ]
    }
   ],
   "source": [
    "print(f\"My name is\",name,\" and im\" ,age, \" years old \" )"
   ]
  },
  {
   "cell_type": "code",
   "execution_count": 68,
   "id": "738fbf6d-8d85-4b29-84d3-bebc27e2dd74",
   "metadata": {},
   "outputs": [],
   "source": [
    "my_str='hello world'"
   ]
  },
  {
   "cell_type": "code",
   "execution_count": 70,
   "id": "d6741ebf-f8f2-4dc7-a3cb-48330f501c24",
   "metadata": {},
   "outputs": [
    {
     "data": {
      "text/plain": [
       "'hello world'"
      ]
     },
     "execution_count": 70,
     "metadata": {},
     "output_type": "execute_result"
    }
   ],
   "source": [
    "my_str"
   ]
  },
  {
   "cell_type": "code",
   "execution_count": 72,
   "id": "c2cc8c60-2011-4d27-80b5-86ef6649a0a5",
   "metadata": {},
   "outputs": [],
   "source": [
    "del my_str"
   ]
  },
  {
   "cell_type": "code",
   "execution_count": 74,
   "id": "f12070fe-c6ae-47a2-aaac-4192b17faf80",
   "metadata": {},
   "outputs": [
    {
     "ename": "NameError",
     "evalue": "name 'my_str' is not defined",
     "output_type": "error",
     "traceback": [
      "\u001b[1;31m---------------------------------------------------------------------------\u001b[0m",
      "\u001b[1;31mNameError\u001b[0m                                 Traceback (most recent call last)",
      "Cell \u001b[1;32mIn[74], line 1\u001b[0m\n\u001b[1;32m----> 1\u001b[0m my_str\n",
      "\u001b[1;31mNameError\u001b[0m: name 'my_str' is not defined"
     ]
    }
   ],
   "source": [
    "my_str"
   ]
  },
  {
   "cell_type": "code",
   "execution_count": 76,
   "id": "85a8e753-e51d-421f-ac4a-12e768f26311",
   "metadata": {},
   "outputs": [],
   "source": [
    "num='123'\n",
    "num1='546'"
   ]
  },
  {
   "cell_type": "code",
   "execution_count": 78,
   "id": "6f6d3ced-9f9a-46c4-bcb4-58808ad5094f",
   "metadata": {},
   "outputs": [],
   "source": [
    "concatination=num +\" \"+ num1"
   ]
  },
  {
   "cell_type": "code",
   "execution_count": 80,
   "id": "e2f01cad-e160-4f0e-980d-f0a186c52c1c",
   "metadata": {},
   "outputs": [
    {
     "data": {
      "text/plain": [
       "'123 546'"
      ]
     },
     "execution_count": 80,
     "metadata": {},
     "output_type": "execute_result"
    }
   ],
   "source": [
    "concatination\n"
   ]
  },
  {
   "cell_type": "code",
   "execution_count": 82,
   "id": "c094f5e0-695b-464c-bc05-51b365decbbf",
   "metadata": {},
   "outputs": [
    {
     "name": "stdout",
     "output_type": "stream",
     "text": [
      "Concatenated_str: hello world\n"
     ]
    }
   ],
   "source": [
    "str1='hello'\n",
    "str2='world'\n",
    "concatenated_str=str1+' '+str2\n",
    "print('Concatenated_str:', concatenated_str)"
   ]
  },
  {
   "cell_type": "code",
   "execution_count": 84,
   "id": "f1b2afb6-7aa4-4152-b335-e33004ebdc73",
   "metadata": {},
   "outputs": [
    {
     "name": "stdout",
     "output_type": "stream",
     "text": [
      "repeated string: hihihihihihihihi\n"
     ]
    }
   ],
   "source": [
    "string = \"hi\"\n",
    "repeated_string = string*8\n",
    "print('repeated string:', repeated_string)"
   ]
  },
  {
   "cell_type": "code",
   "execution_count": 86,
   "id": "3c86ebda-b9ae-42f6-bcb5-3e82fcb87850",
   "metadata": {},
   "outputs": [
    {
     "name": "stdout",
     "output_type": "stream",
     "text": [
      "p\n",
      "y\n",
      "t\n",
      "h\n",
      "o\n",
      "n\n"
     ]
    }
   ],
   "source": [
    "text='python'\n",
    "for char in text:\n",
    "    print(char)"
   ]
  },
  {
   "cell_type": "code",
   "execution_count": 88,
   "id": "6dbe9823-1e44-46bb-9894-c9a172ad5e41",
   "metadata": {},
   "outputs": [
    {
     "name": "stdout",
     "output_type": "stream",
     "text": [
      "Number of vowels: 3\n"
     ]
    }
   ],
   "source": [
    "text='programming'\n",
    "vowels='aeiou'\n",
    "count=0\n",
    "\n",
    "for char in text:\n",
    "    if char in vowels:\n",
    "        count +=1\n",
    "print('Number of vowels:',count) "
   ]
  },
  {
   "cell_type": "code",
   "execution_count": null,
   "id": "e0f6c3ec-fee1-41a3-ab52-6c159c18314e",
   "metadata": {},
   "outputs": [],
   "source": []
  }
 ],
 "metadata": {
  "kernelspec": {
   "display_name": "Python [conda env:base] *",
   "language": "python",
   "name": "conda-base-py"
  },
  "language_info": {
   "codemirror_mode": {
    "name": "ipython",
    "version": 3
   },
   "file_extension": ".py",
   "mimetype": "text/x-python",
   "name": "python",
   "nbconvert_exporter": "python",
   "pygments_lexer": "ipython3",
   "version": "3.12.7"
  }
 },
 "nbformat": 4,
 "nbformat_minor": 5
}
