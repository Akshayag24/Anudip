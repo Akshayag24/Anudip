{
 "cells": [
  {
   "cell_type": "code",
   "execution_count": null,
   "id": "1a5d78de-5cd8-4288-929b-7069355aaa64",
   "metadata": {},
   "outputs": [],
   "source": [
    "## declare a div() function with two parameters. Then call the function and pass two numbers and display their divison"
   ]
  },
  {
   "cell_type": "code",
   "execution_count": 2,
   "id": "4bd5de77-6c63-4247-836d-1870c44d56d6",
   "metadata": {},
   "outputs": [
    {
     "name": "stdout",
     "output_type": "stream",
     "text": [
      "The division of 10 by 2 is: 5.0\n"
     ]
    }
   ],
   "source": [
    "# Define the function\n",
    "def div(a, b):\n",
    "    if b != 0:\n",
    "        result = a / b\n",
    "        print(\"The division of\", a, \"by\", b, \"is:\", result)\n",
    "    else:\n",
    "        print(\"Error: Division by zero is not allowed.\")\n",
    "\n",
    "# Call the function with two numbers\n",
    "div(10, 2)\n"
   ]
  },
  {
   "cell_type": "code",
   "execution_count": null,
   "id": "7ccd0b64-a45b-40dc-b2e2-492b7306b526",
   "metadata": {},
   "outputs": [],
   "source": []
  },
  {
   "cell_type": "code",
   "execution_count": 4,
   "id": "92627edb-6504-470b-9547-947342683b1f",
   "metadata": {},
   "outputs": [],
   "source": [
    "## declare a square() function with one parameter. Then call the function and pass one number and display the square of that number"
   ]
  },
  {
   "cell_type": "code",
   "execution_count": 8,
   "id": "b55e128f-599b-4966-86e5-f0b53b92ac82",
   "metadata": {},
   "outputs": [
    {
     "name": "stdout",
     "output_type": "stream",
     "text": [
      "The square of 5 is: 25\n"
     ]
    }
   ],
   "source": [
    "# Define the function\n",
    "def square(num):\n",
    "    result = num ** 2\n",
    "    print(\"The square of\", num, \"is:\", result)\n",
    "\n",
    "# Call the function with one number\n",
    "square(5)\n"
   ]
  },
  {
   "cell_type": "code",
   "execution_count": null,
   "id": "285b86bb-102c-449c-8239-154ff68a6d83",
   "metadata": {},
   "outputs": [],
   "source": []
  },
  {
   "cell_type": "code",
   "execution_count": null,
   "id": "1d4bf6a4-e63e-4929-a4ee-357490156214",
   "metadata": {},
   "outputs": [],
   "source": [
    "## using max() and min() functions display the maximum and minimum of 5 random numbers."
   ]
  },
  {
   "cell_type": "code",
   "execution_count": 10,
   "id": "174af764-75d9-4300-a6e6-858ad63457b7",
   "metadata": {},
   "outputs": [
    {
     "name": "stdout",
     "output_type": "stream",
     "text": [
      "Random numbers: [42, 6, 53, 79, 54]\n",
      "Maximum number: 79\n",
      "Minimum number: 6\n"
     ]
    }
   ],
   "source": [
    "import random\n",
    "\n",
    "# Generate 5 random numbers between 1 and 100\n",
    "numbers = [random.randint(1, 100) for _ in range(5)]\n",
    "\n",
    "# Display the list of numbers\n",
    "print(\"Random numbers:\", numbers)\n",
    "\n",
    "# Find and display the maximum and minimum\n",
    "print(\"Maximum number:\", max(numbers))\n",
    "print(\"Minimum number:\", min(numbers))\n"
   ]
  },
  {
   "cell_type": "code",
   "execution_count": null,
   "id": "01aff421-261f-4b3c-b0c3-b04fa118bd56",
   "metadata": {},
   "outputs": [],
   "source": []
  },
  {
   "cell_type": "code",
   "execution_count": null,
   "id": "690817ad-2922-447e-9f51-296e1e216c17",
   "metadata": {},
   "outputs": [],
   "source": [
    "## accept a name from the user and display that in lower case using lower() function"
   ]
  },
  {
   "cell_type": "code",
   "execution_count": 14,
   "id": "fa23fb14-6663-48e6-877c-d88e4ffe1ac0",
   "metadata": {},
   "outputs": [
    {
     "name": "stdin",
     "output_type": "stream",
     "text": [
      "Enter your name:  AKSHAYA G\n"
     ]
    },
    {
     "name": "stdout",
     "output_type": "stream",
     "text": [
      "Name in lowercase: akshaya g\n"
     ]
    }
   ],
   "source": [
    "# Accept name input from user\n",
    "name = input(\"Enter your name: \")\n",
    "\n",
    "# Convert to lowercase and display\n",
    "print(\"Name in lowercase:\", name.lower())\n"
   ]
  },
  {
   "cell_type": "code",
   "execution_count": null,
   "id": "5a0fbc5b-beb3-40e0-9f9f-761721ca2271",
   "metadata": {},
   "outputs": [],
   "source": []
  }
 ],
 "metadata": {
  "kernelspec": {
   "display_name": "Python [conda env:base] *",
   "language": "python",
   "name": "conda-base-py"
  },
  "language_info": {
   "codemirror_mode": {
    "name": "ipython",
    "version": 3
   },
   "file_extension": ".py",
   "mimetype": "text/x-python",
   "name": "python",
   "nbconvert_exporter": "python",
   "pygments_lexer": "ipython3",
   "version": "3.12.7"
  }
 },
 "nbformat": 4,
 "nbformat_minor": 5
}
