{
 "cells": [
  {
   "cell_type": "markdown",
   "id": "8a87843c-fe4f-4ccc-b3d3-a036ed6ec341",
   "metadata": {},
   "source": [
    "a=555\n",
    "type(a)"
   ]
  },
  {
   "cell_type": "code",
   "execution_count": 3,
   "id": "6691213e-7a29-456f-9afe-d4b204858485",
   "metadata": {},
   "outputs": [
    {
     "data": {
      "text/plain": [
       "555.0"
      ]
     },
     "execution_count": 3,
     "metadata": {},
     "output_type": "execute_result"
    }
   ],
   "source": [
    "float(a)\n"
   ]
  },
  {
   "cell_type": "code",
   "execution_count": 5,
   "id": "545cad5c-3137-4d7a-b48e-be42479f5bef",
   "metadata": {},
   "outputs": [
    {
     "data": {
      "text/plain": [
       "'555'"
      ]
     },
     "execution_count": 5,
     "metadata": {},
     "output_type": "execute_result"
    }
   ],
   "source": [
    "str(a)"
   ]
  },
  {
   "cell_type": "code",
   "execution_count": 7,
   "id": "0fb0bb2b-36b9-4872-b57f-68ea6d6d7448",
   "metadata": {},
   "outputs": [
    {
     "data": {
      "text/plain": [
       "int"
      ]
     },
     "execution_count": 7,
     "metadata": {},
     "output_type": "execute_result"
    }
   ],
   "source": [
    "int_value=10\n",
    "type(int_value)"
   ]
  },
  {
   "cell_type": "code",
   "execution_count": null,
   "id": "d4b01a3f-a6d7-46d5-be86-db308c0b31ca",
   "metadata": {},
   "outputs": [],
   "source": [
    "#convert a string to an int\n"
   ]
  },
  {
   "cell_type": "code",
   "execution_count": null,
   "id": "78f65122-d7ed-4554-9d15-7f8ee376a063",
   "metadata": {},
   "outputs": [],
   "source": [
    "age_str=\"25\"\n",
    "age_int=int(age_str) #converting strng \"25\" to int 25"
   ]
  },
  {
   "cell_type": "code",
   "execution_count": null,
   "id": "92d64551-8e4a-4f7f-b0ed-cf6ae6d89357",
   "metadata": {},
   "outputs": [],
   "source": [
    "#converting an int to a string"
   ]
  },
  {
   "cell_type": "code",
   "execution_count": null,
   "id": "d55efed3-2ca1-4cf0-9771-857e95ae48bc",
   "metadata": {},
   "outputs": [],
   "source": [
    "number=10\n",
    "number_str=str(number) #convrerting the int 10 to the string \"10\""
   ]
  },
  {
   "cell_type": "code",
   "execution_count": 19,
   "id": "368f814b-9165-494c-b7b0-9c23a7ac7da4",
   "metadata": {},
   "outputs": [
    {
     "data": {
      "text/plain": [
       "int"
      ]
     },
     "execution_count": 19,
     "metadata": {},
     "output_type": "execute_result"
    }
   ],
   "source": [
    "int_value=10\n",
    "type(int_value)"
   ]
  },
  {
   "cell_type": "code",
   "execution_count": null,
   "id": "05de9a89-6a41-43a8-9f57-36a3e1758ad3",
   "metadata": {},
   "outputs": [],
   "source": [
    "#converting int---->float"
   ]
  },
  {
   "cell_type": "code",
   "execution_count": 21,
   "id": "348fdd12-43a7-4c39-b45a-4b4c7553e460",
   "metadata": {},
   "outputs": [
    {
     "data": {
      "text/plain": [
       "float"
      ]
     },
     "execution_count": 21,
     "metadata": {},
     "output_type": "execute_result"
    }
   ],
   "source": [
    "float_value=float(int_value)\n",
    "type(float_value)"
   ]
  },
  {
   "cell_type": "code",
   "execution_count": 23,
   "id": "57338ac9-61c0-49f7-8cf0-f9f5393fa9cd",
   "metadata": {},
   "outputs": [
    {
     "name": "stdout",
     "output_type": "stream",
     "text": [
      "18.5\n"
     ]
    }
   ],
   "source": [
    "#implicit it is a type conversion done by python\n",
    "print(8+10.5)"
   ]
  },
  {
   "cell_type": "code",
   "execution_count": 27,
   "id": "79010835-4107-4ce9-8a35-053138cf9609",
   "metadata": {},
   "outputs": [
    {
     "name": "stdout",
     "output_type": "stream",
     "text": [
      "<class 'int'> <class 'float'>\n"
     ]
    }
   ],
   "source": [
    "print(type(8),type(10.5))"
   ]
  },
  {
   "cell_type": "code",
   "execution_count": 29,
   "id": "635657dd-b751-4f00-be1d-1e022643a5fd",
   "metadata": {},
   "outputs": [
    {
     "ename": "TypeError",
     "evalue": "unsupported operand type(s) for +: 'int' and 'str'",
     "output_type": "error",
     "traceback": [
      "\u001b[1;31m---------------------------------------------------------------------------\u001b[0m",
      "\u001b[1;31mTypeError\u001b[0m                                 Traceback (most recent call last)",
      "Cell \u001b[1;32mIn[29], line 2\u001b[0m\n\u001b[0;32m      1\u001b[0m \u001b[38;5;66;03m#implicit doesnt work \u001b[39;00m\n\u001b[1;32m----> 2\u001b[0m \u001b[38;5;28mprint\u001b[39m(\u001b[38;5;241m8\u001b[39m\u001b[38;5;241m+\u001b[39m\u001b[38;5;124m'\u001b[39m\u001b[38;5;124m9\u001b[39m\u001b[38;5;124m'\u001b[39m)\n",
      "\u001b[1;31mTypeError\u001b[0m: unsupported operand type(s) for +: 'int' and 'str'"
     ]
    }
   ],
   "source": [
    "#implicit doesn't work \n",
    "print(8+'9')"
   ]
  },
  {
   "cell_type": "code",
   "execution_count": null,
   "id": "c342d0ac-4c77-417c-987d-ef0d67ef0b01",
   "metadata": {},
   "outputs": [],
   "source": [
    "#explicit where the programmer explicitly write a code to convert"
   ]
  },
  {
   "cell_type": "code",
   "execution_count": 25,
   "id": "6ea5ea93-6672-476d-8a6d-42a8eb1bb83e",
   "metadata": {},
   "outputs": [
    {
     "data": {
      "text/plain": [
       "'20'"
      ]
     },
     "execution_count": 25,
     "metadata": {},
     "output_type": "execute_result"
    }
   ],
   "source": [
    "str(20)"
   ]
  },
  {
   "cell_type": "code",
   "execution_count": 33,
   "id": "9723dfc0-eec8-48b2-a559-95abb474a545",
   "metadata": {},
   "outputs": [
    {
     "data": {
      "text/plain": [
       "complex"
      ]
     },
     "execution_count": 33,
     "metadata": {},
     "output_type": "execute_result"
    }
   ],
   "source": [
    "b=3+7j\n",
    "type(b)"
   ]
  },
  {
   "cell_type": "code",
   "execution_count": null,
   "id": "41a0bc3d-21fc-4c92-841f-f00a21ebc4c9",
   "metadata": {},
   "outputs": [],
   "source": [
    "a=11"
   ]
  },
  {
   "cell_type": "code",
   "execution_count": 35,
   "id": "8cdfd51b-b5c7-4e26-ab68-34454e7a18b3",
   "metadata": {},
   "outputs": [],
   "source": [
    "#int to str\n",
    "b=str(a)"
   ]
  },
  {
   "cell_type": "code",
   "execution_count": 37,
   "id": "8274c060-9f8c-4ea6-8495-1656cd6e43d4",
   "metadata": {},
   "outputs": [
    {
     "data": {
      "text/plain": [
       "str"
      ]
     },
     "execution_count": 37,
     "metadata": {},
     "output_type": "execute_result"
    }
   ],
   "source": [
    "type(b)"
   ]
  },
  {
   "cell_type": "code",
   "execution_count": 39,
   "id": "c637ecce-7ccf-43b1-b76a-ff70d1e36488",
   "metadata": {},
   "outputs": [
    {
     "name": "stdout",
     "output_type": "stream",
     "text": [
      "hello!\n"
     ]
    }
   ],
   "source": [
    "print(\"hello!\")  # syntax refers to set of rules that defines the structure of valid statements and expressions in programming lang  \n",
    "# correct syntax is esstential for writing code that the complier can understand "
   ]
  },
  {
   "cell_type": "code",
   "execution_count": 41,
   "id": "4e9edaeb-fd22-44fe-b770-6ccb34d7d4ab",
   "metadata": {},
   "outputs": [
    {
     "name": "stdout",
     "output_type": "stream",
     "text": [
      "ravi\n"
     ]
    }
   ],
   "source": [
    "print(\"ravi\")"
   ]
  },
  {
   "cell_type": "markdown",
   "id": "3abfe133-e53f-4ebb-ba06-f872fbfd7c4c",
   "metadata": {},
   "source": [
    "#Literals"
   ]
  },
  {
   "cell_type": "code",
   "execution_count": 43,
   "id": "c98b137f-adf5-4d0a-a612-bb153a08eb27",
   "metadata": {},
   "outputs": [],
   "source": [
    "#defination: A literal is fixed value that is directly written into the code "
   ]
  },
  {
   "cell_type": "markdown",
   "id": "70d71c00-a14d-40ee-add9-deef3bcb3ae0",
   "metadata": {},
   "source": [
    "#Operators in Python"
   ]
  },
  {
   "cell_type": "markdown",
   "id": "feff6b00-3e65-4241-af03-3f4783728900",
   "metadata": {},
   "source": [
    "#Types of Arithmetic Operators:"
   ]
  },
  {
   "cell_type": "markdown",
   "id": "ad8f802a-fcd8-47ad-b9c6-1217ea2d4d54",
   "metadata": {},
   "source": [
    "1.Addition(+)"
   ]
  },
  {
   "cell_type": "code",
   "execution_count": 48,
   "id": "1651c931-7a23-4793-87af-4e4ceef07b38",
   "metadata": {},
   "outputs": [
    {
     "data": {
      "text/plain": [
       "15"
      ]
     },
     "execution_count": 48,
     "metadata": {},
     "output_type": "execute_result"
    }
   ],
   "source": [
    "6+9"
   ]
  },
  {
   "cell_type": "code",
   "execution_count": null,
   "id": "f979cf7d-73ae-4b9a-9b22-e72c68eb6996",
   "metadata": {},
   "outputs": [],
   "source": [
    "2.substraction(-)"
   ]
  },
  {
   "cell_type": "code",
   "execution_count": 52,
   "id": "292e18ee-603a-415f-a7d6-bd24b61ac7b2",
   "metadata": {},
   "outputs": [
    {
     "data": {
      "text/plain": [
       "-1"
      ]
     },
     "execution_count": 52,
     "metadata": {},
     "output_type": "execute_result"
    }
   ],
   "source": [
    "5-6"
   ]
  },
  {
   "cell_type": "markdown",
   "id": "1afd82ab-2e19-488b-9195-a7ae0507a46f",
   "metadata": {},
   "source": [
    "3. Multiplication(*)"
   ]
  },
  {
   "cell_type": "code",
   "execution_count": 54,
   "id": "b4b3d196-de9f-4452-9c6d-cb8331bb737a",
   "metadata": {},
   "outputs": [
    {
     "data": {
      "text/plain": [
       "27"
      ]
     },
     "execution_count": 54,
     "metadata": {},
     "output_type": "execute_result"
    }
   ],
   "source": [
    "9*3"
   ]
  },
  {
   "cell_type": "markdown",
   "id": "01d9cc91-cacf-46f0-a499-3b9c04d8c381",
   "metadata": {},
   "source": [
    "4.Division(/)"
   ]
  },
  {
   "cell_type": "code",
   "execution_count": 56,
   "id": "8685faa3-5ddc-40e5-83b8-eb005e458da9",
   "metadata": {},
   "outputs": [
    {
     "data": {
      "text/plain": [
       "0.5"
      ]
     },
     "execution_count": 56,
     "metadata": {},
     "output_type": "execute_result"
    }
   ],
   "source": [
    "2/4"
   ]
  },
  {
   "cell_type": "markdown",
   "id": "5fdb3c23-9f9a-4516-8571-bd2534f19055",
   "metadata": {},
   "source": [
    "5.floor division (//)   rounds up the nearest value"
   ]
  },
  {
   "cell_type": "code",
   "execution_count": 60,
   "id": "2d17141a-e491-4dfc-9a18-75c3c3d52f05",
   "metadata": {},
   "outputs": [],
   "source": [
    "result = 16/3 # divison"
   ]
  },
  {
   "cell_type": "code",
   "execution_count": 62,
   "id": "deaf3f4a-cbdf-4942-a900-4839ac6f10bc",
   "metadata": {},
   "outputs": [
    {
     "data": {
      "text/plain": [
       "5.333333333333333"
      ]
     },
     "execution_count": 62,
     "metadata": {},
     "output_type": "execute_result"
    }
   ],
   "source": [
    "result"
   ]
  },
  {
   "cell_type": "code",
   "execution_count": 64,
   "id": "8021a801-c2bc-4d40-95dd-369331b0cb97",
   "metadata": {},
   "outputs": [],
   "source": [
    "result=16//3   # floor division"
   ]
  },
  {
   "cell_type": "code",
   "execution_count": 66,
   "id": "4aaeab5e-c6a3-426e-a57e-2bcd7f884e90",
   "metadata": {},
   "outputs": [
    {
     "data": {
      "text/plain": [
       "5"
      ]
     },
     "execution_count": 66,
     "metadata": {},
     "output_type": "execute_result"
    }
   ],
   "source": [
    "result"
   ]
  },
  {
   "cell_type": "markdown",
   "id": "2ad43dda-354b-4386-a336-747061c46bf3",
   "metadata": {},
   "source": [
    "Modulus(%)"
   ]
  },
  {
   "cell_type": "code",
   "execution_count": 68,
   "id": "9733217f-2687-4b8f-b520-c4d18e2190d4",
   "metadata": {},
   "outputs": [
    {
     "data": {
      "text/plain": [
       "1"
      ]
     },
     "execution_count": 68,
     "metadata": {},
     "output_type": "execute_result"
    }
   ],
   "source": [
    "result=10%3 \n",
    "result"
   ]
  },
  {
   "cell_type": "code",
   "execution_count": 70,
   "id": "2619262d-f01b-4d44-9d95-0827daa99edd",
   "metadata": {},
   "outputs": [],
   "source": [
    "a=16%2"
   ]
  },
  {
   "cell_type": "code",
   "execution_count": 72,
   "id": "de30b0ca-3f1e-4e59-9bb3-2c615d89cfc3",
   "metadata": {},
   "outputs": [
    {
     "data": {
      "text/plain": [
       "0"
      ]
     },
     "execution_count": 72,
     "metadata": {},
     "output_type": "execute_result"
    }
   ],
   "source": [
    "a"
   ]
  },
  {
   "cell_type": "code",
   "execution_count": null,
   "id": "626a9eab-2c6a-4188-88b1-4992ff14f435",
   "metadata": {},
   "outputs": [],
   "source": [
    "exponentiation(**):"
   ]
  },
  {
   "cell_type": "code",
   "execution_count": 74,
   "id": "28b0bcec-6a3b-430e-b85e-3ee033bfd770",
   "metadata": {},
   "outputs": [
    {
     "data": {
      "text/plain": [
       "4"
      ]
     },
     "execution_count": 74,
     "metadata": {},
     "output_type": "execute_result"
    }
   ],
   "source": [
    "2*2"
   ]
  },
  {
   "cell_type": "code",
   "execution_count": 76,
   "id": "fa778ac2-67b9-45b7-b240-9cb16742cb8e",
   "metadata": {},
   "outputs": [
    {
     "data": {
      "text/plain": [
       "4"
      ]
     },
     "execution_count": 76,
     "metadata": {},
     "output_type": "execute_result"
    }
   ],
   "source": [
    "2**2"
   ]
  },
  {
   "cell_type": "code",
   "execution_count": 78,
   "id": "96356ad0-cfb6-4136-a65b-58290ab3d70a",
   "metadata": {},
   "outputs": [
    {
     "data": {
      "text/plain": [
       "8"
      ]
     },
     "execution_count": 78,
     "metadata": {},
     "output_type": "execute_result"
    }
   ],
   "source": [
    "2**3"
   ]
  },
  {
   "cell_type": "code",
   "execution_count": 82,
   "id": "f155fbd9-3c8b-4dc1-ae4a-8909d5e1f111",
   "metadata": {},
   "outputs": [
    {
     "data": {
      "text/plain": [
       "64"
      ]
     },
     "execution_count": 82,
     "metadata": {},
     "output_type": "execute_result"
    }
   ],
   "source": [
    "2**6"
   ]
  },
  {
   "cell_type": "code",
   "execution_count": null,
   "id": "f741355a-4cc6-4f14-9bbb-94993a01ddb9",
   "metadata": {},
   "outputs": [],
   "source": [
    "#combining multiple arthimetic operators"
   ]
  },
  {
   "cell_type": "code",
   "execution_count": 84,
   "id": "df03bad2-cfe6-4dbe-9b4c-5f39d1a84b78",
   "metadata": {},
   "outputs": [
    {
     "data": {
      "text/plain": [
       "9.0"
      ]
     },
     "execution_count": 84,
     "metadata": {},
     "output_type": "execute_result"
    }
   ],
   "source": [
    "result=5+3*2-8/4 #result is 9.0\n",
    "result"
   ]
  },
  {
   "cell_type": "code",
   "execution_count": null,
   "id": "c83e37c7-ede8-468b-a06e-7740841cf855",
   "metadata": {},
   "outputs": [],
   "source": [
    "#avg"
   ]
  },
  {
   "cell_type": "code",
   "execution_count": 86,
   "id": "318bab3a-55a7-4541-843b-b68b16f97e30",
   "metadata": {},
   "outputs": [
    {
     "data": {
      "text/plain": [
       "32.8"
      ]
     },
     "execution_count": 86,
     "metadata": {},
     "output_type": "execute_result"
    }
   ],
   "source": [
    "(69+56+19+6+14)/5"
   ]
  },
  {
   "cell_type": "code",
   "execution_count": 10,
   "id": "91739f00-2f58-437b-86db-58c090406860",
   "metadata": {},
   "outputs": [],
   "source": [
    "score=[85,90,78,92,88]"
   ]
  },
  {
   "cell_type": "code",
   "execution_count": 12,
   "id": "231cec35-77f7-43f2-b74e-adc9b3b7192c",
   "metadata": {},
   "outputs": [],
   "source": [
    "total_score=sum(score)"
   ]
  },
  {
   "cell_type": "code",
   "execution_count": 14,
   "id": "9f7da1ae-a407-4334-8117-492ae503408c",
   "metadata": {},
   "outputs": [
    {
     "data": {
      "text/plain": [
       "433"
      ]
     },
     "execution_count": 14,
     "metadata": {},
     "output_type": "execute_result"
    }
   ],
   "source": [
    "total_score"
   ]
  },
  {
   "cell_type": "code",
   "execution_count": 16,
   "id": "838daddc-3b2f-4183-b92b-148ebc656bc0",
   "metadata": {},
   "outputs": [
    {
     "data": {
      "text/plain": [
       "86.6"
      ]
     },
     "execution_count": 16,
     "metadata": {},
     "output_type": "execute_result"
    }
   ],
   "source": [
    "433/5"
   ]
  },
  {
   "cell_type": "code",
   "execution_count": 18,
   "id": "ae809fdf-905a-4116-a29e-647f268e7cf8",
   "metadata": {},
   "outputs": [
    {
     "data": {
      "text/plain": [
       "5"
      ]
     },
     "execution_count": 18,
     "metadata": {},
     "output_type": "execute_result"
    }
   ],
   "source": [
    "len(score)"
   ]
  },
  {
   "cell_type": "code",
   "execution_count": 22,
   "id": "45918e12-94c6-4642-9239-f2b013a09c7f",
   "metadata": {},
   "outputs": [
    {
     "name": "stdout",
     "output_type": "stream",
     "text": [
      "Remaining budget: 500\n"
     ]
    }
   ],
   "source": [
    "budget =1200\n",
    "groceries=350\n",
    "utilities=150\n",
    "transportation=200\n",
    "remaining_budget=budget-(groceries+utilities+transportation)\n",
    "print(\"Remaining budget:\",remaining_budget)"
   ]
  },
  {
   "cell_type": "code",
   "execution_count": 26,
   "id": "0d885e8e-5901-4db2-ab9a-1040bb401a3f",
   "metadata": {},
   "outputs": [
    {
     "name": "stdout",
     "output_type": "stream",
     "text": [
      "Final price after discount: 55.5\n"
     ]
    }
   ],
   "source": [
    "original_price=75\n",
    "discount_percentage=26\n",
    "discount_amount=original_price*(discount_percentage/100)\n",
    "final_price=original_price-discount_amount\n",
    "print(\"Final price after discount:\",final_price)"
   ]
  },
  {
   "cell_type": "code",
   "execution_count": 28,
   "id": "de2db057-eeb8-4372-bf84-2f760d6f4d7c",
   "metadata": {},
   "outputs": [
    {
     "name": "stdout",
     "output_type": "stream",
     "text": [
      "change received: 26.25\n"
     ]
    }
   ],
   "source": [
    "book_cost=23.75\n",
    "amount_paid=50\n",
    "change=amount_paid-book_cost\n",
    "print(\"change received:\",change)"
   ]
  },
  {
   "cell_type": "code",
   "execution_count": 30,
   "id": "006c12be-da81-489e-af71-40eca3693a13",
   "metadata": {},
   "outputs": [
    {
     "name": "stdout",
     "output_type": "stream",
     "text": [
      "Area of the garden: 150\n"
     ]
    }
   ],
   "source": [
    "width=10\n",
    "length=15\n",
    "area=width*length\n",
    "print(\"Area of the garden:\",area)"
   ]
  },
  {
   "cell_type": "code",
   "execution_count": 32,
   "id": "8bbce2c1-d0a7-4027-a41b-a10fd14f1f53",
   "metadata": {},
   "outputs": [
    {
     "name": "stdout",
     "output_type": "stream",
     "text": [
      "age difference: 5\n"
     ]
    }
   ],
   "source": [
    "alice_age=25\n",
    "bob_age=30\n",
    "age_difference=bob_age-alice_age\n",
    "print(\"age difference:\",age_difference)\n"
   ]
  },
  {
   "cell_type": "code",
   "execution_count": null,
   "id": "75bbf6eb-c8da-4b6c-8aa3-fb9833e21828",
   "metadata": {},
   "outputs": [],
   "source": []
  }
 ],
 "metadata": {
  "kernelspec": {
   "display_name": "Python [conda env:base] *",
   "language": "python",
   "name": "conda-base-py"
  },
  "language_info": {
   "codemirror_mode": {
    "name": "ipython",
    "version": 3
   },
   "file_extension": ".py",
   "mimetype": "text/x-python",
   "name": "python",
   "nbconvert_exporter": "python",
   "pygments_lexer": "ipython3",
   "version": "3.12.7"
  }
 },
 "nbformat": 4,
 "nbformat_minor": 5
}
