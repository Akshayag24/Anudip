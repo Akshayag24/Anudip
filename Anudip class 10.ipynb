{
 "cells": [
  {
   "cell_type": "code",
   "execution_count": 18,
   "id": "cda78dec-0b3d-46f6-aa69-41b2a2eab039",
   "metadata": {},
   "outputs": [],
   "source": [
    "set={1,2,3,4}"
   ]
  },
  {
   "cell_type": "code",
   "execution_count": 20,
   "id": "48057d97-5d67-4521-8b6b-d28f0a722711",
   "metadata": {},
   "outputs": [],
   "source": [
    "a=set.pop()"
   ]
  },
  {
   "cell_type": "code",
   "execution_count": 22,
   "id": "7493c1a3-6fc2-4d6d-8c73-8c9c8503d548",
   "metadata": {},
   "outputs": [
    {
     "data": {
      "text/plain": [
       "1"
      ]
     },
     "execution_count": 22,
     "metadata": {},
     "output_type": "execute_result"
    }
   ],
   "source": [
    "a"
   ]
  },
  {
   "cell_type": "code",
   "execution_count": 24,
   "id": "737a5eab-220e-4963-8b24-2b688810cfa6",
   "metadata": {},
   "outputs": [
    {
     "data": {
      "text/plain": [
       "{2, 3, 4}"
      ]
     },
     "execution_count": 24,
     "metadata": {},
     "output_type": "execute_result"
    }
   ],
   "source": [
    "set"
   ]
  },
  {
   "cell_type": "code",
   "execution_count": 30,
   "id": "8a8238be-126f-45d0-88de-ef0f3568d67d",
   "metadata": {},
   "outputs": [],
   "source": [
    "set\n",
    "set.add(7)"
   ]
  },
  {
   "cell_type": "code",
   "execution_count": 32,
   "id": "b92c792d-dc26-480b-a00e-0b3e94324bef",
   "metadata": {},
   "outputs": [
    {
     "data": {
      "text/plain": [
       "{2, 3, 4, 5, 7, 23, 54}"
      ]
     },
     "execution_count": 32,
     "metadata": {},
     "output_type": "execute_result"
    }
   ],
   "source": [
    "set.update([23,54,5])\n",
    "set"
   ]
  },
  {
   "cell_type": "code",
   "execution_count": 34,
   "id": "e34c1000-1005-471f-8d61-4ae41097b9be",
   "metadata": {},
   "outputs": [
    {
     "data": {
      "text/plain": [
       "{2, 3, 4, 5, 7, 23}"
      ]
     },
     "execution_count": 34,
     "metadata": {},
     "output_type": "execute_result"
    }
   ],
   "source": [
    "set.remove(54)\n",
    "set"
   ]
  },
  {
   "cell_type": "code",
   "execution_count": 36,
   "id": "09351bd1-7da9-4b81-955c-bbba8c1389a0",
   "metadata": {},
   "outputs": [
    {
     "data": {
      "text/plain": [
       "{2, 3, 4, 5, 23}"
      ]
     },
     "execution_count": 36,
     "metadata": {},
     "output_type": "execute_result"
    }
   ],
   "source": [
    "set.discard(7)\n",
    "set"
   ]
  },
  {
   "cell_type": "code",
   "execution_count": 38,
   "id": "14317afe-9a67-4969-b857-e349cccee16d",
   "metadata": {},
   "outputs": [
    {
     "name": "stdout",
     "output_type": "stream",
     "text": [
      "1\n",
      "2\n",
      "4\n"
     ]
    }
   ],
   "source": [
    "sets={1,2,4}             \n",
    "for item in sets:\n",
    "    print(item)"
   ]
  },
  {
   "cell_type": "code",
   "execution_count": 40,
   "id": "843c69ba-b749-46dc-b9e4-9e29d7cffbad",
   "metadata": {},
   "outputs": [],
   "source": [
    "my_set={1,2,3,'hello',(43,34,65)}"
   ]
  },
  {
   "cell_type": "code",
   "execution_count": 42,
   "id": "2379f5f6-89b7-40d9-a76b-f0faa623abf0",
   "metadata": {},
   "outputs": [
    {
     "data": {
      "text/plain": [
       "{(43, 34, 65), 1, 2, 3, 'hello'}"
      ]
     },
     "execution_count": 42,
     "metadata": {},
     "output_type": "execute_result"
    }
   ],
   "source": [
    "my_set"
   ]
  },
  {
   "cell_type": "code",
   "execution_count": 44,
   "id": "ff9f8c13-a9ea-4ead-98b3-1cc774ea08ad",
   "metadata": {},
   "outputs": [],
   "source": [
    "my_set={1,2,3}"
   ]
  },
  {
   "cell_type": "code",
   "execution_count": 46,
   "id": "cecacc88-534c-47a2-93b1-ed38092cab3b",
   "metadata": {},
   "outputs": [],
   "source": [
    "my_set.clear()"
   ]
  },
  {
   "cell_type": "code",
   "execution_count": 48,
   "id": "036bfd1d-9324-4047-8ab7-e6859a12f8fe",
   "metadata": {},
   "outputs": [
    {
     "data": {
      "text/plain": [
       "set()"
      ]
     },
     "execution_count": 48,
     "metadata": {},
     "output_type": "execute_result"
    }
   ],
   "source": [
    "my_set"
   ]
  },
  {
   "cell_type": "code",
   "execution_count": 50,
   "id": "8b11e7d8-b5ab-44d2-9b27-66f249e532a8",
   "metadata": {},
   "outputs": [],
   "source": [
    "set1={1,2,3}\n",
    "set2={3,4,5}"
   ]
  },
  {
   "cell_type": "code",
   "execution_count": 52,
   "id": "e274f694-3070-4b3f-bd7f-4f27d6f08dba",
   "metadata": {},
   "outputs": [
    {
     "data": {
      "text/plain": [
       "{1, 2, 3, 4, 5}"
      ]
     },
     "execution_count": 52,
     "metadata": {},
     "output_type": "execute_result"
    }
   ],
   "source": [
    "set1.union(set2)"
   ]
  },
  {
   "cell_type": "code",
   "execution_count": 54,
   "id": "6308ca8e-52ae-466b-a1ae-adbe33b5006f",
   "metadata": {},
   "outputs": [],
   "source": [
    "set3={4,5,6,7}\n",
    "set4={7,6,8,9}"
   ]
  },
  {
   "cell_type": "code",
   "execution_count": 56,
   "id": "7c7fb873-7325-4a0a-baf8-74422b634156",
   "metadata": {},
   "outputs": [
    {
     "data": {
      "text/plain": [
       "{6, 7}"
      ]
     },
     "execution_count": 56,
     "metadata": {},
     "output_type": "execute_result"
    }
   ],
   "source": [
    "set3.intersection(set4)"
   ]
  },
  {
   "cell_type": "code",
   "execution_count": 58,
   "id": "c039e14a-fe15-44bf-8d70-19c7585de832",
   "metadata": {},
   "outputs": [
    {
     "data": {
      "text/plain": [
       "{6, 7}"
      ]
     },
     "execution_count": 58,
     "metadata": {},
     "output_type": "execute_result"
    }
   ],
   "source": [
    "set3.intersection(set4)"
   ]
  },
  {
   "cell_type": "code",
   "execution_count": 60,
   "id": "f7a2d70e-27c2-4421-a7be-62e11b6ac6ad",
   "metadata": {},
   "outputs": [
    {
     "data": {
      "text/plain": [
       "{6, 7}"
      ]
     },
     "execution_count": 60,
     "metadata": {},
     "output_type": "execute_result"
    }
   ],
   "source": [
    "set3.intersection(set4)"
   ]
  },
  {
   "cell_type": "code",
   "execution_count": 62,
   "id": "2f19e5e5-c51d-46e0-8727-1b8abdf3e5fe",
   "metadata": {},
   "outputs": [],
   "source": [
    "myset1={1,2,3}\n",
    "myset2={2,3}"
   ]
  },
  {
   "cell_type": "code",
   "execution_count": 64,
   "id": "f655f868-16b6-4204-8ff0-3a3d09f06269",
   "metadata": {},
   "outputs": [
    {
     "data": {
      "text/plain": [
       "False"
      ]
     },
     "execution_count": 64,
     "metadata": {},
     "output_type": "execute_result"
    }
   ],
   "source": [
    "myset1.issubset(myset2)\n"
   ]
  },
  {
   "cell_type": "code",
   "execution_count": 68,
   "id": "763c1337-6a31-4ac9-b6f4-5989d897efd9",
   "metadata": {},
   "outputs": [
    {
     "data": {
      "text/plain": [
       "True"
      ]
     },
     "execution_count": 68,
     "metadata": {},
     "output_type": "execute_result"
    }
   ],
   "source": [
    "myset2.issubset(myset1)"
   ]
  },
  {
   "cell_type": "code",
   "execution_count": 70,
   "id": "5f03db44-6a69-4d06-88c4-22b1d181a964",
   "metadata": {},
   "outputs": [
    {
     "data": {
      "text/plain": [
       "True"
      ]
     },
     "execution_count": 70,
     "metadata": {},
     "output_type": "execute_result"
    }
   ],
   "source": [
    "myset1.issuperset(myset2)"
   ]
  },
  {
   "cell_type": "code",
   "execution_count": 72,
   "id": "2533b850-754b-40a8-8cba-c38354ce4ccd",
   "metadata": {},
   "outputs": [
    {
     "data": {
      "text/plain": [
       "False"
      ]
     },
     "execution_count": 72,
     "metadata": {},
     "output_type": "execute_result"
    }
   ],
   "source": [
    "myset2.issuperset(myset1)"
   ]
  },
  {
   "cell_type": "code",
   "execution_count": 74,
   "id": "991e1369-8576-4c14-aa70-6f78cc1f5da9",
   "metadata": {},
   "outputs": [],
   "source": [
    "s1={1,2,3}\n",
    "s2={4,9,6}"
   ]
  },
  {
   "cell_type": "code",
   "execution_count": 76,
   "id": "bcd6e57b-6886-477e-9b50-385a4007a986",
   "metadata": {},
   "outputs": [
    {
     "data": {
      "text/plain": [
       "True"
      ]
     },
     "execution_count": 76,
     "metadata": {},
     "output_type": "execute_result"
    }
   ],
   "source": [
    "s1.isdisjoint(s2)"
   ]
  },
  {
   "cell_type": "code",
   "execution_count": 88,
   "id": "89c5c9ae-b7eb-4c67-8361-b83d0dafa085",
   "metadata": {},
   "outputs": [],
   "source": [
    "set_copy=s1.copy()"
   ]
  },
  {
   "cell_type": "code",
   "execution_count": 90,
   "id": "6959509f-ca70-47c4-925d-0b50a911a26e",
   "metadata": {},
   "outputs": [
    {
     "data": {
      "text/plain": [
       "{1, 2, 3}"
      ]
     },
     "execution_count": 90,
     "metadata": {},
     "output_type": "execute_result"
    }
   ],
   "source": [
    "set_copy"
   ]
  },
  {
   "cell_type": "code",
   "execution_count": 92,
   "id": "650d805d-4f7b-477e-b94b-357e2e4f156d",
   "metadata": {},
   "outputs": [
    {
     "data": {
      "text/plain": [
       "{2, 3, 4, 5, 23}"
      ]
     },
     "execution_count": 92,
     "metadata": {},
     "output_type": "execute_result"
    }
   ],
   "source": [
    "set"
   ]
  },
  {
   "cell_type": "code",
   "execution_count": 94,
   "id": "0048c2ca-fdd9-4051-bc43-806e02b567a6",
   "metadata": {},
   "outputs": [],
   "source": [
    "set.add(1)"
   ]
  },
  {
   "cell_type": "code",
   "execution_count": 96,
   "id": "811a8978-2716-4226-8cd7-1e97c4117e23",
   "metadata": {},
   "outputs": [
    {
     "data": {
      "text/plain": [
       "{1, 2, 3, 4, 5, 23}"
      ]
     },
     "execution_count": 96,
     "metadata": {},
     "output_type": "execute_result"
    }
   ],
   "source": [
    "set"
   ]
  },
  {
   "cell_type": "code",
   "execution_count": 98,
   "id": "538b3028-99e2-402c-b928-714eae6133c9",
   "metadata": {},
   "outputs": [],
   "source": [
    "a= frozenset(set)"
   ]
  },
  {
   "cell_type": "code",
   "execution_count": 100,
   "id": "57d34eef-80bf-431f-8577-742f08884785",
   "metadata": {},
   "outputs": [
    {
     "data": {
      "text/plain": [
       "frozenset({1, 2, 3, 4, 5, 23})"
      ]
     },
     "execution_count": 100,
     "metadata": {},
     "output_type": "execute_result"
    }
   ],
   "source": [
    "a"
   ]
  },
  {
   "cell_type": "code",
   "execution_count": 102,
   "id": "076e322e-88a8-40f1-9ccb-ce28e86d161c",
   "metadata": {},
   "outputs": [
    {
     "ename": "AttributeError",
     "evalue": "'frozenset' object has no attribute 'add'",
     "output_type": "error",
     "traceback": [
      "\u001b[1;31m---------------------------------------------------------------------------\u001b[0m",
      "\u001b[1;31mAttributeError\u001b[0m                            Traceback (most recent call last)",
      "Cell \u001b[1;32mIn[102], line 1\u001b[0m\n\u001b[1;32m----> 1\u001b[0m a\u001b[38;5;241m.\u001b[39madd(\u001b[38;5;241m3\u001b[39m)\n",
      "\u001b[1;31mAttributeError\u001b[0m: 'frozenset' object has no attribute 'add'"
     ]
    }
   ],
   "source": [
    "a.add(3)"
   ]
  },
  {
   "cell_type": "code",
   "execution_count": 104,
   "id": "4272d8d4-3794-4838-9a53-e4382ac966c9",
   "metadata": {},
   "outputs": [
    {
     "data": {
      "text/plain": [
       "6"
      ]
     },
     "execution_count": 104,
     "metadata": {},
     "output_type": "execute_result"
    }
   ],
   "source": [
    "len(set)"
   ]
  },
  {
   "cell_type": "code",
   "execution_count": 106,
   "id": "8dfc7299-5f19-4d90-860a-01d31b60c06d",
   "metadata": {},
   "outputs": [
    {
     "data": {
      "text/plain": [
       "23"
      ]
     },
     "execution_count": 106,
     "metadata": {},
     "output_type": "execute_result"
    }
   ],
   "source": [
    "max(set)"
   ]
  },
  {
   "cell_type": "code",
   "execution_count": 108,
   "id": "b702ecf0-3f38-4f8c-9b86-5c07000cc9b0",
   "metadata": {},
   "outputs": [
    {
     "data": {
      "text/plain": [
       "1"
      ]
     },
     "execution_count": 108,
     "metadata": {},
     "output_type": "execute_result"
    }
   ],
   "source": [
    "min(set)"
   ]
  },
  {
   "cell_type": "code",
   "execution_count": 110,
   "id": "be2e3b8c-8652-46e8-9a8c-952e746141d7",
   "metadata": {},
   "outputs": [
    {
     "data": {
      "text/plain": [
       "38"
      ]
     },
     "execution_count": 110,
     "metadata": {},
     "output_type": "execute_result"
    }
   ],
   "source": [
    "sum(set)"
   ]
  },
  {
   "cell_type": "code",
   "execution_count": 112,
   "id": "80ef0fb4-ac83-49c4-9c4c-33c5eebc1d59",
   "metadata": {},
   "outputs": [],
   "source": [
    "a=(20,34,12,56)"
   ]
  },
  {
   "cell_type": "code",
   "execution_count": 114,
   "id": "a2e1e806-cf71-4c25-8e9a-1a6ea3e53b90",
   "metadata": {},
   "outputs": [
    {
     "data": {
      "text/plain": [
       "[12, 20, 34, 56]"
      ]
     },
     "execution_count": 114,
     "metadata": {},
     "output_type": "execute_result"
    }
   ],
   "source": [
    "sorted(a)"
   ]
  },
  {
   "cell_type": "code",
   "execution_count": 116,
   "id": "d855e54e-b9ca-4685-bf1c-b92619b6c82b",
   "metadata": {},
   "outputs": [
    {
     "data": {
      "text/plain": [
       "[1, 2, 3, 5]"
      ]
     },
     "execution_count": 116,
     "metadata": {},
     "output_type": "execute_result"
    }
   ],
   "source": [
    "my_set={3,5,2,1}\n",
    "a = sorted(my_set)\n",
    "a"
   ]
  },
  {
   "cell_type": "code",
   "execution_count": 118,
   "id": "19a92d7b-2b8c-492c-9a31-9326b334dbe6",
   "metadata": {},
   "outputs": [
    {
     "data": {
      "text/plain": [
       "list"
      ]
     },
     "execution_count": 118,
     "metadata": {},
     "output_type": "execute_result"
    }
   ],
   "source": [
    "type(a)"
   ]
  },
  {
   "cell_type": "code",
   "execution_count": 120,
   "id": "4cbc4d20-c04a-4f1e-9390-e0a589108897",
   "metadata": {},
   "outputs": [
    {
     "data": {
      "text/plain": [
       "set"
      ]
     },
     "execution_count": 120,
     "metadata": {},
     "output_type": "execute_result"
    }
   ],
   "source": [
    "type(my_set)"
   ]
  },
  {
   "cell_type": "code",
   "execution_count": 122,
   "id": "be830491-330f-46e6-9642-ee17577e9b09",
   "metadata": {},
   "outputs": [
    {
     "data": {
      "text/plain": [
       "True"
      ]
     },
     "execution_count": 122,
     "metadata": {},
     "output_type": "execute_result"
    }
   ],
   "source": [
    "s={0,3,'hi',(5)}\n",
    "any(set)"
   ]
  },
  {
   "cell_type": "code",
   "execution_count": 124,
   "id": "98cc7dac-386a-48e3-a192-984387b56c01",
   "metadata": {},
   "outputs": [
    {
     "data": {
      "text/plain": [
       "True"
      ]
     },
     "execution_count": 124,
     "metadata": {},
     "output_type": "execute_result"
    }
   ],
   "source": [
    "all(set)"
   ]
  },
  {
   "cell_type": "code",
   "execution_count": 126,
   "id": "38902130-8bda-4a60-934b-9d69517b8fb4",
   "metadata": {},
   "outputs": [],
   "source": [
    "my_list=[1,2,3,2,4,5,3]"
   ]
  },
  {
   "cell_type": "code",
   "execution_count": 128,
   "id": "13f473ee-7b12-44bd-a1e5-00a58ebe0cbb",
   "metadata": {},
   "outputs": [
    {
     "ename": "TypeError",
     "evalue": "'set' object is not callable",
     "output_type": "error",
     "traceback": [
      "\u001b[1;31m---------------------------------------------------------------------------\u001b[0m",
      "\u001b[1;31mTypeError\u001b[0m                                 Traceback (most recent call last)",
      "Cell \u001b[1;32mIn[128], line 1\u001b[0m\n\u001b[1;32m----> 1\u001b[0m my_set\u001b[38;5;241m=\u001b[39m\u001b[38;5;28mset\u001b[39m(my_list)\n",
      "\u001b[1;31mTypeError\u001b[0m: 'set' object is not callable"
     ]
    }
   ],
   "source": [
    "my_set=set(my_list)"
   ]
  },
  {
   "cell_type": "code",
   "execution_count": 130,
   "id": "e2aafe3f-d6ab-463e-adff-d3d93773fa8e",
   "metadata": {},
   "outputs": [
    {
     "data": {
      "text/plain": [
       "{1, 2, 3, 5}"
      ]
     },
     "execution_count": 130,
     "metadata": {},
     "output_type": "execute_result"
    }
   ],
   "source": [
    "my_set"
   ]
  },
  {
   "cell_type": "code",
   "execution_count": 132,
   "id": "3438b57a-2d42-408a-97ea-d1a0c3a66b7c",
   "metadata": {},
   "outputs": [],
   "source": [
    "number = [1,2,3,4,5]"
   ]
  },
  {
   "cell_type": "code",
   "execution_count": 134,
   "id": "a68f2629-7ed4-4ee6-a812-2278dc1b4de3",
   "metadata": {},
   "outputs": [],
   "source": [
    "squares_set ={x**2 for x in number}"
   ]
  },
  {
   "cell_type": "code",
   "execution_count": 136,
   "id": "9db71c83-fe06-4fbf-b2a1-1efbf60018c9",
   "metadata": {},
   "outputs": [
    {
     "name": "stdout",
     "output_type": "stream",
     "text": [
      "{1, 4, 9, 16, 25}\n"
     ]
    }
   ],
   "source": [
    "print(squares_set)"
   ]
  },
  {
   "cell_type": "code",
   "execution_count": 138,
   "id": "37f88f73-1bb8-4529-adee-e4287f544b4d",
   "metadata": {},
   "outputs": [],
   "source": [
    "no=[1,2,3,4,5]"
   ]
  },
  {
   "cell_type": "code",
   "execution_count": 140,
   "id": "9f5fcb2d-c2d1-45be-bbcb-7e589d84acd7",
   "metadata": {},
   "outputs": [],
   "source": [
    "even_squares_set={x**2 for x in no if x%2==0}"
   ]
  },
  {
   "cell_type": "code",
   "execution_count": 142,
   "id": "68c67061-24b1-45fa-be81-67b0746a5dde",
   "metadata": {},
   "outputs": [
    {
     "name": "stdout",
     "output_type": "stream",
     "text": [
      "{16, 4}\n"
     ]
    }
   ],
   "source": [
    "print(even_squares_set)"
   ]
  },
  {
   "cell_type": "code",
   "execution_count": null,
   "id": "78a00c36-e050-41c4-90b8-58171074db31",
   "metadata": {},
   "outputs": [],
   "source": []
  }
 ],
 "metadata": {
  "kernelspec": {
   "display_name": "Python [conda env:base] *",
   "language": "python",
   "name": "conda-base-py"
  },
  "language_info": {
   "codemirror_mode": {
    "name": "ipython",
    "version": 3
   },
   "file_extension": ".py",
   "mimetype": "text/x-python",
   "name": "python",
   "nbconvert_exporter": "python",
   "pygments_lexer": "ipython3",
   "version": "3.12.7"
  }
 },
 "nbformat": 4,
 "nbformat_minor": 5
}
