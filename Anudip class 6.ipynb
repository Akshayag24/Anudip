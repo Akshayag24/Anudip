{
 "cells": [
  {
   "cell_type": "code",
   "execution_count": null,
   "id": "44a0b6ca-fc78-41a4-94f2-f2439c4f67a6",
   "metadata": {},
   "outputs": [],
   "source": [
    "#Loops operations on strings in python"
   ]
  },
  {
   "cell_type": "raw",
   "id": "45eca216-f6c8-48ca-b1df-1a6ff0c02019",
   "metadata": {},
   "source": [
    "#1.for loop "
   ]
  },
  {
   "cell_type": "code",
   "execution_count": 8,
   "id": "00f8fcb1-7771-4d58-a3d2-35b4e8f0b9b9",
   "metadata": {},
   "outputs": [
    {
     "name": "stdout",
     "output_type": "stream",
     "text": [
      "p\n",
      "y\n",
      "t\n",
      "h\n",
      "o\n",
      "n\n"
     ]
    }
   ],
   "source": [
    "text =\"python\"\n",
    "for char in text:\n",
    "    print(char)"
   ]
  },
  {
   "cell_type": "code",
   "execution_count": 10,
   "id": "0637f1b2-aa67-44ad-ab05-fb119d805f30",
   "metadata": {},
   "outputs": [
    {
     "name": "stdout",
     "output_type": "stream",
     "text": [
      "uppercase string: PROGRAMMING\n"
     ]
    }
   ],
   "source": [
    "text=\"programming\"\n",
    "uppercase_text=\"\"\n",
    "for char in text:\n",
    "    uppercase_text+=char.upper()\n",
    "print(\"uppercase string:\",uppercase_text)\n",
    "        "
   ]
  },
  {
   "cell_type": "code",
   "execution_count": null,
   "id": "9a37af0a-3235-4b55-9bde-2fa0a507e402",
   "metadata": {},
   "outputs": [],
   "source": [
    "#membership operators in strings"
   ]
  },
  {
   "cell_type": "code",
   "execution_count": null,
   "id": "05d5d9bf-5246-4011-a6e8-89e1ea1e80a2",
   "metadata": {},
   "outputs": [],
   "source": [
    "#1. in operator"
   ]
  },
  {
   "cell_type": "code",
   "execution_count": 12,
   "id": "5ec6d1f0-b1dc-4722-8453-2dd34a18eb81",
   "metadata": {},
   "outputs": [
    {
     "data": {
      "text/plain": [
       "True"
      ]
     },
     "execution_count": 12,
     "metadata": {},
     "output_type": "execute_result"
    }
   ],
   "source": [
    "text=\"hello, world!\"\n",
    "\"w\" in text"
   ]
  },
  {
   "cell_type": "code",
   "execution_count": 14,
   "id": "f368e966-42d0-4791-b3fb-30e1b406ea07",
   "metadata": {},
   "outputs": [
    {
     "data": {
      "text/plain": [
       "True"
      ]
     },
     "execution_count": 14,
     "metadata": {},
     "output_type": "execute_result"
    }
   ],
   "source": [
    "'ello' in text"
   ]
  },
  {
   "cell_type": "code",
   "execution_count": null,
   "id": "d9546bfc-1292-4b58-bbd4-afd5ec0a60d4",
   "metadata": {},
   "outputs": [],
   "source": [
    "#2 not in operator"
   ]
  },
  {
   "cell_type": "code",
   "execution_count": 16,
   "id": "326390fe-6487-4f8f-809e-f62d41811d59",
   "metadata": {},
   "outputs": [
    {
     "data": {
      "text/plain": [
       "False"
      ]
     },
     "execution_count": 16,
     "metadata": {},
     "output_type": "execute_result"
    }
   ],
   "source": [
    "text=\"hello,world!\"\n",
    "\"hello\" not in text"
   ]
  },
  {
   "cell_type": "code",
   "execution_count": 18,
   "id": "e4dbd3a7-5e00-4b80-ba1b-24cdf90af3da",
   "metadata": {},
   "outputs": [
    {
     "data": {
      "text/plain": [
       "True"
      ]
     },
     "execution_count": 18,
     "metadata": {},
     "output_type": "execute_result"
    }
   ],
   "source": [
    "'hep' not in text"
   ]
  },
  {
   "cell_type": "code",
   "execution_count": 22,
   "id": "2d0656db-58fc-44a2-9771-3e80529f091b",
   "metadata": {},
   "outputs": [],
   "source": [
    "text=\"hello,world!\"\n",
    "result=\"hello\" not in text"
   ]
  },
  {
   "cell_type": "code",
   "execution_count": null,
   "id": "e9c167da-db60-4667-8f3e-f3a628b2a706",
   "metadata": {},
   "outputs": [],
   "source": [
    "#str.title()"
   ]
  },
  {
   "cell_type": "code",
   "execution_count": 28,
   "id": "86258cee-a9a2-4a58-9564-034059817ae4",
   "metadata": {},
   "outputs": [
    {
     "data": {
      "text/plain": [
       "'Hello,World! Try'"
      ]
     },
     "execution_count": 28,
     "metadata": {},
     "output_type": "execute_result"
    }
   ],
   "source": [
    "text=\"hello,world! try\"\n",
    "text.title()\n"
   ]
  },
  {
   "cell_type": "code",
   "execution_count": null,
   "id": "00c2f9f6-5718-4ecf-97a5-fc430e81b8e3",
   "metadata": {},
   "outputs": [],
   "source": [
    "#str.strip()"
   ]
  },
  {
   "cell_type": "code",
   "execution_count": 38,
   "id": "afc4c6f1-14a8-47d7-bc5a-cab6b95ca39e",
   "metadata": {},
   "outputs": [
    {
     "data": {
      "text/plain": [
       "'hello, world!'"
      ]
     },
     "execution_count": 38,
     "metadata": {},
     "output_type": "execute_result"
    }
   ],
   "source": [
    "text=\"hello, world!\"\n",
    "text.strip()"
   ]
  },
  {
   "cell_type": "code",
   "execution_count": null,
   "id": "d04ad68d-4024-4851-a26f-73683e65284e",
   "metadata": {},
   "outputs": [],
   "source": [
    "#str.replace(old,new)"
   ]
  },
  {
   "cell_type": "code",
   "execution_count": 3,
   "id": "5276ecee-4490-4713-8580-61c74f0478ff",
   "metadata": {},
   "outputs": [
    {
     "data": {
      "text/plain": [
       "'hello world'"
      ]
     },
     "execution_count": 3,
     "metadata": {},
     "output_type": "execute_result"
    }
   ],
   "source": [
    "text='hello python'\n",
    "text.replace('python','world')"
   ]
  },
  {
   "cell_type": "code",
   "execution_count": 5,
   "id": "77da35ff-15f1-4ca7-881f-19d354619394",
   "metadata": {},
   "outputs": [
    {
     "data": {
      "text/plain": [
       "'HELLO PYTHON'"
      ]
     },
     "execution_count": 5,
     "metadata": {},
     "output_type": "execute_result"
    }
   ],
   "source": [
    "nxt='hello python'\n",
    "nxt.upper()"
   ]
  },
  {
   "cell_type": "code",
   "execution_count": 7,
   "id": "9be2613d-8bd4-415e-afd4-1be20ac01b2f",
   "metadata": {},
   "outputs": [
    {
     "data": {
      "text/plain": [
       "['hello,', 'this', 'is', 'the', 'python', 'coding', 'class']"
      ]
     },
     "execution_count": 7,
     "metadata": {},
     "output_type": "execute_result"
    }
   ],
   "source": [
    "text=\"hello, this is the python coding class\"\n",
    "text.split(\" \")\n"
   ]
  },
  {
   "cell_type": "code",
   "execution_count": 9,
   "id": "ba780029-6c3f-469e-9914-390fbb445192",
   "metadata": {},
   "outputs": [
    {
     "data": {
      "text/plain": [
       "['hello, ', ' is the python coding class']"
      ]
     },
     "execution_count": 9,
     "metadata": {},
     "output_type": "execute_result"
    }
   ],
   "source": [
    "text=\"hello, this is the python coding class\"\n",
    "text.split(\"this\")"
   ]
  },
  {
   "cell_type": "code",
   "execution_count": null,
   "id": "1f4441a8-0757-4dba-8e5c-16be2fd787e8",
   "metadata": {},
   "outputs": [],
   "source": [
    "str.join(iterable)"
   ]
  },
  {
   "cell_type": "code",
   "execution_count": 40,
   "id": "8f893800-e1b0-4126-a109-747683ba1e38",
   "metadata": {},
   "outputs": [
    {
     "data": {
      "text/plain": [
       "['hello', 'world', 'this', 'is']"
      ]
     },
     "execution_count": 40,
     "metadata": {},
     "output_type": "execute_result"
    }
   ],
   "source": [
    "words=[\"hello\", \"world\",'this','is']\n",
    "words"
   ]
  },
  {
   "cell_type": "code",
   "execution_count": 42,
   "id": "7b525793-2507-4280-afd4-b1da07f36a04",
   "metadata": {},
   "outputs": [],
   "source": [
    "joined_text='---'.join(words)"
   ]
  },
  {
   "cell_type": "code",
   "execution_count": 45,
   "id": "2c865ab8-8631-430b-9725-69c4126f2e29",
   "metadata": {},
   "outputs": [
    {
     "data": {
      "text/plain": [
       "'hello---world---this---is'"
      ]
     },
     "execution_count": 45,
     "metadata": {},
     "output_type": "execute_result"
    }
   ],
   "source": [
    "joined_text"
   ]
  },
  {
   "cell_type": "code",
   "execution_count": null,
   "id": "2bb8b3b2-f1db-425f-bcd2-c2464f91a82b",
   "metadata": {},
   "outputs": [],
   "source": [
    "#str.find(substring)"
   ]
  },
  {
   "cell_type": "code",
   "execution_count": 47,
   "id": "ff00e354-6057-4f42-91cb-a3509f9a12e9",
   "metadata": {},
   "outputs": [],
   "source": [
    "text=\"hello, world!\"\n",
    "index=text.find(\"world\")"
   ]
  },
  {
   "cell_type": "code",
   "execution_count": 49,
   "id": "b7ff9c12-7977-4669-a4bc-60ef52ccb5c1",
   "metadata": {},
   "outputs": [
    {
     "data": {
      "text/plain": [
       "7"
      ]
     },
     "execution_count": 49,
     "metadata": {},
     "output_type": "execute_result"
    }
   ],
   "source": [
    "index"
   ]
  },
  {
   "cell_type": "code",
   "execution_count": null,
   "id": "e116dfa8-2f1a-425e-855d-eb9362d77398",
   "metadata": {},
   "outputs": [],
   "source": [
    "#str.count(substring)"
   ]
  },
  {
   "cell_type": "code",
   "execution_count": 51,
   "id": "122f82ab-fd50-4c88-8169-a4e50157142d",
   "metadata": {},
   "outputs": [],
   "source": [
    "text=\"hello,hello,world!\"\n",
    "count=text.count(\"o\")"
   ]
  },
  {
   "cell_type": "code",
   "execution_count": 53,
   "id": "6de334bb-d0bd-4042-b932-d27ad3046d40",
   "metadata": {},
   "outputs": [
    {
     "data": {
      "text/plain": [
       "3"
      ]
     },
     "execution_count": 53,
     "metadata": {},
     "output_type": "execute_result"
    }
   ],
   "source": [
    "count"
   ]
  },
  {
   "cell_type": "code",
   "execution_count": 55,
   "id": "74963332-8217-4c0d-807c-1fa804effb7d",
   "metadata": {},
   "outputs": [],
   "source": [
    "text=\"hello,hello,world!\"\n",
    "count=text.count(\"hello\")"
   ]
  },
  {
   "cell_type": "code",
   "execution_count": 57,
   "id": "791cdb96-6835-4902-8c48-fc85a6060810",
   "metadata": {},
   "outputs": [
    {
     "data": {
      "text/plain": [
       "2"
      ]
     },
     "execution_count": 57,
     "metadata": {},
     "output_type": "execute_result"
    }
   ],
   "source": [
    "count"
   ]
  },
  {
   "cell_type": "code",
   "execution_count": null,
   "id": "350410b8-189d-49be-96e5-0dc8da967508",
   "metadata": {},
   "outputs": [],
   "source": [
    "#str.startswith(prefix)"
   ]
  },
  {
   "cell_type": "code",
   "execution_count": 59,
   "id": "4558c675-7192-471e-8557-03128ec73969",
   "metadata": {},
   "outputs": [],
   "source": [
    "text=\"hello,world!\""
   ]
  },
  {
   "cell_type": "code",
   "execution_count": 61,
   "id": "828c5e71-9fef-4ac7-ac77-57057c3949b7",
   "metadata": {},
   "outputs": [
    {
     "data": {
      "text/plain": [
       "False"
      ]
     },
     "execution_count": 61,
     "metadata": {},
     "output_type": "execute_result"
    }
   ],
   "source": [
    "text.startswith(\"world\")"
   ]
  },
  {
   "cell_type": "code",
   "execution_count": null,
   "id": "f6be2f32-a4e9-4852-a9d6-2d3ee257001b",
   "metadata": {},
   "outputs": [],
   "source": [
    "#str.endswith(suffix)"
   ]
  },
  {
   "cell_type": "code",
   "execution_count": 63,
   "id": "f87965ee-d6c8-4f43-8d5b-0f3809658d5b",
   "metadata": {},
   "outputs": [
    {
     "data": {
      "text/plain": [
       "True"
      ]
     },
     "execution_count": 63,
     "metadata": {},
     "output_type": "execute_result"
    }
   ],
   "source": [
    "text=\"hello,world!\"\n",
    "text.endswith(\"!\")"
   ]
  },
  {
   "cell_type": "code",
   "execution_count": null,
   "id": "38e0011b-e529-418a-9700-315521e0c265",
   "metadata": {},
   "outputs": [],
   "source": [
    "#str.isdigit()"
   ]
  },
  {
   "cell_type": "code",
   "execution_count": 71,
   "id": "7f782c1a-8705-46a8-a730-ae9f929da8f7",
   "metadata": {},
   "outputs": [],
   "source": [
    "text=\"12345\"\n",
    "is_digit=text.isdigit()"
   ]
  },
  {
   "cell_type": "code",
   "execution_count": 75,
   "id": "dcf72a38-017c-4200-bc71-fc3959ce7b67",
   "metadata": {},
   "outputs": [
    {
     "data": {
      "text/plain": [
       "True"
      ]
     },
     "execution_count": 75,
     "metadata": {},
     "output_type": "execute_result"
    }
   ],
   "source": [
    "text=\"55685445\"\n",
    "text.isdigit()"
   ]
  },
  {
   "cell_type": "code",
   "execution_count": null,
   "id": "72e45b6b-03e3-437c-9730-e54ef22bd650",
   "metadata": {},
   "outputs": [],
   "source": [
    "#str.isalpha()"
   ]
  },
  {
   "cell_type": "code",
   "execution_count": 79,
   "id": "629f022c-cb89-467e-98e2-02ce0dcf77b6",
   "metadata": {},
   "outputs": [],
   "source": [
    "text=\"hello\"\n",
    "is_alpha=text.isalpha()"
   ]
  },
  {
   "cell_type": "code",
   "execution_count": 99,
   "id": "03440b9a-b172-4871-901e-1d48ab556a05",
   "metadata": {},
   "outputs": [],
   "source": [
    "text=\"hello\"\n",
    "is_alpha=text.isalpha()"
   ]
  },
  {
   "cell_type": "code",
   "execution_count": 103,
   "id": "e53f0235-5ad8-424a-8139-edaeaee4070e",
   "metadata": {},
   "outputs": [
    {
     "data": {
      "text/plain": [
       "True"
      ]
     },
     "execution_count": 103,
     "metadata": {},
     "output_type": "execute_result"
    }
   ],
   "source": [
    "is_alpha"
   ]
  },
  {
   "cell_type": "code",
   "execution_count": null,
   "id": "9958012c-6b07-44ef-b91e-7def6650b1ff",
   "metadata": {},
   "outputs": [],
   "source": [
    "#str.islower()"
   ]
  },
  {
   "cell_type": "code",
   "execution_count": 85,
   "id": "90df6ede-a476-4832-93d9-8506f133f5a3",
   "metadata": {},
   "outputs": [
    {
     "data": {
      "text/plain": [
       "True"
      ]
     },
     "execution_count": 85,
     "metadata": {},
     "output_type": "execute_result"
    }
   ],
   "source": [
    "text=\"hello\"\n",
    "is_lower=text.islower()\n",
    "is_lower"
   ]
  },
  {
   "cell_type": "code",
   "execution_count": null,
   "id": "4c9544c2-5764-4df2-a4fa-694548c9e0cb",
   "metadata": {},
   "outputs": [],
   "source": [
    "#str.isupper()"
   ]
  },
  {
   "cell_type": "code",
   "execution_count": 87,
   "id": "2cab7587-c868-41f1-8be6-a8a8d400e8ff",
   "metadata": {},
   "outputs": [
    {
     "data": {
      "text/plain": [
       "True"
      ]
     },
     "execution_count": 87,
     "metadata": {},
     "output_type": "execute_result"
    }
   ],
   "source": [
    "text=\"HELLO\"\n",
    "is_upper=text.isupper()\n",
    "is_upper"
   ]
  },
  {
   "cell_type": "code",
   "execution_count": null,
   "id": "03437d22-2eb9-41ce-ba06-31a06cbde177",
   "metadata": {},
   "outputs": [],
   "source": [
    "#str.zfill(width)\n"
   ]
  },
  {
   "cell_type": "code",
   "execution_count": 91,
   "id": "e0112aa3-e9ec-4095-b5ed-9c82c40d47d3",
   "metadata": {},
   "outputs": [
    {
     "data": {
      "text/plain": [
       "'00042'"
      ]
     },
     "execution_count": 91,
     "metadata": {},
     "output_type": "execute_result"
    }
   ],
   "source": [
    "text=\"42\"\n",
    "padded_text=text.zfill(5)\n",
    "padded_text"
   ]
  },
  {
   "cell_type": "code",
   "execution_count": null,
   "id": "94327719-bdfe-49bc-a6a2-86fe6d3e1d54",
   "metadata": {},
   "outputs": [],
   "source": [
    "#str.rfind(substring)"
   ]
  },
  {
   "cell_type": "code",
   "execution_count": 93,
   "id": "41665278-051d-4fd5-b46e-a7c826855fba",
   "metadata": {},
   "outputs": [],
   "source": [
    "text=\"hello,hello,hello world\"\n",
    "index=text.rfind(\"world\")"
   ]
  },
  {
   "cell_type": "code",
   "execution_count": 95,
   "id": "94d078ff-2950-4498-81fb-0f32ce55f006",
   "metadata": {},
   "outputs": [
    {
     "data": {
      "text/plain": [
       "18"
      ]
     },
     "execution_count": 95,
     "metadata": {},
     "output_type": "execute_result"
    }
   ],
   "source": [
    "index"
   ]
  },
  {
   "cell_type": "code",
   "execution_count": null,
   "id": "82952932-4462-40be-b497-40c3eede9d00",
   "metadata": {},
   "outputs": [],
   "source": []
  },
  {
   "cell_type": "code",
   "execution_count": null,
   "id": "900654da-8051-48fb-ab81-9249c0daff10",
   "metadata": {},
   "outputs": [],
   "source": []
  },
  {
   "cell_type": "code",
   "execution_count": null,
   "id": "05cdae91-93dd-472b-8bd1-a1d5ac79c425",
   "metadata": {},
   "outputs": [],
   "source": [
    "#common functions"
   ]
  },
  {
   "cell_type": "code",
   "execution_count": null,
   "id": "b40a64fa-29fa-4af4-967e-5025abebb447",
   "metadata": {},
   "outputs": [],
   "source": [
    "#1. min()"
   ]
  },
  {
   "cell_type": "code",
   "execution_count": 19,
   "id": "a270ae38-5205-442c-8a1d-c2245705de58",
   "metadata": {},
   "outputs": [
    {
     "data": {
      "text/plain": [
       "'apple'"
      ]
     },
     "execution_count": 19,
     "metadata": {},
     "output_type": "execute_result"
    }
   ],
   "source": [
    "words=['apple','banana','cherry']\n",
    "smallest_word=min(words)\n",
    "smallest_word"
   ]
  },
  {
   "cell_type": "code",
   "execution_count": 21,
   "id": "0341546a-d751-4608-9f4b-0aafd9891ccf",
   "metadata": {},
   "outputs": [
    {
     "data": {
      "text/plain": [
       "'cherry'"
      ]
     },
     "execution_count": 21,
     "metadata": {},
     "output_type": "execute_result"
    }
   ],
   "source": [
    "words=['apple','banana','cherry']\n",
    "largest_word=max(words)\n",
    "largest_word"
   ]
  },
  {
   "cell_type": "code",
   "execution_count": 23,
   "id": "279c2762-1bf4-4315-9203-7671e3ba9fba",
   "metadata": {},
   "outputs": [
    {
     "data": {
      "text/plain": [
       "11"
      ]
     },
     "execution_count": 23,
     "metadata": {},
     "output_type": "execute_result"
    }
   ],
   "source": [
    "text='hello world'\n",
    "length=len(text)\n",
    "length"
   ]
  },
  {
   "cell_type": "code",
   "execution_count": 25,
   "id": "39f74689-55c4-4cb7-ae57-11e91fe78f0f",
   "metadata": {},
   "outputs": [
    {
     "data": {
      "text/plain": [
       "13"
      ]
     },
     "execution_count": 25,
     "metadata": {},
     "output_type": "execute_result"
    }
   ],
   "source": [
    "text='  programming'\n",
    "len(text)\n"
   ]
  },
  {
   "cell_type": "code",
   "execution_count": 27,
   "id": "7c41f82f-3e45-4043-b706-41f1fb87a346",
   "metadata": {},
   "outputs": [
    {
     "data": {
      "text/plain": [
       "['a', 'a', 'a', 'b', 'n', 'n']"
      ]
     },
     "execution_count": 27,
     "metadata": {},
     "output_type": "execute_result"
    }
   ],
   "source": [
    "text='banana'\n",
    "sorted(text)"
   ]
  },
  {
   "cell_type": "code",
   "execution_count": 29,
   "id": "2de786c4-4029-4d37-9d83-254b4cfba4d2",
   "metadata": {},
   "outputs": [
    {
     "data": {
      "text/plain": [
       "'dlrow olleh'"
      ]
     },
     "execution_count": 29,
     "metadata": {},
     "output_type": "execute_result"
    }
   ],
   "source": [
    "text='hello world'\n",
    "''.join(reversed(text))"
   ]
  },
  {
   "cell_type": "code",
   "execution_count": 31,
   "id": "eb27cde6-ad4e-4deb-becd-784228477e8a",
   "metadata": {},
   "outputs": [
    {
     "data": {
      "text/plain": [
       "10"
      ]
     },
     "execution_count": 31,
     "metadata": {},
     "output_type": "execute_result"
    }
   ],
   "source": [
    "numbers=[1,2,3,4]\n",
    "total=sum(numbers)\n",
    "total"
   ]
  },
  {
   "cell_type": "code",
   "execution_count": 33,
   "id": "31c42d1d-1c7d-4212-86d8-ba7d36df4dcc",
   "metadata": {},
   "outputs": [],
   "source": [
    "name='achu'"
   ]
  },
  {
   "cell_type": "code",
   "execution_count": 35,
   "id": "d54b5dbe-2be9-493c-b494-703b274b11fd",
   "metadata": {},
   "outputs": [
    {
     "name": "stdout",
     "output_type": "stream",
     "text": [
      "hello achu welcome to the python world\n"
     ]
    }
   ],
   "source": [
    "print(f'hello',name,'welcome to the python world')"
   ]
  },
  {
   "cell_type": "code",
   "execution_count": 39,
   "id": "d7f789bd-24cc-41c4-ad82-d781e5bf32f6",
   "metadata": {},
   "outputs": [
    {
     "data": {
      "text/plain": [
       "'achhu mu'"
      ]
     },
     "execution_count": 39,
     "metadata": {},
     "output_type": "execute_result"
    }
   ],
   "source": [
    "first_name='achhu'\n",
    "last_name='mu'\n",
    "full_name=first_name+\" \"+last_name\n",
    "result=full_name\n",
    "result"
   ]
  },
  {
   "cell_type": "code",
   "execution_count": null,
   "id": "5b8eeb1a-179f-4940-8fae-1a28d5283333",
   "metadata": {},
   "outputs": [],
   "source": []
  }
 ],
 "metadata": {
  "kernelspec": {
   "display_name": "Python [conda env:base] *",
   "language": "python",
   "name": "conda-base-py"
  },
  "language_info": {
   "codemirror_mode": {
    "name": "ipython",
    "version": 3
   },
   "file_extension": ".py",
   "mimetype": "text/x-python",
   "name": "python",
   "nbconvert_exporter": "python",
   "pygments_lexer": "ipython3",
   "version": "3.12.7"
  }
 },
 "nbformat": 4,
 "nbformat_minor": 5
}
