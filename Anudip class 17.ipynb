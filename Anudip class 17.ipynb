{
 "cells": [
  {
   "cell_type": "code",
   "execution_count": null,
   "id": "1f5b4114-cc67-4a6e-8d65-96786a898c72",
   "metadata": {},
   "outputs": [],
   "source": [
    "#creating numpy array"
   ]
  },
  {
   "cell_type": "code",
   "execution_count": 2,
   "id": "651dac9e-cded-4000-b55e-f3e21ceac822",
   "metadata": {},
   "outputs": [],
   "source": [
    "import numpy as np"
   ]
  },
  {
   "cell_type": "code",
   "execution_count": 4,
   "id": "cd229ca3-8b15-413b-8a1c-4a7b2a27540d",
   "metadata": {},
   "outputs": [],
   "source": [
    "a= np.ones((3,4))"
   ]
  },
  {
   "cell_type": "code",
   "execution_count": 6,
   "id": "ada11473-d5de-4d7c-84f6-c6a925c234d6",
   "metadata": {},
   "outputs": [
    {
     "data": {
      "text/plain": [
       "numpy.ndarray"
      ]
     },
     "execution_count": 6,
     "metadata": {},
     "output_type": "execute_result"
    }
   ],
   "source": [
    "type(a)\n"
   ]
  },
  {
   "cell_type": "code",
   "execution_count": 8,
   "id": "edde278b-8f97-4ad7-adc9-270b843992fb",
   "metadata": {},
   "outputs": [
    {
     "data": {
      "text/plain": [
       "array([[1., 1., 1., 1.],\n",
       "       [1., 1., 1., 1.],\n",
       "       [1., 1., 1., 1.]])"
      ]
     },
     "execution_count": 8,
     "metadata": {},
     "output_type": "execute_result"
    }
   ],
   "source": [
    "a"
   ]
  },
  {
   "cell_type": "code",
   "execution_count": 10,
   "id": "42982d32-2242-49a3-8f2d-8585f884c1e3",
   "metadata": {},
   "outputs": [],
   "source": [
    "a1=np.zeros((2,4))"
   ]
  },
  {
   "cell_type": "code",
   "execution_count": 12,
   "id": "2f44e4e2-7b57-46e6-aa8c-aa2dbc583103",
   "metadata": {},
   "outputs": [
    {
     "data": {
      "text/plain": [
       "array([[0., 0., 0., 0.],\n",
       "       [0., 0., 0., 0.]])"
      ]
     },
     "execution_count": 12,
     "metadata": {},
     "output_type": "execute_result"
    }
   ],
   "source": [
    "a1"
   ]
  },
  {
   "cell_type": "code",
   "execution_count": 20,
   "id": "5a9a7878-ab0c-4939-acf8-ec23bdfd0217",
   "metadata": {},
   "outputs": [],
   "source": [
    "zeros_array=np.zeros((3,3))"
   ]
  },
  {
   "cell_type": "code",
   "execution_count": 22,
   "id": "15c3f305-ecb6-4e2b-9483-097117a6c0f5",
   "metadata": {},
   "outputs": [],
   "source": [
    "ones_array=np.ones((2,4))"
   ]
  },
  {
   "cell_type": "code",
   "execution_count": 24,
   "id": "04bff265-a003-4e27-b3d7-04779d7ec1a7",
   "metadata": {},
   "outputs": [
    {
     "data": {
      "text/plain": [
       "array([[0., 0., 0.],\n",
       "       [0., 0., 0.],\n",
       "       [0., 0., 0.]])"
      ]
     },
     "execution_count": 24,
     "metadata": {},
     "output_type": "execute_result"
    }
   ],
   "source": [
    "zeros_array"
   ]
  },
  {
   "cell_type": "code",
   "execution_count": 26,
   "id": "69c60bc5-d54d-477f-b430-4686a3719fa0",
   "metadata": {},
   "outputs": [
    {
     "data": {
      "text/plain": [
       "array([[1., 1., 1., 1.],\n",
       "       [1., 1., 1., 1.]])"
      ]
     },
     "execution_count": 26,
     "metadata": {},
     "output_type": "execute_result"
    }
   ],
   "source": [
    "ones_array"
   ]
  },
  {
   "cell_type": "code",
   "execution_count": 28,
   "id": "29d0f0cb-4bb7-476a-a293-99129890b0e4",
   "metadata": {},
   "outputs": [],
   "source": [
    "identity_matrix=np.eye(3)"
   ]
  },
  {
   "cell_type": "code",
   "execution_count": 30,
   "id": "f773ece4-a97d-4642-a698-8e36b6bd4373",
   "metadata": {},
   "outputs": [
    {
     "data": {
      "text/plain": [
       "array([[1., 0., 0.],\n",
       "       [0., 1., 0.],\n",
       "       [0., 0., 1.]])"
      ]
     },
     "execution_count": 30,
     "metadata": {},
     "output_type": "execute_result"
    }
   ],
   "source": [
    "identity_matrix"
   ]
  },
  {
   "cell_type": "code",
   "execution_count": 32,
   "id": "1eef64fb-6ba8-4af3-a624-3094c5364106",
   "metadata": {},
   "outputs": [],
   "source": [
    "b=[1,2,3,4]"
   ]
  },
  {
   "cell_type": "code",
   "execution_count": 34,
   "id": "5ade1f08-1830-4137-99a5-849a68eff7c2",
   "metadata": {},
   "outputs": [
    {
     "data": {
      "text/plain": [
       "array([1, 2, 3, 4])"
      ]
     },
     "execution_count": 34,
     "metadata": {},
     "output_type": "execute_result"
    }
   ],
   "source": [
    "np.array(b,dtype=np.int32)"
   ]
  },
  {
   "cell_type": "code",
   "execution_count": 36,
   "id": "ed9b74db-0533-40b5-9645-9e43f099f0ab",
   "metadata": {},
   "outputs": [],
   "source": [
    "int_array=np.array([1,2,3], dtype=np.int32)\n",
    "float_array=np.array([0.1,0.2,0.3],dtype=np.float64)"
   ]
  },
  {
   "cell_type": "code",
   "execution_count": 38,
   "id": "493edd8e-0a18-4ba1-9ff5-336adf42d039",
   "metadata": {},
   "outputs": [
    {
     "data": {
      "text/plain": [
       "array([1, 2, 3])"
      ]
     },
     "execution_count": 38,
     "metadata": {},
     "output_type": "execute_result"
    }
   ],
   "source": [
    "int_array"
   ]
  },
  {
   "cell_type": "code",
   "execution_count": 40,
   "id": "67610589-4ebe-4a52-b3f0-23817c0f6f54",
   "metadata": {},
   "outputs": [
    {
     "data": {
      "text/plain": [
       "array([0.1, 0.2, 0.3])"
      ]
     },
     "execution_count": 40,
     "metadata": {},
     "output_type": "execute_result"
    }
   ],
   "source": [
    "float_array"
   ]
  },
  {
   "cell_type": "code",
   "execution_count": 42,
   "id": "f111066f-8a3a-4f60-b4f7-80fdb813bae3",
   "metadata": {},
   "outputs": [],
   "source": [
    "a2=np.arange(0,8)"
   ]
  },
  {
   "cell_type": "code",
   "execution_count": 44,
   "id": "cfdb7b9d-a370-42f0-8e36-ff1ad6ba98fe",
   "metadata": {},
   "outputs": [
    {
     "data": {
      "text/plain": [
       "array([0, 1, 2, 3, 4, 5, 6, 7])"
      ]
     },
     "execution_count": 44,
     "metadata": {},
     "output_type": "execute_result"
    }
   ],
   "source": [
    "a2"
   ]
  },
  {
   "cell_type": "code",
   "execution_count": 46,
   "id": "e52aef4d-6f07-496b-a488-0e3a4a8251bc",
   "metadata": {},
   "outputs": [],
   "source": [
    "linspace_array=np.linspace(0,10,6)"
   ]
  },
  {
   "cell_type": "code",
   "execution_count": 48,
   "id": "27ed0257-36e2-4447-96cb-6940ee7856d9",
   "metadata": {},
   "outputs": [
    {
     "data": {
      "text/plain": [
       "array([ 0.,  2.,  4.,  6.,  8., 10.])"
      ]
     },
     "execution_count": 48,
     "metadata": {},
     "output_type": "execute_result"
    }
   ],
   "source": [
    "linspace_array"
   ]
  },
  {
   "cell_type": "code",
   "execution_count": 50,
   "id": "d77a3a50-dded-4f18-9992-ef047bd62e7b",
   "metadata": {},
   "outputs": [],
   "source": [
    "linspace_array1=np.linspace(0,20,5)"
   ]
  },
  {
   "cell_type": "code",
   "execution_count": 52,
   "id": "34156f78-046d-41be-b20e-68fb3c8f21a4",
   "metadata": {},
   "outputs": [
    {
     "data": {
      "text/plain": [
       "array([ 0.,  5., 10., 15., 20.])"
      ]
     },
     "execution_count": 52,
     "metadata": {},
     "output_type": "execute_result"
    }
   ],
   "source": [
    "linspace_array1"
   ]
  },
  {
   "cell_type": "code",
   "execution_count": 54,
   "id": "e2f9a4c1-2790-41da-b912-17d5f94b1556",
   "metadata": {},
   "outputs": [],
   "source": [
    "random_array=np.random.rand(4,4)"
   ]
  },
  {
   "cell_type": "code",
   "execution_count": 56,
   "id": "2aa173c5-6daf-43dd-ba59-128081d83f67",
   "metadata": {},
   "outputs": [
    {
     "data": {
      "text/plain": [
       "array([[0.87249489, 0.35969726, 0.75480825, 0.19159045],\n",
       "       [0.34440338, 0.9016489 , 0.51321141, 0.90438277],\n",
       "       [0.05131257, 0.98866744, 0.42356102, 0.85401889],\n",
       "       [0.12894317, 0.72991142, 0.02041393, 0.45975399]])"
      ]
     },
     "execution_count": 56,
     "metadata": {},
     "output_type": "execute_result"
    }
   ],
   "source": [
    "random_array"
   ]
  },
  {
   "cell_type": "code",
   "execution_count": 58,
   "id": "629dd44c-289e-4ba6-af71-52db5d557633",
   "metadata": {},
   "outputs": [],
   "source": [
    "#basic indexing"
   ]
  },
  {
   "cell_type": "code",
   "execution_count": 60,
   "id": "694cc1e1-5941-4733-9d3b-08fa072e0840",
   "metadata": {},
   "outputs": [
    {
     "name": "stdout",
     "output_type": "stream",
     "text": [
      "10\n",
      "40\n"
     ]
    }
   ],
   "source": [
    "arr=np.array([10,20,30,40])\n",
    "print(arr[0])\n",
    "print(arr[-1])"
   ]
  },
  {
   "cell_type": "code",
   "execution_count": 62,
   "id": "08c33db7-963b-4bce-a215-2800ce0d5830",
   "metadata": {},
   "outputs": [],
   "source": [
    "arr1=np.array([[23,4,6,3],[1,67,98,6]])"
   ]
  },
  {
   "cell_type": "code",
   "execution_count": 64,
   "id": "0cf52b11-3abe-4b66-9d44-59baed63904c",
   "metadata": {},
   "outputs": [
    {
     "data": {
      "text/plain": [
       "array([[23,  4,  6,  3],\n",
       "       [ 1, 67, 98,  6]])"
      ]
     },
     "execution_count": 64,
     "metadata": {},
     "output_type": "execute_result"
    }
   ],
   "source": [
    "arr1"
   ]
  },
  {
   "cell_type": "code",
   "execution_count": 66,
   "id": "7def8015-753e-4689-992a-24cd6bd8e62f",
   "metadata": {},
   "outputs": [
    {
     "name": "stdout",
     "output_type": "stream",
     "text": [
      "3\n"
     ]
    }
   ],
   "source": [
    "print(arr1[0,3])"
   ]
  },
  {
   "cell_type": "code",
   "execution_count": 68,
   "id": "1d6bd982-6a81-4627-933e-98a8d5f3e388",
   "metadata": {},
   "outputs": [
    {
     "name": "stdout",
     "output_type": "stream",
     "text": [
      "6\n"
     ]
    }
   ],
   "source": [
    "print(arr1[1,-1])"
   ]
  },
  {
   "cell_type": "code",
   "execution_count": 70,
   "id": "6ac807db-6dbb-4802-8187-e627e9391592",
   "metadata": {},
   "outputs": [],
   "source": [
    "#1D array slicing"
   ]
  },
  {
   "cell_type": "code",
   "execution_count": 72,
   "id": "b1c27714-78a2-49db-90c4-9c13f1b0b33b",
   "metadata": {},
   "outputs": [
    {
     "name": "stdout",
     "output_type": "stream",
     "text": [
      "[7 8 5]\n",
      "[1 7 8 5 4 3]\n",
      "[1 7 8 5 4]\n"
     ]
    }
   ],
   "source": [
    "arr2=np.array([1,7,8,5,4,3])\n",
    "print(arr2[1:4])\n",
    "print(arr2[:6])\n",
    "print(arr2[:-1])"
   ]
  },
  {
   "cell_type": "code",
   "execution_count": 74,
   "id": "e719291a-3b7a-4557-9f93-0c9385640c70",
   "metadata": {},
   "outputs": [],
   "source": [
    "matrix=np.array([[1,2,3],\n",
    "                 [4,5,6],\n",
    "                 [7,8,9]])"
   ]
  },
  {
   "cell_type": "code",
   "execution_count": 76,
   "id": "d65e9358-a46c-451d-9ce2-dde1746ff023",
   "metadata": {},
   "outputs": [
    {
     "name": "stdout",
     "output_type": "stream",
     "text": [
      "[[2 3]]\n"
     ]
    }
   ],
   "source": [
    "print(matrix[0:1,1:3])"
   ]
  },
  {
   "cell_type": "code",
   "execution_count": 78,
   "id": "7bbc9b82-1b78-438f-880a-e3b4a0e0e7ed",
   "metadata": {},
   "outputs": [
    {
     "name": "stdout",
     "output_type": "stream",
     "text": [
      "[[8]]\n"
     ]
    }
   ],
   "source": [
    "print(matrix[2:3,1:2])"
   ]
  },
  {
   "cell_type": "code",
   "execution_count": 80,
   "id": "3bbec855-52f0-4176-8d52-4243bd0965e9",
   "metadata": {},
   "outputs": [
    {
     "name": "stdout",
     "output_type": "stream",
     "text": [
      "[[5 6]]\n"
     ]
    }
   ],
   "source": [
    "print(matrix[1:2,1:3])"
   ]
  },
  {
   "cell_type": "code",
   "execution_count": 82,
   "id": "29d4555b-5c0c-4d45-a52f-9b39b5630ead",
   "metadata": {},
   "outputs": [],
   "source": [
    "v=np.array([1,2,3,4])"
   ]
  },
  {
   "cell_type": "code",
   "execution_count": 84,
   "id": "1dfcff8f-6ec5-4121-80d0-7086af9f7e6c",
   "metadata": {},
   "outputs": [],
   "source": [
    "s=v[1:3]"
   ]
  },
  {
   "cell_type": "code",
   "execution_count": 86,
   "id": "cb2f0b48-2770-4fea-aca7-7633eb4dcecf",
   "metadata": {},
   "outputs": [
    {
     "data": {
      "text/plain": [
       "array([2, 3])"
      ]
     },
     "execution_count": 86,
     "metadata": {},
     "output_type": "execute_result"
    }
   ],
   "source": [
    "s"
   ]
  },
  {
   "cell_type": "code",
   "execution_count": 88,
   "id": "e1a36504-2f35-4168-9a61-58d1c5baa2c6",
   "metadata": {},
   "outputs": [],
   "source": [
    "#copy"
   ]
  },
  {
   "cell_type": "code",
   "execution_count": 90,
   "id": "5dcde136-e5ca-4b4a-ac1b-159c9c4114ec",
   "metadata": {},
   "outputs": [],
   "source": [
    "a=np.array([1,2,3,4,5])"
   ]
  },
  {
   "cell_type": "code",
   "execution_count": 92,
   "id": "f6898a07-95c5-4cb6-82f0-09932525739f",
   "metadata": {},
   "outputs": [],
   "source": [
    "b=a[1:3].copy()"
   ]
  },
  {
   "cell_type": "code",
   "execution_count": 94,
   "id": "ac603e9e-ba9d-420d-8a56-a113b3360259",
   "metadata": {},
   "outputs": [
    {
     "data": {
      "text/plain": [
       "array([2, 3])"
      ]
     },
     "execution_count": 94,
     "metadata": {},
     "output_type": "execute_result"
    }
   ],
   "source": [
    "b"
   ]
  },
  {
   "cell_type": "code",
   "execution_count": 96,
   "id": "345d71c2-82d2-4e00-aa17-f70eaf50ada1",
   "metadata": {},
   "outputs": [],
   "source": [
    "#shape"
   ]
  },
  {
   "cell_type": "code",
   "execution_count": 98,
   "id": "d3172840-226f-4ba9-a2ec-b4c760e2308e",
   "metadata": {},
   "outputs": [],
   "source": [
    "arr=np.array([[1,2,3],[4,5,6]])"
   ]
  },
  {
   "cell_type": "code",
   "execution_count": 100,
   "id": "67f64282-c0f1-4e3d-97a0-9581197ee2ec",
   "metadata": {},
   "outputs": [
    {
     "data": {
      "text/plain": [
       "(2, 3)"
      ]
     },
     "execution_count": 100,
     "metadata": {},
     "output_type": "execute_result"
    }
   ],
   "source": [
    "arr.shape"
   ]
  },
  {
   "cell_type": "code",
   "execution_count": 102,
   "id": "811459a9-97a1-4de8-be72-1b379f73ee9d",
   "metadata": {},
   "outputs": [],
   "source": [
    "a=np.arange(12)"
   ]
  },
  {
   "cell_type": "code",
   "execution_count": 104,
   "id": "d232cb5d-806b-4d2e-bc72-c8673e9d3f52",
   "metadata": {},
   "outputs": [
    {
     "data": {
      "text/plain": [
       "array([ 0,  1,  2,  3,  4,  5,  6,  7,  8,  9, 10, 11])"
      ]
     },
     "execution_count": 104,
     "metadata": {},
     "output_type": "execute_result"
    }
   ],
   "source": [
    "a"
   ]
  },
  {
   "cell_type": "code",
   "execution_count": 106,
   "id": "4ce8b9ce-2212-43f8-b2eb-a0f50b0349bf",
   "metadata": {},
   "outputs": [],
   "source": [
    "b=a.reshape(3,4)"
   ]
  },
  {
   "cell_type": "code",
   "execution_count": 108,
   "id": "f1ec5d80-44fd-4466-b9a1-df6d755dc740",
   "metadata": {},
   "outputs": [
    {
     "data": {
      "text/plain": [
       "array([[ 0,  1,  2,  3],\n",
       "       [ 4,  5,  6,  7],\n",
       "       [ 8,  9, 10, 11]])"
      ]
     },
     "execution_count": 108,
     "metadata": {},
     "output_type": "execute_result"
    }
   ],
   "source": [
    "b"
   ]
  },
  {
   "cell_type": "code",
   "execution_count": 110,
   "id": "79e3afb5-8831-4456-ae98-57568c5f3c3c",
   "metadata": {},
   "outputs": [],
   "source": [
    "d=np.arange(20)"
   ]
  },
  {
   "cell_type": "code",
   "execution_count": 112,
   "id": "80c5f3d2-09a7-4e7e-93ef-ae947dde5ef9",
   "metadata": {},
   "outputs": [
    {
     "data": {
      "text/plain": [
       "array([ 0,  1,  2,  3,  4,  5,  6,  7,  8,  9, 10, 11, 12, 13, 14, 15, 16,\n",
       "       17, 18, 19])"
      ]
     },
     "execution_count": 112,
     "metadata": {},
     "output_type": "execute_result"
    }
   ],
   "source": [
    "d"
   ]
  },
  {
   "cell_type": "code",
   "execution_count": 114,
   "id": "847a1485-5d1f-4fd2-b152-5e60ecc3d8b0",
   "metadata": {},
   "outputs": [],
   "source": [
    "e=d.reshape(5,4)"
   ]
  },
  {
   "cell_type": "code",
   "execution_count": 116,
   "id": "b7defb89-c3e4-485d-b045-2d8998e06eab",
   "metadata": {},
   "outputs": [
    {
     "data": {
      "text/plain": [
       "array([[ 0,  1,  2,  3],\n",
       "       [ 4,  5,  6,  7],\n",
       "       [ 8,  9, 10, 11],\n",
       "       [12, 13, 14, 15],\n",
       "       [16, 17, 18, 19]])"
      ]
     },
     "execution_count": 116,
     "metadata": {},
     "output_type": "execute_result"
    }
   ],
   "source": [
    "e"
   ]
  },
  {
   "cell_type": "code",
   "execution_count": 118,
   "id": "f864e46e-8a9a-401b-89d8-3164f7338d25",
   "metadata": {},
   "outputs": [],
   "source": [
    "arr_3d=np.array([[0,1,2],\n",
    "              [4,5,6],\n",
    "              [7,8,9]])"
   ]
  },
  {
   "cell_type": "code",
   "execution_count": 120,
   "id": "b33520c6-6178-42c0-9fad-25770e981ff2",
   "metadata": {},
   "outputs": [
    {
     "data": {
      "text/plain": [
       "array([[0, 4, 7],\n",
       "       [1, 5, 8],\n",
       "       [2, 6, 9]])"
      ]
     },
     "execution_count": 120,
     "metadata": {},
     "output_type": "execute_result"
    }
   ],
   "source": [
    "arr_3d.transpose()"
   ]
  },
  {
   "cell_type": "code",
   "execution_count": 122,
   "id": "4559ca22-f9f1-4598-8b1d-edd86414e89e",
   "metadata": {},
   "outputs": [],
   "source": [
    "arr=np.array([[1,2,3,4,5,6],[10,20,30,40,50,60]])"
   ]
  },
  {
   "cell_type": "code",
   "execution_count": 124,
   "id": "def2e7b6-7bf9-4c87-a8ea-eebbff13d01f",
   "metadata": {},
   "outputs": [
    {
     "data": {
      "text/plain": [
       "array([[ 1, 10],\n",
       "       [ 2, 20],\n",
       "       [ 3, 30],\n",
       "       [ 4, 40],\n",
       "       [ 5, 50],\n",
       "       [ 6, 60]])"
      ]
     },
     "execution_count": 124,
     "metadata": {},
     "output_type": "execute_result"
    }
   ],
   "source": [
    "arr.transpose()"
   ]
  },
  {
   "cell_type": "code",
   "execution_count": null,
   "id": "04bbfe36-2131-4308-a6f4-9eab478eb4bd",
   "metadata": {},
   "outputs": [],
   "source": []
  }
 ],
 "metadata": {
  "kernelspec": {
   "display_name": "Python [conda env:base] *",
   "language": "python",
   "name": "conda-base-py"
  },
  "language_info": {
   "codemirror_mode": {
    "name": "ipython",
    "version": 3
   },
   "file_extension": ".py",
   "mimetype": "text/x-python",
   "name": "python",
   "nbconvert_exporter": "python",
   "pygments_lexer": "ipython3",
   "version": "3.12.7"
  }
 },
 "nbformat": 4,
 "nbformat_minor": 5
}
