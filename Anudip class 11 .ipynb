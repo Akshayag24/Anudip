{
 "cells": [
  {
   "cell_type": "code",
   "execution_count": null,
   "id": "f8da5aa9-2875-47ea-9ae1-8beb46ea7ea1",
   "metadata": {},
   "outputs": [],
   "source": [
    "#dictionary"
   ]
  },
  {
   "cell_type": "code",
   "execution_count": 1,
   "id": "45d5627e-1655-4bbe-9fc9-5985b7db6937",
   "metadata": {},
   "outputs": [],
   "source": [
    "dict={\"row_id\":1,\"order_id\":\"abcde\",\"order_date\":\"14-5-2025\"}\n"
   ]
  },
  {
   "cell_type": "code",
   "execution_count": 5,
   "id": "e3b9231a-9da4-4116-9af1-386cb4a2c41f",
   "metadata": {},
   "outputs": [
    {
     "data": {
      "text/plain": [
       "{'row_id': 1, 'order_id': 'abcde', 'order_date': '14-5-2025'}"
      ]
     },
     "execution_count": 5,
     "metadata": {},
     "output_type": "execute_result"
    }
   ],
   "source": [
    "dict"
   ]
  },
  {
   "cell_type": "code",
   "execution_count": 7,
   "id": "0a83c769-84ce-4e34-8068-93a59f3ec5a0",
   "metadata": {},
   "outputs": [],
   "source": [
    "d={\"name\":\"raj\",\"age\":50,\"gender\":\"male\"}"
   ]
  },
  {
   "cell_type": "code",
   "execution_count": 9,
   "id": "c554b8cd-a11b-4f4c-a932-b6e6e92d252f",
   "metadata": {},
   "outputs": [
    {
     "data": {
      "text/plain": [
       "dict"
      ]
     },
     "execution_count": 9,
     "metadata": {},
     "output_type": "execute_result"
    }
   ],
   "source": [
    "type(d)"
   ]
  },
  {
   "cell_type": "code",
   "execution_count": 11,
   "id": "7b391dd0-3655-459e-8304-89b58ef2a9e5",
   "metadata": {},
   "outputs": [],
   "source": [
    "a={1,2,3,4}"
   ]
  },
  {
   "cell_type": "code",
   "execution_count": 13,
   "id": "ce8e1543-f346-440f-9f50-b5a8edac6b48",
   "metadata": {},
   "outputs": [
    {
     "data": {
      "text/plain": [
       "set"
      ]
     },
     "execution_count": 13,
     "metadata": {},
     "output_type": "execute_result"
    }
   ],
   "source": [
    "type(a)"
   ]
  },
  {
   "cell_type": "code",
   "execution_count": 15,
   "id": "870454d7-d646-4ebb-b59e-51798df131cd",
   "metadata": {},
   "outputs": [],
   "source": [
    "#characteristics of dictionaries"
   ]
  },
  {
   "cell_type": "code",
   "execution_count": 17,
   "id": "98b25a90-f6a6-4ff4-9cd5-6356bf0b0bda",
   "metadata": {},
   "outputs": [
    {
     "data": {
      "text/plain": [
       "{'name': 'achhu', 'age': 21, 'city': 'banglore'}"
      ]
     },
     "execution_count": 17,
     "metadata": {},
     "output_type": "execute_result"
    }
   ],
   "source": [
    "#unordered\n",
    "my_dict={\"name\":\"achhu\",\"age\":21,\"city\":\"banglore\"}\n",
    "my_dict"
   ]
  },
  {
   "cell_type": "code",
   "execution_count": 19,
   "id": "baf1f6c9-4fb1-4902-89b2-674d088ce08c",
   "metadata": {},
   "outputs": [],
   "source": [
    "#mutable\n",
    "my_dict[\"age\"]=22"
   ]
  },
  {
   "cell_type": "code",
   "execution_count": 21,
   "id": "2ce101d6-ad98-4346-9942-b86b3d813ac0",
   "metadata": {},
   "outputs": [
    {
     "data": {
      "text/plain": [
       "{'name': 'achhu', 'age': 22, 'city': 'banglore'}"
      ]
     },
     "execution_count": 21,
     "metadata": {},
     "output_type": "execute_result"
    }
   ],
   "source": [
    "my_dict"
   ]
  },
  {
   "cell_type": "code",
   "execution_count": 23,
   "id": "6387c26b-c37e-4caa-be30-c2ed27d44250",
   "metadata": {},
   "outputs": [],
   "source": [
    "#unique keys\n",
    "my_dict={\"name\":\"achhu\",\"age\":21,\"age\":25,\"age\":66}"
   ]
  },
  {
   "cell_type": "code",
   "execution_count": 25,
   "id": "df16c09f-0441-4807-a9ca-efac8c925f66",
   "metadata": {},
   "outputs": [
    {
     "data": {
      "text/plain": [
       "{'name': 'achhu', 'age': 66}"
      ]
     },
     "execution_count": 25,
     "metadata": {},
     "output_type": "execute_result"
    }
   ],
   "source": [
    "my_dict"
   ]
  },
  {
   "cell_type": "code",
   "execution_count": 27,
   "id": "2e2aa11a-32d9-4f28-85d5-e6974287bb7c",
   "metadata": {},
   "outputs": [
    {
     "data": {
      "text/plain": [
       "{(1, 2): 'point', 'name': 'alice'}"
      ]
     },
     "execution_count": 27,
     "metadata": {},
     "output_type": "execute_result"
    }
   ],
   "source": [
    "#immutable\n",
    "my_dic={(1,2):\"point\",\"name\":\"alice\"}\n",
    "my_dic"
   ]
  },
  {
   "cell_type": "code",
   "execution_count": null,
   "id": "a6ca9763-6019-43a4-b990-53b4c23c2711",
   "metadata": {},
   "outputs": [],
   "source": [
    "#accessing a value by key"
   ]
  },
  {
   "cell_type": "code",
   "execution_count": 29,
   "id": "74c7749a-2135-4ffe-9635-0ede45c3881c",
   "metadata": {},
   "outputs": [],
   "source": [
    "my_dict={\n",
    "    \"name\":'john',\n",
    "    \"age\":34,\n",
    "    \"hobbies\":\"reading\",\n",
    "    \"education\":\"degree\"\n",
    "}"
   ]
  },
  {
   "cell_type": "code",
   "execution_count": 31,
   "id": "fc86c27c-78a0-4b52-abf5-2a842d862f68",
   "metadata": {},
   "outputs": [
    {
     "data": {
      "text/plain": [
       "34"
      ]
     },
     "execution_count": 31,
     "metadata": {},
     "output_type": "execute_result"
    }
   ],
   "source": [
    "my_dict[\"age\"]"
   ]
  },
  {
   "cell_type": "code",
   "execution_count": 33,
   "id": "70bf797a-cef3-4a60-bf46-50a4ea4dbda3",
   "metadata": {},
   "outputs": [
    {
     "data": {
      "text/plain": [
       "'degree'"
      ]
     },
     "execution_count": 33,
     "metadata": {},
     "output_type": "execute_result"
    }
   ],
   "source": [
    "my_dict[\"education\"]"
   ]
  },
  {
   "cell_type": "code",
   "execution_count": null,
   "id": "63e6b6c7-dc26-45f4-9226-2da447db53ca",
   "metadata": {},
   "outputs": [],
   "source": [
    "#using the get() method"
   ]
  },
  {
   "cell_type": "code",
   "execution_count": 39,
   "id": "959538d5-651f-4fca-a716-2d79e0e4ada2",
   "metadata": {},
   "outputs": [],
   "source": [
    "my_dic={\"name\":'neha','age':98}"
   ]
  },
  {
   "cell_type": "code",
   "execution_count": 41,
   "id": "d4819dad-d2ac-4f71-94fa-4d356481dda5",
   "metadata": {},
   "outputs": [
    {
     "data": {
      "text/plain": [
       "{'name': 'neha', 'age': 98}"
      ]
     },
     "execution_count": 41,
     "metadata": {},
     "output_type": "execute_result"
    }
   ],
   "source": [
    "my_dic"
   ]
  },
  {
   "cell_type": "code",
   "execution_count": 43,
   "id": "a2be10d9-5791-48d8-b436-db8a6cbd79b9",
   "metadata": {},
   "outputs": [
    {
     "data": {
      "text/plain": [
       "98"
      ]
     },
     "execution_count": 43,
     "metadata": {},
     "output_type": "execute_result"
    }
   ],
   "source": [
    "my_dic.get(\"age\")"
   ]
  },
  {
   "cell_type": "code",
   "execution_count": 45,
   "id": "87143f4d-78b7-49dd-89aa-6ede5bcc17b9",
   "metadata": {},
   "outputs": [
    {
     "data": {
      "text/plain": [
       "'neha'"
      ]
     },
     "execution_count": 45,
     "metadata": {},
     "output_type": "execute_result"
    }
   ],
   "source": [
    "my_dic.get(\"name\")"
   ]
  },
  {
   "cell_type": "code",
   "execution_count": 47,
   "id": "e50c1f7a-e5a9-4d0c-9ba5-a0792bfd3a46",
   "metadata": {},
   "outputs": [
    {
     "name": "stdout",
     "output_type": "stream",
     "text": [
      "neha\n",
      "None\n"
     ]
    }
   ],
   "source": [
    "print(my_dic.get(\"name\"))\n",
    "print(my_dic.get(\"city\"))\n"
   ]
  },
  {
   "cell_type": "code",
   "execution_count": null,
   "id": "4fad8c91-43ef-437a-b5d2-80dc203ee7a8",
   "metadata": {},
   "outputs": [],
   "source": [
    "#accessing all keys"
   ]
  },
  {
   "cell_type": "code",
   "execution_count": 49,
   "id": "87540166-72be-43b7-ad7a-f17f0f48c950",
   "metadata": {},
   "outputs": [
    {
     "data": {
      "text/plain": [
       "dict_keys(['name', 'age'])"
      ]
     },
     "execution_count": 49,
     "metadata": {},
     "output_type": "execute_result"
    }
   ],
   "source": [
    "my_dic.keys()"
   ]
  },
  {
   "cell_type": "code",
   "execution_count": 51,
   "id": "13211ba4-f64f-4e6b-b2a4-36344c25d557",
   "metadata": {},
   "outputs": [],
   "source": [
    "my_dict={\"name\":\"vini\",\"age\":21,\"city\":\"banglore\"}"
   ]
  },
  {
   "cell_type": "code",
   "execution_count": 53,
   "id": "11e8700c-3e7e-44e7-8582-95220cb95199",
   "metadata": {},
   "outputs": [
    {
     "data": {
      "text/plain": [
       "dict_keys(['name', 'age', 'city'])"
      ]
     },
     "execution_count": 53,
     "metadata": {},
     "output_type": "execute_result"
    }
   ],
   "source": [
    "my_dict.keys()"
   ]
  },
  {
   "cell_type": "code",
   "execution_count": null,
   "id": "877508db-659d-472b-b486-ec136aad80fa",
   "metadata": {},
   "outputs": [],
   "source": [
    "#accessing all values"
   ]
  },
  {
   "cell_type": "code",
   "execution_count": 63,
   "id": "6583eb79-1912-4935-968f-b9eeb284e685",
   "metadata": {},
   "outputs": [
    {
     "data": {
      "text/plain": [
       "dict_values(['hari', 21, 'banglore'])"
      ]
     },
     "execution_count": 63,
     "metadata": {},
     "output_type": "execute_result"
    }
   ],
   "source": [
    "my_dict={\"name\":\"hari\",\"age\":21,\"city\":\"banglore\"}\n",
    "my_dict.values()"
   ]
  },
  {
   "cell_type": "code",
   "execution_count": 65,
   "id": "26de26a2-687c-48ee-a70c-23557ad6126c",
   "metadata": {},
   "outputs": [
    {
     "data": {
      "text/plain": [
       "dict_values(['neha', 98])"
      ]
     },
     "execution_count": 65,
     "metadata": {},
     "output_type": "execute_result"
    }
   ],
   "source": [
    "my_dic.values()"
   ]
  },
  {
   "cell_type": "code",
   "execution_count": 67,
   "id": "74fa162e-cd8a-416c-a1fb-81564077499c",
   "metadata": {},
   "outputs": [],
   "source": [
    "#accessing all key-values pairs"
   ]
  },
  {
   "cell_type": "code",
   "execution_count": 69,
   "id": "da216337-1a8e-4ad0-9d14-2c7456d3c942",
   "metadata": {},
   "outputs": [
    {
     "data": {
      "text/plain": [
       "{'name': 'hari', 'age': 21, 'city': 'banglore'}"
      ]
     },
     "execution_count": 69,
     "metadata": {},
     "output_type": "execute_result"
    }
   ],
   "source": [
    "my_dict"
   ]
  },
  {
   "cell_type": "code",
   "execution_count": 71,
   "id": "c1c2bd24-5424-4970-81e8-eee7b15660a0",
   "metadata": {},
   "outputs": [
    {
     "data": {
      "text/plain": [
       "dict_items([('name', 'hari'), ('age', 21), ('city', 'banglore')])"
      ]
     },
     "execution_count": 71,
     "metadata": {},
     "output_type": "execute_result"
    }
   ],
   "source": [
    "my_dict.items()"
   ]
  },
  {
   "cell_type": "code",
   "execution_count": null,
   "id": "f914367f-1a39-4a5a-8ed5-e3cec462ad0a",
   "metadata": {},
   "outputs": [],
   "source": [
    "#iterating over values"
   ]
  },
  {
   "cell_type": "code",
   "execution_count": 75,
   "id": "4c09e1f4-6044-483f-a330-4d89f7f5f414",
   "metadata": {},
   "outputs": [
    {
     "name": "stdout",
     "output_type": "stream",
     "text": [
      "name\n",
      "age\n",
      "city\n"
     ]
    }
   ],
   "source": [
    "my_dict={\"name\":\"ravi\",\"age\":21,\"city\":\"banglore\"}\n",
    "\n",
    "for i in my_dict:\n",
    "    print(i)"
   ]
  },
  {
   "cell_type": "code",
   "execution_count": 77,
   "id": "19666c6b-bb25-47d7-8a06-043370b759fe",
   "metadata": {},
   "outputs": [
    {
     "name": "stdout",
     "output_type": "stream",
     "text": [
      "ravi\n",
      "21\n",
      "banglore\n"
     ]
    }
   ],
   "source": [
    "for j in my_dict.values():\n",
    "    print(j)"
   ]
  },
  {
   "cell_type": "code",
   "execution_count": 79,
   "id": "d0a5edfb-08f4-40b7-a7a1-c949fcf58fef",
   "metadata": {},
   "outputs": [
    {
     "name": "stdout",
     "output_type": "stream",
     "text": [
      "name:ravi\n",
      "age:21\n",
      "city:banglore\n"
     ]
    }
   ],
   "source": [
    "for i,j in my_dict.items():\n",
    "    print(f\"{i}:{j}\")"
   ]
  },
  {
   "cell_type": "code",
   "execution_count": 81,
   "id": "7ad3d272-4969-46c0-baac-a1b215567396",
   "metadata": {},
   "outputs": [],
   "source": [
    "nested_dict={ \n",
    "    \"person1\":{\n",
    "    \"name\":'alice',\n",
    "     \"age\":34,\n",
    "    \"city\":'new york'\n",
    "},\n",
    "    \"person2\":{\n",
    "        \"name\":'john',\n",
    "        \"age\":24,\n",
    "        \"city\":'london'\n",
    "    }\n",
    "}"
   ]
  },
  {
   "cell_type": "code",
   "execution_count": 83,
   "id": "3b77a4eb-3417-4bb2-b8b1-d816515d9b42",
   "metadata": {},
   "outputs": [
    {
     "data": {
      "text/plain": [
       "{'person1': {'name': 'alice', 'age': 34, 'city': 'new york'},\n",
       " 'person2': {'name': 'john', 'age': 24, 'city': 'london'}}"
      ]
     },
     "execution_count": 83,
     "metadata": {},
     "output_type": "execute_result"
    }
   ],
   "source": [
    "nested_dict"
   ]
  },
  {
   "cell_type": "code",
   "execution_count": null,
   "id": "089bd0e6-288b-455f-9f88-555504eda467",
   "metadata": {},
   "outputs": [],
   "source": [
    "#accessing elements in a  nested dictionary"
   ]
  },
  {
   "cell_type": "code",
   "execution_count": 85,
   "id": "43d023f2-4623-4cf7-bd61-620d6236fc07",
   "metadata": {},
   "outputs": [
    {
     "name": "stdout",
     "output_type": "stream",
     "text": [
      "alice\n"
     ]
    }
   ],
   "source": [
    "print(nested_dict['person1']['name'])"
   ]
  },
  {
   "cell_type": "code",
   "execution_count": 87,
   "id": "5209d75e-3583-45ca-8cf1-168b4dd6e402",
   "metadata": {},
   "outputs": [
    {
     "name": "stdout",
     "output_type": "stream",
     "text": [
      "london\n"
     ]
    }
   ],
   "source": [
    "print(nested_dict['person2']['city'])"
   ]
  },
  {
   "cell_type": "code",
   "execution_count": 89,
   "id": "4ec41c16-c8ac-47a3-b0a8-b6b7f1e3842f",
   "metadata": {},
   "outputs": [],
   "source": [
    "nested_dict[\"person3\"]={\n",
    "    \"name\":'ali',\n",
    "     \"age\":38,\n",
    "    \"city\":'new delhi'\n",
    "}"
   ]
  },
  {
   "cell_type": "code",
   "execution_count": 91,
   "id": "2bcb8a56-fac3-4134-8c3c-89cb9c76d8fb",
   "metadata": {},
   "outputs": [
    {
     "data": {
      "text/plain": [
       "{'person1': {'name': 'alice', 'age': 34, 'city': 'new york'},\n",
       " 'person2': {'name': 'john', 'age': 24, 'city': 'london'},\n",
       " 'person3': {'name': 'ali', 'age': 38, 'city': 'new delhi'}}"
      ]
     },
     "execution_count": 91,
     "metadata": {},
     "output_type": "execute_result"
    }
   ],
   "source": [
    "nested_dict"
   ]
  },
  {
   "cell_type": "code",
   "execution_count": 93,
   "id": "af49844b-4e1c-472b-9516-6f2860634bb1",
   "metadata": {},
   "outputs": [],
   "source": [
    "#modifying elements in a nested dictionary"
   ]
  },
  {
   "cell_type": "code",
   "execution_count": 95,
   "id": "57258f60-0c23-46c6-8567-9810a2185314",
   "metadata": {},
   "outputs": [],
   "source": [
    "nested_dict['person1']['age']=45"
   ]
  },
  {
   "cell_type": "code",
   "execution_count": 97,
   "id": "4ee72bcc-dd26-4857-9615-d3050d65813c",
   "metadata": {},
   "outputs": [
    {
     "data": {
      "text/plain": [
       "{'person1': {'name': 'alice', 'age': 45, 'city': 'new york'},\n",
       " 'person2': {'name': 'john', 'age': 24, 'city': 'london'},\n",
       " 'person3': {'name': 'ali', 'age': 38, 'city': 'new delhi'}}"
      ]
     },
     "execution_count": 97,
     "metadata": {},
     "output_type": "execute_result"
    }
   ],
   "source": [
    "nested_dict"
   ]
  },
  {
   "cell_type": "code",
   "execution_count": null,
   "id": "3a066c67-6b86-4fc1-b533-7b67031c90f6",
   "metadata": {},
   "outputs": [],
   "source": [
    "#using del"
   ]
  },
  {
   "cell_type": "code",
   "execution_count": 105,
   "id": "44d24fb4-eae5-4b87-b921-8822273a9e93",
   "metadata": {},
   "outputs": [],
   "source": [
    "mydic={\n",
    "    'name':'white',\n",
    "    'age':34,\n",
    "    'city':'london',\n",
    "    'profession':'software'\n",
    "}"
   ]
  },
  {
   "cell_type": "code",
   "execution_count": 107,
   "id": "2d24f165-bd9c-432c-a307-7d1016096fc6",
   "metadata": {},
   "outputs": [],
   "source": [
    "del mydic['age']"
   ]
  },
  {
   "cell_type": "code",
   "execution_count": 109,
   "id": "420cd60f-4972-4507-8252-9d929271cd46",
   "metadata": {},
   "outputs": [
    {
     "data": {
      "text/plain": [
       "{'name': 'white', 'city': 'london', 'profession': 'software'}"
      ]
     },
     "execution_count": 109,
     "metadata": {},
     "output_type": "execute_result"
    }
   ],
   "source": [
    "mydic"
   ]
  },
  {
   "cell_type": "code",
   "execution_count": 111,
   "id": "f70b832e-0121-4c78-a026-50a1238de4bc",
   "metadata": {},
   "outputs": [],
   "source": [
    "#pop"
   ]
  },
  {
   "cell_type": "code",
   "execution_count": 113,
   "id": "b6062238-6ee9-4cbb-9289-275d0b3f1f90",
   "metadata": {},
   "outputs": [
    {
     "data": {
      "text/plain": [
       "{'name': 'white', 'city': 'london', 'profession': 'software'}"
      ]
     },
     "execution_count": 113,
     "metadata": {},
     "output_type": "execute_result"
    }
   ],
   "source": [
    "mydic"
   ]
  },
  {
   "cell_type": "code",
   "execution_count": 115,
   "id": "c1671310-8b3e-48ec-b087-18cd4427aa77",
   "metadata": {},
   "outputs": [],
   "source": [
    "a=mydic.pop('city')"
   ]
  },
  {
   "cell_type": "code",
   "execution_count": 117,
   "id": "a5a26ead-c8c4-4577-8b49-99dfef6a26ea",
   "metadata": {},
   "outputs": [
    {
     "data": {
      "text/plain": [
       "'london'"
      ]
     },
     "execution_count": 117,
     "metadata": {},
     "output_type": "execute_result"
    }
   ],
   "source": [
    "a"
   ]
  },
  {
   "cell_type": "code",
   "execution_count": 119,
   "id": "ad355b51-1431-4df8-8afa-26b5643f17b0",
   "metadata": {},
   "outputs": [
    {
     "data": {
      "text/plain": [
       "{'name': 'white', 'profession': 'software'}"
      ]
     },
     "execution_count": 119,
     "metadata": {},
     "output_type": "execute_result"
    }
   ],
   "source": [
    "mydic"
   ]
  },
  {
   "cell_type": "code",
   "execution_count": 121,
   "id": "ddfce4be-0e75-4484-a32d-47b0c45ba0a4",
   "metadata": {},
   "outputs": [],
   "source": [
    "#using popitem()"
   ]
  },
  {
   "cell_type": "code",
   "execution_count": 123,
   "id": "3e5f4abe-7f02-4a91-ad2b-ad6a33b72893",
   "metadata": {},
   "outputs": [
    {
     "data": {
      "text/plain": [
       "('city', 'banglore')"
      ]
     },
     "execution_count": 123,
     "metadata": {},
     "output_type": "execute_result"
    }
   ],
   "source": [
    "my_dict.popitem()"
   ]
  },
  {
   "cell_type": "code",
   "execution_count": 125,
   "id": "9bb73eb7-b85e-4669-9783-21682b370d85",
   "metadata": {},
   "outputs": [
    {
     "data": {
      "text/plain": [
       "{'name': 'ravi', 'age': 21}"
      ]
     },
     "execution_count": 125,
     "metadata": {},
     "output_type": "execute_result"
    }
   ],
   "source": [
    "my_dict"
   ]
  },
  {
   "cell_type": "code",
   "execution_count": null,
   "id": "7b84b122-7c39-4edd-92e4-1cf2b174f5e1",
   "metadata": {},
   "outputs": [],
   "source": [
    "#membership operator"
   ]
  },
  {
   "cell_type": "code",
   "execution_count": 127,
   "id": "c5bdf73c-365e-43ce-b1a1-772a18cf45f7",
   "metadata": {},
   "outputs": [
    {
     "data": {
      "text/plain": [
       "{'name': 'neha', 'age': 98}"
      ]
     },
     "execution_count": 127,
     "metadata": {},
     "output_type": "execute_result"
    }
   ],
   "source": [
    "my_dic"
   ]
  },
  {
   "cell_type": "code",
   "execution_count": 129,
   "id": "a073ff70-83f8-4448-9a15-895c6996ead2",
   "metadata": {},
   "outputs": [
    {
     "data": {
      "text/plain": [
       "False"
      ]
     },
     "execution_count": 129,
     "metadata": {},
     "output_type": "execute_result"
    }
   ],
   "source": [
    "98 in my_dic"
   ]
  },
  {
   "cell_type": "code",
   "execution_count": 131,
   "id": "dcf356e0-b503-4fba-ab5d-97e33edae3c8",
   "metadata": {},
   "outputs": [
    {
     "data": {
      "text/plain": [
       "True"
      ]
     },
     "execution_count": 131,
     "metadata": {},
     "output_type": "execute_result"
    }
   ],
   "source": [
    "'name' in my_dic"
   ]
  },
  {
   "cell_type": "code",
   "execution_count": null,
   "id": "007683f9-a03d-4956-8622-53c126fab78e",
   "metadata": {},
   "outputs": [],
   "source": []
  }
 ],
 "metadata": {
  "kernelspec": {
   "display_name": "Python [conda env:base] *",
   "language": "python",
   "name": "conda-base-py"
  },
  "language_info": {
   "codemirror_mode": {
    "name": "ipython",
    "version": 3
   },
   "file_extension": ".py",
   "mimetype": "text/x-python",
   "name": "python",
   "nbconvert_exporter": "python",
   "pygments_lexer": "ipython3",
   "version": "3.12.7"
  }
 },
 "nbformat": 4,
 "nbformat_minor": 5
}
