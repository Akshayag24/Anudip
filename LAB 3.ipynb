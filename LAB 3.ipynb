{
 "cells": [
  {
   "cell_type": "code",
   "execution_count": null,
   "id": "e4978fd4-a159-4e00-85e7-f36d09b3e7b8",
   "metadata": {},
   "outputs": [],
   "source": [
    "## python program to check leap year"
   ]
  },
  {
   "cell_type": "code",
   "execution_count": 2,
   "id": "3cb6d7e3-491d-465e-a8ca-aac86f8ec5b8",
   "metadata": {},
   "outputs": [
    {
     "name": "stdin",
     "output_type": "stream",
     "text": [
      "Enter a year:  2004\n"
     ]
    },
    {
     "name": "stdout",
     "output_type": "stream",
     "text": [
      "2004 is a Leap Year.\n"
     ]
    }
   ],
   "source": [
    "# Accept year from the user\n",
    "year = int(input(\"Enter a year: \"))\n",
    "\n",
    "# Check if it is a leap year\n",
    "if (year % 4 == 0 and year % 100 != 0) or (year % 400 == 0):\n",
    "    print(year, \"is a Leap Year.\")\n",
    "else:\n",
    "    print(year, \"is Not a Leap Year.\")\n"
   ]
  },
  {
   "cell_type": "code",
   "execution_count": null,
   "id": "814cabcb-c6f7-438b-bf27-09f816db9eb2",
   "metadata": {},
   "outputs": [],
   "source": []
  },
  {
   "cell_type": "code",
   "execution_count": null,
   "id": "a81961f7-4508-43f5-981d-ee2e01a86279",
   "metadata": {},
   "outputs": [],
   "source": [
    "## python program to find largest among three numbers"
   ]
  },
  {
   "cell_type": "code",
   "execution_count": 6,
   "id": "8410adfd-ae56-4bb7-a1cb-b56334c6eeae",
   "metadata": {},
   "outputs": [
    {
     "name": "stdin",
     "output_type": "stream",
     "text": [
      "Enter first number:  5\n",
      "Enter second number:  11\n",
      "Enter third number:  3\n"
     ]
    },
    {
     "name": "stdout",
     "output_type": "stream",
     "text": [
      "The largest number is: 11.0\n"
     ]
    }
   ],
   "source": [
    "# Accept three numbers from the user\n",
    "num1 = float(input(\"Enter first number: \"))\n",
    "num2 = float(input(\"Enter second number: \"))\n",
    "num3 = float(input(\"Enter third number: \"))\n",
    "\n",
    "# Find the largest number\n",
    "largest = max(num1, num2, num3)\n",
    "\n",
    "# Display the result\n",
    "print(\"The largest number is:\", largest)\n"
   ]
  },
  {
   "cell_type": "code",
   "execution_count": null,
   "id": "0bdc8a47-f123-40c1-931c-5122d6c05e03",
   "metadata": {},
   "outputs": [],
   "source": []
  },
  {
   "cell_type": "code",
   "execution_count": 8,
   "id": "a26ef03f-d0e0-428c-9c8f-9bf26abe74b2",
   "metadata": {},
   "outputs": [],
   "source": [
    "## python program to check if a number is positive, negative or 0"
   ]
  },
  {
   "cell_type": "code",
   "execution_count": 17,
   "id": "f75c5c4b-1863-4694-b057-76b2c3813809",
   "metadata": {},
   "outputs": [
    {
     "name": "stdin",
     "output_type": "stream",
     "text": [
      "Enter a number:  -0\n"
     ]
    },
    {
     "name": "stdout",
     "output_type": "stream",
     "text": [
      "The number is Zero.\n"
     ]
    }
   ],
   "source": [
    "# Accept a number from the user\n",
    "num = float(input(\"Enter a number: \"))\n",
    "\n",
    "# Check and display whether the number is positive, negative, or zero\n",
    "if num > 0:\n",
    "    print(\"The number is Positive.\")\n",
    "elif num < 0:\n",
    "    print(\"The number is Negative.\")\n",
    "else:\n",
    "    print(\"The number is Zero.\")\n"
   ]
  },
  {
   "cell_type": "code",
   "execution_count": null,
   "id": "e9ce27d6-8dca-412c-b7aa-835d3060c914",
   "metadata": {},
   "outputs": [],
   "source": []
  },
  {
   "cell_type": "code",
   "execution_count": null,
   "id": "c7f9afa3-f862-4fb2-8593-877f73a0ed6e",
   "metadata": {},
   "outputs": [],
   "source": [
    "## a toy vendor supplies three types of toys: battery based toys,key based toys and electrical charging based toys. the vendor gives a discount of 10% on orders for battery based toys if the order is for more than rs 1000 on orders of more than rupees 100 for key based toys,a discount of 5% is given,and of discount of 10% is given on orders for electrical charging based toys of values more than rs 500. assure that the numeric codes 1,2 and 3 are used for battery-based toys, key based toys and electrical based toys respectively. write a program that reads the product code and the order amount and prints out the net amount that the customer is required to pay after the discount."
   ]
  },
  {
   "cell_type": "code",
   "execution_count": 5,
   "id": "66ed6548-f223-47b2-9eb8-cdd383cb8053",
   "metadata": {},
   "outputs": [
    {
     "name": "stdin",
     "output_type": "stream",
     "text": [
      "Enter product code (1: Battery, 2: Key, 3: Electrical):  2\n",
      "Enter order amount (Rs):  4512\n"
     ]
    },
    {
     "name": "stdout",
     "output_type": "stream",
     "text": [
      "Net amount to be paid: Rs 4286.40\n"
     ]
    }
   ],
   "source": [
    "code = int(input(\"Enter product code (1: Battery, 2: Key, 3: Electrical): \"))\n",
    "amount = float(input(\"Enter order amount (Rs): \"))\n",
    "\n",
    "if code == 1 and amount > 1000:\n",
    "    amount *= 0.90  # 10% discount\n",
    "elif code == 2 and amount > 100:\n",
    "    amount *= 0.95  # 5% discount\n",
    "elif code == 3 and amount > 500:\n",
    "    amount *= 0.90  # 10% discount\n",
    "elif code not in [1, 2, 3]:\n",
    "    print(\"Invalid product code\")\n",
    "    exit()\n",
    "\n",
    "print(f\"Net amount to be paid: Rs {amount:.2f}\")\n"
   ]
  },
  {
   "cell_type": "code",
   "execution_count": null,
   "id": "2899a49e-66ad-4471-b091-502e2cbf59b4",
   "metadata": {},
   "outputs": [],
   "source": []
  }
 ],
 "metadata": {
  "kernelspec": {
   "display_name": "Python [conda env:base] *",
   "language": "python",
   "name": "conda-base-py"
  },
  "language_info": {
   "codemirror_mode": {
    "name": "ipython",
    "version": 3
   },
   "file_extension": ".py",
   "mimetype": "text/x-python",
   "name": "python",
   "nbconvert_exporter": "python",
   "pygments_lexer": "ipython3",
   "version": "3.12.7"
  }
 },
 "nbformat": 4,
 "nbformat_minor": 5
}
