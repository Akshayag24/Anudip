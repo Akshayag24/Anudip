{
 "cells": [
  {
   "cell_type": "code",
   "execution_count": null,
   "id": "0a228683-cc2c-42f7-873a-424d136e7daf",
   "metadata": {},
   "outputs": [],
   "source": [
    "##Boolean"
   ]
  },
  {
   "cell_type": "code",
   "execution_count": 1,
   "id": "b3ab9202-02eb-406a-b333-6694eb9e6eb2",
   "metadata": {},
   "outputs": [
    {
     "name": "stdout",
     "output_type": "stream",
     "text": [
      "has the student passed? True\n"
     ]
    }
   ],
   "source": [
    "score=75\n",
    "has_passed=(score>=60)\n",
    "print(\"has the student passed?\", has_passed)"
   ]
  },
  {
   "cell_type": "code",
   "execution_count": 3,
   "id": "1f1c6fd3-e5c4-448d-8ea7-8a6c9990a799",
   "metadata": {},
   "outputs": [
    {
     "name": "stdout",
     "output_type": "stream",
     "text": [
      "b is greater than a\n"
     ]
    }
   ],
   "source": [
    "a=40\n",
    "b=50\n",
    "if(a>=b):\n",
    " print('a is greater than b')\n",
    "else :\n",
    " print('b is greater than a')"
   ]
  },
  {
   "cell_type": "code",
   "execution_count": null,
   "id": "5e47e6f3-88fb-48f1-9bb9-1afc1669d007",
   "metadata": {},
   "outputs": [],
   "source": [
    "##logical operators"
   ]
  },
  {
   "cell_type": "code",
   "execution_count": 5,
   "id": "8e8ead59-dc93-4410-b358-d70c3b1fde94",
   "metadata": {},
   "outputs": [
    {
     "data": {
      "text/plain": [
       "False"
      ]
     },
     "execution_count": 5,
     "metadata": {},
     "output_type": "execute_result"
    }
   ],
   "source": [
    "3>2 and 3<2\n",
    "True and False"
   ]
  },
  {
   "cell_type": "code",
   "execution_count": 7,
   "id": "822b3961-7376-45f8-882f-943f9c9f249b",
   "metadata": {},
   "outputs": [
    {
     "data": {
      "text/plain": [
       "False"
      ]
     },
     "execution_count": 7,
     "metadata": {},
     "output_type": "execute_result"
    }
   ],
   "source": [
    "3>2 and 4>5\n",
    "True and False"
   ]
  },
  {
   "cell_type": "code",
   "execution_count": null,
   "id": "6f5fa7fc-1303-4872-9b2b-af651b9fc901",
   "metadata": {},
   "outputs": [],
   "source": [
    "##bitwise operator: used to perform on binary numbers(bits)"
   ]
  },
  {
   "cell_type": "code",
   "execution_count": null,
   "id": "146dad91-d24d-4cc5-af65-694405b78e91",
   "metadata": {},
   "outputs": [],
   "source": [
    "##types"
   ]
  },
  {
   "cell_type": "code",
   "execution_count": 9,
   "id": "5ee6d673-c72a-41d9-98f5-d4c36c405101",
   "metadata": {},
   "outputs": [
    {
     "name": "stdout",
     "output_type": "stream",
     "text": [
      "1\n"
     ]
    }
   ],
   "source": [
    "#AND\n",
    "a=5\n",
    "b=3\n",
    "result=a&b\n",
    "print(result)"
   ]
  },
  {
   "cell_type": "code",
   "execution_count": 15,
   "id": "9f11f3a9-4550-4108-8231-dc9e96d82641",
   "metadata": {},
   "outputs": [
    {
     "data": {
      "text/plain": [
       "1"
      ]
     },
     "execution_count": 15,
     "metadata": {},
     "output_type": "execute_result"
    }
   ],
   "source": [
    "5&9"
   ]
  },
  {
   "cell_type": "code",
   "execution_count": 17,
   "id": "5068d94f-7fc3-4f37-820e-9ca6418d827e",
   "metadata": {},
   "outputs": [
    {
     "ename": "SyntaxError",
     "evalue": "leading zeros in decimal integer literals are not permitted; use an 0o prefix for octal integers (3784945163.py, line 1)",
     "output_type": "error",
     "traceback": [
      "\u001b[1;36m  Cell \u001b[1;32mIn[17], line 1\u001b[1;36m\u001b[0m\n\u001b[1;33m    0101 & 0101\u001b[0m\n\u001b[1;37m    ^\u001b[0m\n\u001b[1;31mSyntaxError\u001b[0m\u001b[1;31m:\u001b[0m leading zeros in decimal integer literals are not permitted; use an 0o prefix for octal integers\n"
     ]
    }
   ],
   "source": [
    "0101 & 0101"
   ]
  },
  {
   "cell_type": "code",
   "execution_count": 19,
   "id": "d9cea557-d9f2-4565-b3e7-bc7cd91e1073",
   "metadata": {},
   "outputs": [
    {
     "name": "stdout",
     "output_type": "stream",
     "text": [
      "7\n"
     ]
    }
   ],
   "source": [
    " #OR\n",
    "a=5\n",
    "b=3\n",
    "result=a|b\n",
    "print(result)"
   ]
  },
  {
   "cell_type": "code",
   "execution_count": 21,
   "id": "72624af7-c310-4e81-af94-2c3540148d7d",
   "metadata": {},
   "outputs": [
    {
     "name": "stdout",
     "output_type": "stream",
     "text": [
      "-6\n"
     ]
    }
   ],
   "source": [
    "#NOT\n",
    "a =5\n",
    "result=~a\n",
    "print(result)"
   ]
  },
  {
   "cell_type": "code",
   "execution_count": null,
   "id": "92c04162-9899-41fe-9561-923aa3a03eaa",
   "metadata": {},
   "outputs": [],
   "source": [
    "#membership operator "
   ]
  },
  {
   "cell_type": "code",
   "execution_count": 23,
   "id": "94537716-bdc9-43ec-982e-d010d5165952",
   "metadata": {},
   "outputs": [
    {
     "name": "stdout",
     "output_type": "stream",
     "text": [
      "True\n"
     ]
    }
   ],
   "source": [
    "#in operator - checks if a specified variable is present in a sequence , if value found returns true\n",
    "\n",
    "my_list = [1,2,3,4,5]\n",
    "print( 3 in my_list)"
   ]
  },
  {
   "cell_type": "code",
   "execution_count": 25,
   "id": "63209a0d-3e58-4953-8bb1-10acd23f2da4",
   "metadata": {},
   "outputs": [
    {
     "name": "stdout",
     "output_type": "stream",
     "text": [
      "True\n"
     ]
    }
   ],
   "source": [
    "my_string =\"hello, world!\"\n",
    "print(\"world\" in my_string)"
   ]
  },
  {
   "cell_type": "code",
   "execution_count": 27,
   "id": "2c81bb3d-9160-42f8-b4f9-5c19030fb716",
   "metadata": {},
   "outputs": [
    {
     "name": "stdout",
     "output_type": "stream",
     "text": [
      "True\n"
     ]
    }
   ],
   "source": [
    "#not in operator -  checks if a specified variable is not present in a sequence , if value is not  found returns true else false\n",
    "\n",
    "my_list = [1,2,3,4,5]\n",
    "print( 10 not in my_list)"
   ]
  },
  {
   "cell_type": "code",
   "execution_count": 29,
   "id": "8f29b722-f380-4212-b5c8-b1a17f70f5f6",
   "metadata": {},
   "outputs": [
    {
     "name": "stdout",
     "output_type": "stream",
     "text": [
      "True\n"
     ]
    }
   ],
   "source": [
    "my_string =\"hello, world!\"\n",
    "print(\"excel\" not in my_string)"
   ]
  },
  {
   "cell_type": "code",
   "execution_count": null,
   "id": "d77b6d05-435c-48bf-9bdb-9cb5cba29238",
   "metadata": {},
   "outputs": [],
   "source": [
    "#using not in with a list"
   ]
  },
  {
   "cell_type": "code",
   "execution_count": 31,
   "id": "b719cabe-a98e-4791-ba89-2dda289b36a9",
   "metadata": {},
   "outputs": [
    {
     "name": "stdout",
     "output_type": "stream",
     "text": [
      "True\n"
     ]
    }
   ],
   "source": [
    "fruits=['banana','apple','cherry']\n",
    "print('grapes' not in fruits)"
   ]
  },
  {
   "cell_type": "code",
   "execution_count": 33,
   "id": "d484e499-9d97-4295-bafc-6f9f0f1f2f3f",
   "metadata": {},
   "outputs": [
    {
     "name": "stdout",
     "output_type": "stream",
     "text": [
      "True\n"
     ]
    }
   ],
   "source": [
    "players=['dhoni','virat','jaddu','rohit']\n",
    "print('rohit' in players)"
   ]
  },
  {
   "cell_type": "code",
   "execution_count": null,
   "id": "45655a06-c337-4a5e-b9dc-a88892283da4",
   "metadata": {},
   "outputs": [],
   "source": [
    "#using in with a string"
   ]
  },
  {
   "cell_type": "code",
   "execution_count": 35,
   "id": "17452b60-bc1b-45c6-a666-b2bdec79c891",
   "metadata": {},
   "outputs": [
    {
     "name": "stdout",
     "output_type": "stream",
     "text": [
      "True\n"
     ]
    }
   ],
   "source": [
    "message=\"welcome to python programming!\"\n",
    "print(\"python\" in message)"
   ]
  },
  {
   "cell_type": "code",
   "execution_count": 37,
   "id": "d19b8525-793a-4d67-a118-ad836c471270",
   "metadata": {},
   "outputs": [],
   "source": [
    "#using not in with a string"
   ]
  },
  {
   "cell_type": "code",
   "execution_count": 39,
   "id": "e204d6ee-fd31-4004-8fdb-977dda256f2c",
   "metadata": {},
   "outputs": [
    {
     "name": "stdout",
     "output_type": "stream",
     "text": [
      "True\n"
     ]
    }
   ],
   "source": [
    "message=\"welcome to python programming!\"\n",
    "print(\"C\" not in message)"
   ]
  },
  {
   "cell_type": "code",
   "execution_count": null,
   "id": "4aeb100e-40d7-40cd-b213-29ac41972fc6",
   "metadata": {},
   "outputs": [],
   "source": [
    "#using in with a dictinary"
   ]
  },
  {
   "cell_type": "code",
   "execution_count": 41,
   "id": "259a3af9-d6d8-4095-9460-ea707a10bc01",
   "metadata": {},
   "outputs": [
    {
     "name": "stdout",
     "output_type": "stream",
     "text": [
      "True\n"
     ]
    }
   ],
   "source": [
    "my_dict={'name':'vini','age':21,'city':'new york'}\n",
    "print('name' in my_dict)"
   ]
  },
  {
   "cell_type": "code",
   "execution_count": 43,
   "id": "e57957bd-f220-409c-a1ae-431c603b3f6d",
   "metadata": {},
   "outputs": [
    {
     "name": "stdout",
     "output_type": "stream",
     "text": [
      "True\n"
     ]
    }
   ],
   "source": [
    "#using not in with a dictinary\n",
    "my_dict={'name':'vini','age':21,'city':'new york'}\n",
    "print('address' not in my_dict)"
   ]
  },
  {
   "cell_type": "code",
   "execution_count": 45,
   "id": "311d23ae-04f8-47e4-b7eb-91ff5735a7fa",
   "metadata": {},
   "outputs": [
    {
     "name": "stdout",
     "output_type": "stream",
     "text": [
      "False\n"
     ]
    }
   ],
   "source": [
    "my_dict={'name':'vini','age':21,'city':'new york'}\n",
    "print('vini' in my_dict)"
   ]
  },
  {
   "cell_type": "code",
   "execution_count": null,
   "id": "22942ac3-a671-485b-9e55-92eae432fc2e",
   "metadata": {},
   "outputs": [],
   "source": [
    "#if statement"
   ]
  },
  {
   "cell_type": "code",
   "execution_count": 47,
   "id": "248473b1-f500-456d-8ced-5e0c96584177",
   "metadata": {},
   "outputs": [],
   "source": [
    "a=[1,2,3,5,6]"
   ]
  },
  {
   "cell_type": "code",
   "execution_count": 49,
   "id": "8af9acd2-8d98-4df9-8317-928c7601d108",
   "metadata": {},
   "outputs": [
    {
     "data": {
      "text/plain": [
       "True"
      ]
     },
     "execution_count": 49,
     "metadata": {},
     "output_type": "execute_result"
    }
   ],
   "source": [
    "1 in a"
   ]
  },
  {
   "cell_type": "code",
   "execution_count": 53,
   "id": "d49b7d01-87e3-47ea-ac38-bc6c77d8cea7",
   "metadata": {},
   "outputs": [
    {
     "name": "stdout",
     "output_type": "stream",
     "text": [
      "i love it\n",
      "this will be printed\n"
     ]
    }
   ],
   "source": [
    "if 1 in a:\n",
    "    print(\"i love it\")\n",
    "print(\"this will be printed\")   "
   ]
  },
  {
   "cell_type": "code",
   "execution_count": 55,
   "id": "5e2cd261-0853-4646-91cb-e2ae9e6b0436",
   "metadata": {},
   "outputs": [
    {
     "name": "stdout",
     "output_type": "stream",
     "text": [
      "you are eligible to vote\n"
     ]
    }
   ],
   "source": [
    "age = 21\n",
    "if age>=18:\n",
    "    print(\"you are eligible to vote\")"
   ]
  },
  {
   "cell_type": "code",
   "execution_count": 57,
   "id": "ad35c5af-89ee-4b26-90ef-c4b93c2f526a",
   "metadata": {},
   "outputs": [],
   "source": [
    "age=19"
   ]
  },
  {
   "cell_type": "code",
   "execution_count": 59,
   "id": "be2d1dde-18c4-4e3e-80c0-963db1cfd676",
   "metadata": {},
   "outputs": [
    {
     "data": {
      "text/plain": [
       "False"
      ]
     },
     "execution_count": 59,
     "metadata": {},
     "output_type": "execute_result"
    }
   ],
   "source": [
    "age<=18"
   ]
  },
  {
   "cell_type": "code",
   "execution_count": 61,
   "id": "fb0d8aa2-d810-4e02-947d-3c80e72dbfa0",
   "metadata": {},
   "outputs": [
    {
     "name": "stdout",
     "output_type": "stream",
     "text": [
      "greater\n"
     ]
    }
   ],
   "source": [
    "if 5>2:\n",
    "    print (\"greater\")"
   ]
  },
  {
   "cell_type": "code",
   "execution_count": 63,
   "id": "91bbeedb-7791-4307-8dfc-af4d4194c678",
   "metadata": {},
   "outputs": [],
   "source": [
    "if 5<2:                                          #noting got printed\n",
    "    print (\"greater\")"
   ]
  },
  {
   "cell_type": "code",
   "execution_count": 65,
   "id": "0b841afc-e0b9-424b-9b7f-997b5a9ccc8a",
   "metadata": {},
   "outputs": [
    {
     "name": "stdout",
     "output_type": "stream",
     "text": [
      "greater\n",
      "this will be printed anyway\n"
     ]
    }
   ],
   "source": [
    "if 5>2:\n",
    "    print(\"greater\")\n",
    "print(\"this will be printed anyway\")   "
   ]
  },
  {
   "cell_type": "code",
   "execution_count": null,
   "id": "ddb07294-c377-410c-b9dd-d5c49f8ffa8f",
   "metadata": {},
   "outputs": [],
   "source": [
    "#if statment with logical operator"
   ]
  },
  {
   "cell_type": "code",
   "execution_count": 67,
   "id": "e0f7a5d7-d83d-44f2-b4c9-21bfd27421c3",
   "metadata": {},
   "outputs": [
    {
     "name": "stdout",
     "output_type": "stream",
     "text": [
      "if statement with logical operator\n",
      "statement 2\n"
     ]
    }
   ],
   "source": [
    "if 5>2 or 7<3:\n",
    "    print(\"if statement with logical operator\")\n",
    "    print(\"statement 2\")"
   ]
  },
  {
   "cell_type": "code",
   "execution_count": 69,
   "id": "c53e6514-4fe9-4f0b-8f65-135928d93b06",
   "metadata": {},
   "outputs": [
    {
     "name": "stdout",
     "output_type": "stream",
     "text": [
      "if statement with logical operator\n",
      "statement 2\n"
     ]
    }
   ],
   "source": [
    "if 5>2 and 7>3:\n",
    "    print(\"if statement with logical operator\")\n",
    "    print(\"statement 2\")"
   ]
  },
  {
   "cell_type": "code",
   "execution_count": null,
   "id": "dbc33ba5-1296-41b6-b215-f546baeddc6e",
   "metadata": {},
   "outputs": [],
   "source": [
    "#if else"
   ]
  },
  {
   "cell_type": "code",
   "execution_count": 71,
   "id": "e1565278-08b2-4810-80b7-63c88e18e8e2",
   "metadata": {},
   "outputs": [
    {
     "name": "stdout",
     "output_type": "stream",
     "text": [
      "it's a cool day\n"
     ]
    }
   ],
   "source": [
    "temperature=30 \n",
    "if temperature < 25:\n",
    "    print(\"it's a hot day\")\n",
    "else:\n",
    "    print(\"it's a cool day\")"
   ]
  },
  {
   "cell_type": "code",
   "execution_count": null,
   "id": "02132653-8747-454d-9e2c-0978fc9e0277",
   "metadata": {},
   "outputs": [],
   "source": [
    "#example problem"
   ]
  },
  {
   "cell_type": "code",
   "execution_count": 73,
   "id": "a3aa7fe8-af43-4ccf-bc12-857739d2a078",
   "metadata": {},
   "outputs": [
    {
     "name": "stdin",
     "output_type": "stream",
     "text": [
      "enter the number 36\n"
     ]
    },
    {
     "name": "stdout",
     "output_type": "stream",
     "text": [
      "the number is even\n"
     ]
    }
   ],
   "source": [
    "num=int(input(\"enter the number\"))\n",
    "if num%2 == 0:\n",
    "    print(\"the number is even\")\n",
    "else:\n",
    "    print(\"the number is odd\")"
   ]
  },
  {
   "cell_type": "code",
   "execution_count": null,
   "id": "a198f0dc-0dc3-41c9-aed9-56b770ca8960",
   "metadata": {},
   "outputs": [],
   "source": [
    "#if elif"
   ]
  },
  {
   "cell_type": "code",
   "execution_count": 75,
   "id": "95d2d718-a993-4b5a-bdc8-8368cabcac6f",
   "metadata": {},
   "outputs": [
    {
     "name": "stdout",
     "output_type": "stream",
     "text": [
      "Grade D\n"
     ]
    }
   ],
   "source": [
    "marks=40\n",
    "if marks>= 90:\n",
    "    print('Grade A')\n",
    "elif marks>= 80:\n",
    "    print('Grade B')\n",
    "elif marks>= 70:\n",
    "    print('Grade C')\n",
    "else:\n",
    "    print('Grade D')"
   ]
  },
  {
   "cell_type": "code",
   "execution_count": 77,
   "id": "7c491c2f-5ed1-4895-bbbd-1aaeb11306f7",
   "metadata": {},
   "outputs": [
    {
     "name": "stdout",
     "output_type": "stream",
     "text": [
      "Grade A\n",
      "Grade D\n"
     ]
    }
   ],
   "source": [
    "marks=65\n",
    "if marks>= 60:\n",
    "    print('Grade A')\n",
    "if marks>= 70:\n",
    "    print('Grade B')\n",
    "if marks>= 80:\n",
    "    print('Grade C')\n",
    "else:\n",
    "    print('Grade D')"
   ]
  },
  {
   "cell_type": "code",
   "execution_count": null,
   "id": "666d4df7-a901-414e-8f7d-1a9f3689ba68",
   "metadata": {},
   "outputs": [],
   "source": [
    "#nested if"
   ]
  },
  {
   "cell_type": "code",
   "execution_count": 79,
   "id": "fb2ec64d-6d89-4068-bc9d-25507d9a4e24",
   "metadata": {},
   "outputs": [
    {
     "name": "stdout",
     "output_type": "stream",
     "text": [
      "the number is negative\n"
     ]
    }
   ],
   "source": [
    "number = -2\n",
    "if number>0:\n",
    "    print(\"the number is positive\")\n",
    "    if number % 2 ==0:\n",
    "        print(\"the number is even\")\n",
    "    else:\n",
    "        print(\"the number is odd\")\n",
    "else:\n",
    "    print(\"the number is negative\")\n",
    "    "
   ]
  },
  {
   "cell_type": "code",
   "execution_count": 81,
   "id": "693af4c4-7c31-4536-a65b-88e959d55ef8",
   "metadata": {},
   "outputs": [
    {
     "name": "stdout",
     "output_type": "stream",
     "text": [
      "its freezing\n"
     ]
    }
   ],
   "source": [
    "temperature = -2\n",
    "\n",
    "if temperature < 0:\n",
    "    print(\"its freezing\")\n",
    "elif temperature>10:\n",
    "    print(\"its cold\")\n",
    "elif temperature>25:\n",
    "    print(\"its warm\")\n",
    "else:\n",
    "    print(\"its hot\")"
   ]
  },
  {
   "cell_type": "code",
   "execution_count": 83,
   "id": "ec88d4d4-34ff-4bdd-8db7-3ce7f870d2f5",
   "metadata": {},
   "outputs": [
    {
     "name": "stdout",
     "output_type": "stream",
     "text": [
      "weak password\n"
     ]
    }
   ],
   "source": [
    "password='123v'\n",
    "if len(password)<6:\n",
    "    print(\"weak password\")\n",
    "elif len(password)<=8:\n",
    "    print(\"moderate password\")\n",
    "else:\n",
    "    print(\"strong password\")"
   ]
  }
 ],
 "metadata": {
  "kernelspec": {
   "display_name": "Python [conda env:base] *",
   "language": "python",
   "name": "conda-base-py"
  },
  "language_info": {
   "codemirror_mode": {
    "name": "ipython",
    "version": 3
   },
   "file_extension": ".py",
   "mimetype": "text/x-python",
   "name": "python",
   "nbconvert_exporter": "python",
   "pygments_lexer": "ipython3",
   "version": "3.12.7"
  }
 },
 "nbformat": 4,
 "nbformat_minor": 5
}
