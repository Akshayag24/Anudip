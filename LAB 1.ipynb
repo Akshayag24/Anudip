{
 "cells": [
  {
   "cell_type": "code",
   "execution_count": null,
   "id": "f610465e-7ce6-4c46-ab7b-4e0988c3a31d",
   "metadata": {},
   "outputs": [],
   "source": [
    "##calculate the multiplication and sum of two numbers"
   ]
  },
  {
   "cell_type": "code",
   "execution_count": 2,
   "id": "fa478900-c759-43f1-a552-55f0a75c9349",
   "metadata": {},
   "outputs": [],
   "source": [
    "# Input: Two numbers\n",
    "a = 10\n",
    "b = 5"
   ]
  },
  {
   "cell_type": "code",
   "execution_count": 4,
   "id": "daea50cc-3fca-40b8-8a55-2f6955ca1f0e",
   "metadata": {},
   "outputs": [],
   "source": [
    "# Calculation\n",
    "sum_result = a + b\n",
    "multiplication_result = a * b"
   ]
  },
  {
   "cell_type": "code",
   "execution_count": 6,
   "id": "097f7cdc-c3fa-4c32-a9a4-70341ca95ba9",
   "metadata": {},
   "outputs": [
    {
     "name": "stdout",
     "output_type": "stream",
     "text": [
      "Sum: 15\n",
      "Multiplication: 50\n"
     ]
    }
   ],
   "source": [
    "# Output the results\n",
    "print(\"Sum:\", sum_result)\n",
    "print(\"Multiplication:\", multiplication_result)"
   ]
  },
  {
   "cell_type": "code",
   "execution_count": null,
   "id": "b72ac3ce-0153-42f3-8dc6-1335f3bdebc0",
   "metadata": {},
   "outputs": [],
   "source": []
  },
  {
   "cell_type": "code",
   "execution_count": null,
   "id": "a691a0ce-eb43-4a96-8ffa-6acd8af6ebe9",
   "metadata": {},
   "outputs": [],
   "source": [
    "##declare two variables and print that which variable is largest using ternary operators "
   ]
  },
  {
   "cell_type": "code",
   "execution_count": 8,
   "id": "89a5e132-ad1e-4716-9390-109b5f0547a4",
   "metadata": {},
   "outputs": [],
   "source": [
    "# Declare two variables\n",
    "a = 15\n",
    "b = 25\n"
   ]
  },
  {
   "cell_type": "code",
   "execution_count": 10,
   "id": "f90de0df-cacb-4c01-a86e-61d25b1f8c48",
   "metadata": {},
   "outputs": [
    {
     "name": "stdout",
     "output_type": "stream",
     "text": [
      "b is greater\n"
     ]
    }
   ],
   "source": [
    "# Use ternary operator to determine and print which variable is greater\n",
    "print(\"a is greater\" if a > b else \"b is greater\")\n"
   ]
  },
  {
   "cell_type": "code",
   "execution_count": null,
   "id": "37a69591-6d1b-4a43-83c6-532223f71a89",
   "metadata": {},
   "outputs": [],
   "source": []
  },
  {
   "cell_type": "code",
   "execution_count": null,
   "id": "72f13227-8aa9-4c1b-add9-b787dc26f286",
   "metadata": {},
   "outputs": [],
   "source": [
    "##take input from the user(name,age,and city) and print it in a formatted string "
   ]
  },
  {
   "cell_type": "code",
   "execution_count": 14,
   "id": "797a1d49-6dce-4dd0-98b9-488c56f4ece4",
   "metadata": {},
   "outputs": [
    {
     "name": "stdin",
     "output_type": "stream",
     "text": [
      "Enter your name:  Achhu\n",
      "Enter your age:  21\n",
      "Enter your city:  Bangalore\n"
     ]
    }
   ],
   "source": [
    "# Taking input from the user\n",
    "name = input(\"Enter your name: \")\n",
    "age = input(\"Enter your age: \")\n",
    "city = input(\"Enter your city: \")\n",
    "\n"
   ]
  },
  {
   "cell_type": "code",
   "execution_count": 16,
   "id": "872ed80d-f561-44e4-b794-d182ba0bd096",
   "metadata": {},
   "outputs": [
    {
     "name": "stdout",
     "output_type": "stream",
     "text": [
      "Hello, my name is Achhu. I am 21 years old and I live in Bangalore.\n"
     ]
    }
   ],
   "source": [
    "\n",
    "# Printing the formatted string\n",
    "print(f\"Hello, my name is {name}. I am {age} years old and I live in {city}.\")"
   ]
  },
  {
   "cell_type": "code",
   "execution_count": null,
   "id": "691247fe-1256-44c6-b2ae-05305ee65a79",
   "metadata": {},
   "outputs": [],
   "source": []
  },
  {
   "cell_type": "code",
   "execution_count": null,
   "id": "03bc15fa-3b48-4db0-86ee-459465407e85",
   "metadata": {},
   "outputs": [],
   "source": [
    "##python program to find the area of a triangle whose sides are given "
   ]
  },
  {
   "cell_type": "code",
   "execution_count": 26,
   "id": "04a21ac2-99fa-4be2-867b-801c6077949f",
   "metadata": {},
   "outputs": [
    {
     "name": "stdin",
     "output_type": "stream",
     "text": [
      "Enter side a:  15\n",
      "Enter side b:  26\n",
      "Enter side c:  20\n"
     ]
    }
   ],
   "source": [
    "import math\n",
    "\n",
    "# Input the sides of the triangle\n",
    "a = float(input(\"Enter side a: \"))\n",
    "b = float(input(\"Enter side b: \"))\n",
    "c = float(input(\"Enter side c: \"))"
   ]
  },
  {
   "cell_type": "code",
   "execution_count": 28,
   "id": "bf4c2c94-0026-488c-a3da-bd2132c48080",
   "metadata": {},
   "outputs": [],
   "source": [
    "\n",
    "# Calculate the semi-perimeter\n",
    "s = (a + b + c) / 2"
   ]
  },
  {
   "cell_type": "code",
   "execution_count": 30,
   "id": "cdd5397e-e481-4cc9-a66e-50104d668774",
   "metadata": {},
   "outputs": [],
   "source": [
    "\n",
    "# Calculate the area using Heron's formula\n",
    "area = math.sqrt(s * (s - a) * (s - b) * (s - c))\n"
   ]
  },
  {
   "cell_type": "code",
   "execution_count": 32,
   "id": "4f188514-d6c4-48f8-876f-eaa75eb53ff1",
   "metadata": {},
   "outputs": [
    {
     "name": "stdout",
     "output_type": "stream",
     "text": [
      "The area of the triangle is 149.46\n"
     ]
    }
   ],
   "source": [
    "# Print the result\n",
    "print(f\"The area of the triangle is {area:.2f}\")"
   ]
  },
  {
   "cell_type": "code",
   "execution_count": null,
   "id": "52fbcfc4-22ef-4597-949b-14843283d2e4",
   "metadata": {},
   "outputs": [],
   "source": []
  }
 ],
 "metadata": {
  "kernelspec": {
   "display_name": "Python [conda env:base] *",
   "language": "python",
   "name": "conda-base-py"
  },
  "language_info": {
   "codemirror_mode": {
    "name": "ipython",
    "version": 3
   },
   "file_extension": ".py",
   "mimetype": "text/x-python",
   "name": "python",
   "nbconvert_exporter": "python",
   "pygments_lexer": "ipython3",
   "version": "3.12.7"
  }
 },
 "nbformat": 4,
 "nbformat_minor": 5
}
