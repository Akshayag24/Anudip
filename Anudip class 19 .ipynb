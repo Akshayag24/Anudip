{
 "cells": [
  {
   "cell_type": "code",
   "execution_count": 1,
   "id": "505a3906-5f4a-489f-bc0e-4c771ae1af87",
   "metadata": {},
   "outputs": [],
   "source": [
    "import numpy as np"
   ]
  },
  {
   "cell_type": "code",
   "execution_count": 21,
   "id": "b8365658-c2c6-47b8-8742-3795c5fec0cb",
   "metadata": {},
   "outputs": [],
   "source": [
    "arr1=np.array([[1,2],[3,4]])\n",
    "arr2=np.array([[5,6],[5,7]])"
   ]
  },
  {
   "cell_type": "code",
   "execution_count": 23,
   "id": "3f7e7d3a-158e-4854-8cc5-253d4b2c0ee5",
   "metadata": {},
   "outputs": [
    {
     "data": {
      "text/plain": [
       "array([[1, 2, 5, 6],\n",
       "       [3, 4, 5, 7]])"
      ]
     },
     "execution_count": 23,
     "metadata": {},
     "output_type": "execute_result"
    }
   ],
   "source": [
    "np.concatenate((arr1,arr2),axis=1)"
   ]
  },
  {
   "cell_type": "code",
   "execution_count": 29,
   "id": "bbddf298-674e-4b3c-a0f0-d0f7a98c4c9f",
   "metadata": {},
   "outputs": [],
   "source": [
    "arr3=np.array([1,2,3])\n",
    "arr4=np.array([4,5,6])\n",
    " "
   ]
  },
  {
   "cell_type": "code",
   "execution_count": null,
   "id": "b4df4b94-0853-4739-90e4-d272c60e3e05",
   "metadata": {},
   "outputs": [],
   "source": []
  },
  {
   "cell_type": "code",
   "execution_count": null,
   "id": "9848abb7-0a5c-491d-a3af-0784ffc9817c",
   "metadata": {},
   "outputs": [],
   "source": [
    "###stack arrays vertically(row-wise)"
   ]
  },
  {
   "cell_type": "code",
   "execution_count": 31,
   "id": "972af99f-960d-4207-baa9-f162e9229338",
   "metadata": {},
   "outputs": [
    {
     "data": {
      "text/plain": [
       "array([[1, 2, 3],\n",
       "       [4, 5, 6]])"
      ]
     },
     "execution_count": 31,
     "metadata": {},
     "output_type": "execute_result"
    }
   ],
   "source": [
    "np.vstack((arr3,arr4))"
   ]
  },
  {
   "cell_type": "code",
   "execution_count": 33,
   "id": "53a19459-5700-4da0-8ca6-f67555efd8f8",
   "metadata": {},
   "outputs": [],
   "source": [
    "a=np.array([1,2])\n",
    "b=np.array([3,4])"
   ]
  },
  {
   "cell_type": "code",
   "execution_count": 35,
   "id": "1e0bbcc3-d10c-467a-aae7-c225b080c9cc",
   "metadata": {},
   "outputs": [
    {
     "data": {
      "text/plain": [
       "array([1, 2, 3, 4])"
      ]
     },
     "execution_count": 35,
     "metadata": {},
     "output_type": "execute_result"
    }
   ],
   "source": [
    "np.hstack((a,b))"
   ]
  },
  {
   "cell_type": "code",
   "execution_count": 37,
   "id": "2044937f-76e7-4ce0-977c-ae336af8c04f",
   "metadata": {},
   "outputs": [
    {
     "name": "stdout",
     "output_type": "stream",
     "text": [
      "Filtered elements(greater than 3): [4 5 6]\n"
     ]
    }
   ],
   "source": [
    "import numpy as np\n",
    "arr=np.array([1,2,3,4,5,6])\n",
    "mask=arr>3\n",
    "filtered=arr[mask]\n",
    "print(\"Filtered elements(greater than 3):\",filtered)"
   ]
  },
  {
   "cell_type": "code",
   "execution_count": null,
   "id": "cb0ad5a3-07bb-4813-a480-66de16eeef09",
   "metadata": {},
   "outputs": [],
   "source": []
  },
  {
   "cell_type": "code",
   "execution_count": null,
   "id": "7a713421-c865-45df-9e7e-e96476bbe869",
   "metadata": {},
   "outputs": [],
   "source": []
  }
 ],
 "metadata": {
  "kernelspec": {
   "display_name": "Python [conda env:base] *",
   "language": "python",
   "name": "conda-base-py"
  },
  "language_info": {
   "codemirror_mode": {
    "name": "ipython",
    "version": 3
   },
   "file_extension": ".py",
   "mimetype": "text/x-python",
   "name": "python",
   "nbconvert_exporter": "python",
   "pygments_lexer": "ipython3",
   "version": "3.12.7"
  }
 },
 "nbformat": 4,
 "nbformat_minor": 5
}
