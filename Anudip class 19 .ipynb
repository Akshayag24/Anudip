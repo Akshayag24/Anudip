{
 "cells": [
  {
   "cell_type": "code",
   "execution_count": 1,
   "id": "505a3906-5f4a-489f-bc0e-4c771ae1af87",
   "metadata": {},
   "outputs": [],
   "source": [
    "import numpy as np"
   ]
  },
  {
   "cell_type": "code",
   "execution_count": 21,
   "id": "b8365658-c2c6-47b8-8742-3795c5fec0cb",
   "metadata": {},
   "outputs": [],
   "source": [
    "arr1=np.array([[1,2],[3,4]])\n",
    "arr2=np.array([[5,6],[5,7]])"
   ]
  },
  {
   "cell_type": "code",
   "execution_count": 23,
   "id": "3f7e7d3a-158e-4854-8cc5-253d4b2c0ee5",
   "metadata": {},
   "outputs": [
    {
     "data": {
      "text/plain": [
       "array([[1, 2, 5, 6],\n",
       "       [3, 4, 5, 7]])"
      ]
     },
     "execution_count": 23,
     "metadata": {},
     "output_type": "execute_result"
    }
   ],
   "source": [
    "np.concatenate((arr1,arr2),axis=1)"
   ]
  },
  {
   "cell_type": "code",
   "execution_count": 29,
   "id": "bbddf298-674e-4b3c-a0f0-d0f7a98c4c9f",
   "metadata": {},
   "outputs": [],
   "source": [
    "arr3=np.array([1,2,3])\n",
    "arr4=np.array([4,5,6])\n",
    " "
   ]
  },
  {
   "cell_type": "code",
   "execution_count": null,
   "id": "9848abb7-0a5c-491d-a3af-0784ffc9817c",
   "metadata": {},
   "outputs": [],
   "source": [
    "###stack arrays vertically(row-wise)"
   ]
  },
  {
   "cell_type": "code",
   "execution_count": 31,
   "id": "972af99f-960d-4207-baa9-f162e9229338",
   "metadata": {},
   "outputs": [
    {
     "data": {
      "text/plain": [
       "array([[1, 2, 3],\n",
       "       [4, 5, 6]])"
      ]
     },
     "execution_count": 31,
     "metadata": {},
     "output_type": "execute_result"
    }
   ],
   "source": [
    "np.vstack((arr3,arr4))"
   ]
  },
  {
   "cell_type": "code",
   "execution_count": 33,
   "id": "53a19459-5700-4da0-8ca6-f67555efd8f8",
   "metadata": {},
   "outputs": [],
   "source": [
    "a=np.array([1,2])\n",
    "b=np.array([3,4])"
   ]
  },
  {
   "cell_type": "code",
   "execution_count": 35,
   "id": "1e0bbcc3-d10c-467a-aae7-c225b080c9cc",
   "metadata": {},
   "outputs": [
    {
     "data": {
      "text/plain": [
       "array([1, 2, 3, 4])"
      ]
     },
     "execution_count": 35,
     "metadata": {},
     "output_type": "execute_result"
    }
   ],
   "source": [
    "np.hstack((a,b))"
   ]
  },
  {
   "cell_type": "code",
   "execution_count": 29,
   "id": "2044937f-76e7-4ce0-977c-ae336af8c04f",
   "metadata": {},
   "outputs": [
    {
     "name": "stdout",
     "output_type": "stream",
     "text": [
      "Filtered elements(greater than 3): [4 5 6]\n"
     ]
    }
   ],
   "source": [
    "import numpy as np\n",
    "aa=np.array([1,2,3,4,5,6])\n",
    "mask=aa>3\n",
    "filtered=aa[mask]\n",
    "print(\"Filtered elements(greater than 3):\",filtered)"
   ]
  },
  {
   "cell_type": "code",
   "execution_count": 31,
   "id": "cb0ad5a3-07bb-4813-a480-66de16eeef09",
   "metadata": {},
   "outputs": [
    {
     "data": {
      "text/plain": [
       "array([False, False,  True,  True,  True, False])"
      ]
     },
     "execution_count": 31,
     "metadata": {},
     "output_type": "execute_result"
    }
   ],
   "source": [
    "(aa>2)&(aa<6) #-------boolean"
   ]
  },
  {
   "cell_type": "code",
   "execution_count": 33,
   "id": "7a713421-c865-45df-9e7e-e96476bbe869",
   "metadata": {},
   "outputs": [
    {
     "data": {
      "text/plain": [
       "array([3, 4, 5])"
      ]
     },
     "execution_count": 33,
     "metadata": {},
     "output_type": "execute_result"
    }
   ],
   "source": [
    "aa[(aa>2)&(aa<6)]    #------filtered"
   ]
  },
  {
   "cell_type": "code",
   "execution_count": 35,
   "id": "9b453090-86b4-40ca-99f2-1cd3d017b280",
   "metadata": {},
   "outputs": [
    {
     "data": {
      "text/plain": [
       "array([1, 2, 3, 6])"
      ]
     },
     "execution_count": 35,
     "metadata": {},
     "output_type": "execute_result"
    }
   ],
   "source": [
    "aa[(aa<=3) | (aa>5)]"
   ]
  },
  {
   "cell_type": "code",
   "execution_count": 37,
   "id": "15a87fbf-41a6-4f3d-b69c-ca597560a038",
   "metadata": {},
   "outputs": [
    {
     "name": "stdout",
     "output_type": "stream",
     "text": [
      "Values > 20: [25 30 35]\n"
     ]
    }
   ],
   "source": [
    "matrix=np.array([\n",
    "    [10,15,20,],\n",
    "    [25,30,35]\n",
    "])\n",
    "print(\"Values > 20:\",matrix[matrix>20])"
   ]
  },
  {
   "cell_type": "code",
   "execution_count": 39,
   "id": "d36fcc12-729b-49c7-b62c-281c4b849ff3",
   "metadata": {},
   "outputs": [],
   "source": [
    "scores=np.array([85,92,78,88,95,72,89,94,68,90])"
   ]
  },
  {
   "cell_type": "code",
   "execution_count": 41,
   "id": "53c0e097-b9f1-42ea-ac70-e0f46a4d2891",
   "metadata": {},
   "outputs": [
    {
     "name": "stdout",
     "output_type": "stream",
     "text": [
      "Scores values>90: [92 95 94]\n"
     ]
    }
   ],
   "source": [
    "print(\"Scores values>90:\",scores[scores>90])"
   ]
  },
  {
   "cell_type": "code",
   "execution_count": 43,
   "id": "4c137897-3744-4944-86d8-24730c88fb04",
   "metadata": {},
   "outputs": [
    {
     "data": {
      "text/plain": [
       "array([85, 92, 78, 88, 95, 72, 89, 94, 68, 90])"
      ]
     },
     "execution_count": 43,
     "metadata": {},
     "output_type": "execute_result"
    }
   ],
   "source": [
    "scores[(scores>70)  | (scores<80)]"
   ]
  },
  {
   "cell_type": "code",
   "execution_count": 45,
   "id": "60266afa-1cc5-432b-9341-f681b091ee3c",
   "metadata": {},
   "outputs": [],
   "source": [
    "import numpy as np\n"
   ]
  },
  {
   "cell_type": "code",
   "execution_count": 47,
   "id": "2031b4ea-a6ac-4544-a9be-4ea26a73ada5",
   "metadata": {},
   "outputs": [],
   "source": [
    "ab=np.arange(1,16)"
   ]
  },
  {
   "cell_type": "code",
   "execution_count": 49,
   "id": "064666b3-f265-4c28-85ca-f826ebf378d7",
   "metadata": {},
   "outputs": [
    {
     "data": {
      "text/plain": [
       "array([ 1,  2,  3,  4,  5,  6,  7,  8,  9, 10, 11, 12, 13, 14, 15])"
      ]
     },
     "execution_count": 49,
     "metadata": {},
     "output_type": "execute_result"
    }
   ],
   "source": [
    "ab"
   ]
  },
  {
   "cell_type": "code",
   "execution_count": 51,
   "id": "d5b130b9-78be-49c0-a20a-b75b6e0cf916",
   "metadata": {},
   "outputs": [
    {
     "data": {
      "text/plain": [
       "array([ 3,  6,  9, 12, 15])"
      ]
     },
     "execution_count": 51,
     "metadata": {},
     "output_type": "execute_result"
    }
   ],
   "source": [
    "ab[ab%3==0]    #------numbers that rae divisible by 3"
   ]
  },
  {
   "cell_type": "code",
   "execution_count": 53,
   "id": "395f9831-440d-4294-b51e-d6c2664158a8",
   "metadata": {},
   "outputs": [
    {
     "data": {
      "text/plain": [
       "array([ 2,  4,  6,  8, 10, 12, 14])"
      ]
     },
     "execution_count": 53,
     "metadata": {},
     "output_type": "execute_result"
    }
   ],
   "source": [
    "ab[ab%2==0]    #----even numbers"
   ]
  },
  {
   "cell_type": "code",
   "execution_count": 55,
   "id": "eacb935d-be75-4a39-a826-6130be0d3905",
   "metadata": {},
   "outputs": [
    {
     "data": {
      "text/plain": [
       "array([ 1,  3,  5,  7,  9, 11, 13, 15])"
      ]
     },
     "execution_count": 55,
     "metadata": {},
     "output_type": "execute_result"
    }
   ],
   "source": [
    "ab[ab%2!=0]    #-----odd numbers"
   ]
  },
  {
   "cell_type": "code",
   "execution_count": 57,
   "id": "3aaa67ee-e0b7-4f37-b23a-f116bbbb01ed",
   "metadata": {},
   "outputs": [
    {
     "data": {
      "text/plain": [
       "array([25.6, 29.9, 27. ])"
      ]
     },
     "execution_count": 57,
     "metadata": {},
     "output_type": "execute_result"
    }
   ],
   "source": [
    "import numpy as np\n",
    "temp=np.array([22.5,19.0,25.6,21.4,29.9,18.6,23.1,27.0])\n",
    "temp[temp>24]"
   ]
  },
  {
   "cell_type": "code",
   "execution_count": 59,
   "id": "e6e938b2-b899-490f-b79f-5b1bc34dd44a",
   "metadata": {},
   "outputs": [
    {
     "data": {
      "text/plain": [
       "array([22.5, 25.6, 21.4, 23.1])"
      ]
     },
     "execution_count": 59,
     "metadata": {},
     "output_type": "execute_result"
    }
   ],
   "source": [
    "temp[(temp > 20)  & (temp < 26)]"
   ]
  },
  {
   "cell_type": "code",
   "execution_count": 61,
   "id": "1d927d31-74d6-4bf7-8b98-278f1f92d427",
   "metadata": {},
   "outputs": [],
   "source": [
    "prices=np.array([250,499,520,310,800,999,450,720])"
   ]
  },
  {
   "cell_type": "code",
   "execution_count": 63,
   "id": "cd04da3b-bd37-477f-8947-5d5cf416ee68",
   "metadata": {},
   "outputs": [
    {
     "data": {
      "text/plain": [
       "array([520, 800, 999, 720])"
      ]
     },
     "execution_count": 63,
     "metadata": {},
     "output_type": "execute_result"
    }
   ],
   "source": [
    "prices[prices>500]"
   ]
  }
 ],
 "metadata": {
  "kernelspec": {
   "display_name": "Python [conda env:base] *",
   "language": "python",
   "name": "conda-base-py"
  },
  "language_info": {
   "codemirror_mode": {
    "name": "ipython",
    "version": 3
   },
   "file_extension": ".py",
   "mimetype": "text/x-python",
   "name": "python",
   "nbconvert_exporter": "python",
   "pygments_lexer": "ipython3",
   "version": "3.12.7"
  }
 },
 "nbformat": 4,
 "nbformat_minor": 5
}
