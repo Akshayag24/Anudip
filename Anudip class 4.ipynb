{
 "cells": [
  {
   "cell_type": "code",
   "execution_count": 3,
   "id": "3bdbb9b3-4e94-4cd5-a9a8-44cf3659baf2",
   "metadata": {},
   "outputs": [
    {
     "name": "stdout",
     "output_type": "stream",
     "text": [
      "strong password\n"
     ]
    }
   ],
   "source": [
    "password = ('123achhu')\n",
    "if len(password)<6:\n",
    "    print('weak password')\n",
    "elif len(password)<8:\n",
    "    print('moderate password')\n",
    "else:\n",
    "    print('strong password')\n",
    "\n"
   ]
  },
  {
   "cell_type": "code",
   "execution_count": 5,
   "id": "66e48975-fb0c-4b52-aadd-e466100b3a04",
   "metadata": {},
   "outputs": [
    {
     "name": "stdout",
     "output_type": "stream",
     "text": [
      "weak password\n"
     ]
    }
   ],
   "source": [
    "password = ('achhu')\n",
    "if len(password)<6:\n",
    "    print('weak password')\n",
    "elif len(password)<8:\n",
    "    print('moderate password')\n",
    "else:\n",
    "    print('strong password')"
   ]
  },
  {
   "cell_type": "code",
   "execution_count": null,
   "id": "6431c825-b88c-4d87-8a85-6b462e977d75",
   "metadata": {},
   "outputs": [],
   "source": [
    "#for loop"
   ]
  },
  {
   "cell_type": "code",
   "execution_count": null,
   "id": "8f99abd0-7946-4ef0-a7eb-13f0f5e65cf0",
   "metadata": {},
   "outputs": [],
   "source": [
    "a=[1,2,3,4,5,6]"
   ]
  },
  {
   "cell_type": "code",
   "execution_count": 19,
   "id": "59b01144-3443-4ed7-8886-c66616791c37",
   "metadata": {},
   "outputs": [
    {
     "name": "stdout",
     "output_type": "stream",
     "text": [
      "1\n",
      "2\n",
      "3\n",
      "4\n",
      "5\n",
      "6\n"
     ]
    }
   ],
   "source": [
    "for i in a:\n",
    "    print(i)"
   ]
  },
  {
   "cell_type": "code",
   "execution_count": 21,
   "id": "797d3373-80ed-4f34-8f5e-463008def02b",
   "metadata": {},
   "outputs": [
    {
     "name": "stdout",
     "output_type": "stream",
     "text": [
      "apple\n",
      "banana\n",
      "cherry\n"
     ]
    }
   ],
   "source": [
    "fruits=['apple','banana','cherry']\n",
    "for fruit in fruits:\n",
    "    print(fruit)"
   ]
  },
  {
   "cell_type": "code",
   "execution_count": 35,
   "id": "cd112ee1-f168-4518-b432-91396e6b38e5",
   "metadata": {},
   "outputs": [
    {
     "name": "stdout",
     "output_type": "stream",
     "text": [
      "h\n",
      "e\n",
      "l\n",
      "l\n",
      "o\n"
     ]
    }
   ],
   "source": [
    "word=\"hello\"\n",
    "for letter in word:\n",
    "    print(letter)"
   ]
  },
  {
   "cell_type": "code",
   "execution_count": 25,
   "id": "919b0c54-71e3-46bd-ab98-51fca2a1fa15",
   "metadata": {},
   "outputs": [
    {
     "data": {
      "text/plain": [
       "range(0, 5)"
      ]
     },
     "execution_count": 25,
     "metadata": {},
     "output_type": "execute_result"
    }
   ],
   "source": [
    "range(0,5)"
   ]
  },
  {
   "cell_type": "code",
   "execution_count": 29,
   "id": "50589e87-6c81-4b2b-8ac4-2437f1f1ddbe",
   "metadata": {},
   "outputs": [
    {
     "name": "stdout",
     "output_type": "stream",
     "text": [
      "0\n",
      "1\n",
      "2\n",
      "3\n",
      "4\n",
      "5\n",
      "6\n",
      "7\n",
      "8\n",
      "9\n"
     ]
    }
   ],
   "source": [
    "for i in range(0,10,):\n",
    "    print(i)"
   ]
  },
  {
   "cell_type": "code",
   "execution_count": 37,
   "id": "f148a69d-6fd4-433a-91be-0ad50e002d30",
   "metadata": {},
   "outputs": [
    {
     "name": "stdout",
     "output_type": "stream",
     "text": [
      "1\n",
      "4\n",
      "7\n"
     ]
    }
   ],
   "source": [
    "for i in range(1,10,3):\n",
    "    print(i)\n",
    "    "
   ]
  },
  {
   "cell_type": "code",
   "execution_count": 39,
   "id": "e557f077-a2bc-48d5-8834-7b036ae894c4",
   "metadata": {},
   "outputs": [
    {
     "name": "stdout",
     "output_type": "stream",
     "text": [
      "2\n",
      "4\n",
      "6\n",
      "8\n"
     ]
    }
   ],
   "source": [
    "for i in range(2,10,2):\n",
    "    print(i)"
   ]
  },
  {
   "cell_type": "code",
   "execution_count": 49,
   "id": "2589a3aa-049b-43e9-a763-7fcf3ff18781",
   "metadata": {},
   "outputs": [],
   "source": [
    "a=5\n"
   ]
  },
  {
   "cell_type": "code",
   "execution_count": 51,
   "id": "2ec8c9aa-460d-4964-afde-76f42b174118",
   "metadata": {},
   "outputs": [
    {
     "name": "stdout",
     "output_type": "stream",
     "text": [
      "0\n",
      "1\n",
      "2\n",
      "3\n",
      "4\n",
      "Loop is finished\n"
     ]
    }
   ],
   "source": [
    "for i in range(a):\n",
    "    print(i)\n",
    "else:\n",
    "    print(\"Loop is finished\")"
   ]
  },
  {
   "cell_type": "code",
   "execution_count": 53,
   "id": "424ad688-5cf5-4c91-8bbd-780652c1ea1e",
   "metadata": {},
   "outputs": [
    {
     "name": "stdout",
     "output_type": "stream",
     "text": [
      "i=1,j=0\n",
      "i=1,j=1\n",
      "i=1,j=0\n",
      "i=1,j=1\n",
      "i=1,j=0\n",
      "i=1,j=1\n"
     ]
    }
   ],
   "source": [
    "for i in range(3):\n",
    "    for j in range(2):\n",
    "        print(f\"i={1},j={j}\")"
   ]
  },
  {
   "cell_type": "code",
   "execution_count": 55,
   "id": "0e92a7ad-aacd-467e-9ee5-edc326199ab6",
   "metadata": {},
   "outputs": [
    {
     "name": "stdout",
     "output_type": "stream",
     "text": [
      "0\n",
      "1\n",
      "2\n",
      "this will print after for loop\n"
     ]
    }
   ],
   "source": [
    "for i in range(3):\n",
    "    print(i)\n",
    "print('this will print after for loop')"
   ]
  },
  {
   "cell_type": "code",
   "execution_count": 57,
   "id": "9c7e37bd-55f8-4367-b463-1ab916095956",
   "metadata": {},
   "outputs": [
    {
     "name": "stdout",
     "output_type": "stream",
     "text": [
      "0 0\n",
      "0 1\n",
      "1 0\n",
      "1 1\n",
      "2 0\n",
      "2 1\n"
     ]
    }
   ],
   "source": [
    "for i in range(3):\n",
    "    for j in range(2):\n",
    "        print(i,j)"
   ]
  },
  {
   "cell_type": "code",
   "execution_count": 73,
   "id": "a163646a-0737-4561-b8a3-751d10e82166",
   "metadata": {},
   "outputs": [],
   "source": [
    "name='achu'"
   ]
  },
  {
   "cell_type": "code",
   "execution_count": 75,
   "id": "e286e188-3def-47d5-9573-f10bda6ead3a",
   "metadata": {},
   "outputs": [
    {
     "name": "stdout",
     "output_type": "stream",
     "text": [
      "my name is achu\n"
     ]
    }
   ],
   "source": [
    "print(f'my name is {name}')\n"
   ]
  },
  {
   "cell_type": "code",
   "execution_count": 67,
   "id": "3baca929-ec72-4e09-ac1d-c99e42550ff1",
   "metadata": {},
   "outputs": [
    {
     "name": "stdout",
     "output_type": "stream",
     "text": [
      "this is outer loop\n",
      "this is inner loop\n",
      "this is inner loop\n",
      "this is inner loop\n",
      "this is outer loop\n",
      "this is inner loop\n",
      "this is inner loop\n",
      "this is inner loop\n",
      "this is outer loop\n",
      "this is inner loop\n",
      "this is inner loop\n",
      "this is inner loop\n"
     ]
    }
   ],
   "source": [
    "for i in range(3):\n",
    "    print(\"this is outer loop\")\n",
    "    for j in range(3):\n",
    "        print(\"this is inner loop\")"
   ]
  },
  {
   "cell_type": "code",
   "execution_count": 79,
   "id": "580f2723-6e5c-415e-895f-01bc2eba1303",
   "metadata": {},
   "outputs": [
    {
     "name": "stdout",
     "output_type": "stream",
     "text": [
      "0 = h\n",
      "1 = e\n",
      "2 = l\n",
      "3 = l\n",
      "4 = o\n"
     ]
    }
   ],
   "source": [
    "st =\"hello\"\n",
    "n=len(st)\n",
    "for i in range(n):\n",
    "    print(i,\"=\",st[i])"
   ]
  },
  {
   "cell_type": "code",
   "execution_count": 99,
   "id": "8bc28abb-0d0e-4c22-8b23-2955927d2fd0",
   "metadata": {},
   "outputs": [
    {
     "name": "stdout",
     "output_type": "stream",
     "text": [
      "0\n",
      "1\n",
      "2\n",
      "3\n",
      "4\n",
      "for loop has been stopped\n"
     ]
    }
   ],
   "source": [
    "for number in range(10):\n",
    "    if number==5:\n",
    "        break\n",
    "    print(number)\n",
    "\n",
    "print('for loop has been stopped')"
   ]
  },
  {
   "cell_type": "code",
   "execution_count": null,
   "id": "d051a282-b0c0-467b-b2b4-4ce2a8247967",
   "metadata": {},
   "outputs": [],
   "source": [
    "#continue"
   ]
  },
  {
   "cell_type": "code",
   "execution_count": 101,
   "id": "814f3ab6-0368-4578-85e9-914501a44b77",
   "metadata": {},
   "outputs": [
    {
     "name": "stdout",
     "output_type": "stream",
     "text": [
      "0\n",
      "1\n",
      "3\n",
      "4\n"
     ]
    }
   ],
   "source": [
    "for number in range(5):\n",
    "    if number==2:\n",
    "        continue\n",
    "    print(number)"
   ]
  },
  {
   "cell_type": "code",
   "execution_count": null,
   "id": "b7a50c4e-de02-4fde-bc9a-8f3cc5199867",
   "metadata": {},
   "outputs": [],
   "source": [
    "#pass"
   ]
  },
  {
   "cell_type": "code",
   "execution_count": 105,
   "id": "e9a42ac0-fed4-44e7-9ad5-381087687dea",
   "metadata": {},
   "outputs": [
    {
     "name": "stdout",
     "output_type": "stream",
     "text": [
      "0\n",
      "1\n",
      "2\n",
      "4\n",
      "5\n",
      "6\n",
      "7\n",
      "8\n"
     ]
    }
   ],
   "source": [
    "for number in range(9):\n",
    "    if number==3:\n",
    "        pass\n",
    "    else:\n",
    "        print(number)"
   ]
  },
  {
   "cell_type": "code",
   "execution_count": 2,
   "id": "4a65c6f9-0a9b-4497-ba4c-d2a4ceb332fc",
   "metadata": {},
   "outputs": [
    {
     "name": "stdout",
     "output_type": "stream",
     "text": [
      "10\n",
      "15\n",
      "20\n",
      "Number25 found!\n"
     ]
    }
   ],
   "source": [
    "numbers=[10,15,20,25,30,35,40]\n",
    "target=25\n",
    "for number in numbers:\n",
    "    if number==target:\n",
    "        print(f\"Number{target} found!\")\n",
    "        break\n",
    "    else:\n",
    "        print(number)\n"
   ]
  },
  {
   "cell_type": "code",
   "execution_count": null,
   "id": "0e6ecd6e-ffdb-4e81-a7f0-b84a3aae4c0e",
   "metadata": {},
   "outputs": [],
   "source": []
  }
 ],
 "metadata": {
  "kernelspec": {
   "display_name": "Python [conda env:base] *",
   "language": "python",
   "name": "conda-base-py"
  },
  "language_info": {
   "codemirror_mode": {
    "name": "ipython",
    "version": 3
   },
   "file_extension": ".py",
   "mimetype": "text/x-python",
   "name": "python",
   "nbconvert_exporter": "python",
   "pygments_lexer": "ipython3",
   "version": "3.12.7"
  }
 },
 "nbformat": 4,
 "nbformat_minor": 5
}
