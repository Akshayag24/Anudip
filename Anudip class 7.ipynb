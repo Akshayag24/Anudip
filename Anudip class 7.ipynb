{
 "cells": [
  {
   "cell_type": "code",
   "execution_count": null,
   "id": "347682e8-10cc-4ec0-9f2e-85e575ad6647",
   "metadata": {},
   "outputs": [],
   "source": [
    "#list "
   ]
  },
  {
   "cell_type": "code",
   "execution_count": 1,
   "id": "077fe09e-9dc8-4069-88e9-415f267726e9",
   "metadata": {},
   "outputs": [],
   "source": [
    "mutable_list=[1,2,3,4,5]"
   ]
  },
  {
   "cell_type": "code",
   "execution_count": 3,
   "id": "1ad0aec3-2c91-4be3-937e-def5f6a922f6",
   "metadata": {},
   "outputs": [
    {
     "data": {
      "text/plain": [
       "2"
      ]
     },
     "execution_count": 3,
     "metadata": {},
     "output_type": "execute_result"
    }
   ],
   "source": [
    "mutable_list[1]"
   ]
  },
  {
   "cell_type": "code",
   "execution_count": 5,
   "id": "bd50ca28-9514-4682-8612-9312bef8e6c2",
   "metadata": {},
   "outputs": [],
   "source": [
    "mutable_list[1]=12"
   ]
  },
  {
   "cell_type": "code",
   "execution_count": 8,
   "id": "6ceb442c-93f4-4c4f-ad13-0a353438ec1b",
   "metadata": {},
   "outputs": [
    {
     "data": {
      "text/plain": [
       "[1, 12, 3, 4, 5]"
      ]
     },
     "execution_count": 8,
     "metadata": {},
     "output_type": "execute_result"
    }
   ],
   "source": [
    "mutable_list"
   ]
  },
  {
   "cell_type": "code",
   "execution_count": null,
   "id": "0373a0f9-fa41-4ff7-b5c3-24f3ebbd6e7a",
   "metadata": {},
   "outputs": [],
   "source": [
    "#heterogeneous list"
   ]
  },
  {
   "cell_type": "code",
   "execution_count": 10,
   "id": "bc12d65b-23ae-41ac-b767-0c9cacb02caf",
   "metadata": {},
   "outputs": [],
   "source": [
    "hg_list=[42,\"kimi\",5.2,[1,2,3],1]"
   ]
  },
  {
   "cell_type": "code",
   "execution_count": 12,
   "id": "80ac9a10-6d33-4979-97ed-e8fef2e3c1a6",
   "metadata": {},
   "outputs": [
    {
     "data": {
      "text/plain": [
       "[42, 'kimi', 5.2, [1, 2, 3], 1]"
      ]
     },
     "execution_count": 12,
     "metadata": {},
     "output_type": "execute_result"
    }
   ],
   "source": [
    "hg_list"
   ]
  },
  {
   "cell_type": "code",
   "execution_count": 14,
   "id": "820c4725-4fb9-47e8-9d16-bba0c1922560",
   "metadata": {},
   "outputs": [
    {
     "data": {
      "text/plain": [
       "2"
      ]
     },
     "execution_count": 14,
     "metadata": {},
     "output_type": "execute_result"
    }
   ],
   "source": [
    "hg_list[3][1]"
   ]
  },
  {
   "cell_type": "markdown",
   "id": "2d8b10d5-e5aa-4eb9-8b1a-8e12c17927b6",
   "metadata": {},
   "source": [
    "##Array"
   ]
  },
  {
   "cell_type": "code",
   "execution_count": 18,
   "id": "0e4c9846-db96-4368-9188-e41df38656f3",
   "metadata": {},
   "outputs": [
    {
     "data": {
      "text/plain": [
       "array('i', [1, 2, 3, 4, 5])"
      ]
     },
     "execution_count": 18,
     "metadata": {},
     "output_type": "execute_result"
    }
   ],
   "source": [
    "import array\n",
    "numbers=array.array('i',[1,2,3,4,5])\n",
    "numbers"
   ]
  },
  {
   "cell_type": "code",
   "execution_count": null,
   "id": "b49d0a48-1394-4433-a651-2184c904cb25",
   "metadata": {},
   "outputs": [],
   "source": [
    "# difference b/w array and list"
   ]
  },
  {
   "cell_type": "code",
   "execution_count": null,
   "id": "7c6678c8-2dd5-4e26-87a1-14a816635b28",
   "metadata": {},
   "outputs": [],
   "source": [
    "#lists with mixed data types"
   ]
  },
  {
   "cell_type": "code",
   "execution_count": 22,
   "id": "80f5b5e7-035c-41a2-8a6d-8e9a344fc7df",
   "metadata": {},
   "outputs": [],
   "source": [
    "my_list=[1,\"jon\",40.5,True]"
   ]
  },
  {
   "cell_type": "code",
   "execution_count": null,
   "id": "9848518d-3df2-4aa9-9938-792438e109d9",
   "metadata": {},
   "outputs": [],
   "source": [
    "#array with elemnts of the same data types"
   ]
  },
  {
   "cell_type": "code",
   "execution_count": 24,
   "id": "ecd25e66-9e75-41f6-9286-76457bc174c5",
   "metadata": {},
   "outputs": [],
   "source": [
    "import array\n",
    "my_array=array.array('i',[1,2,3,4,5,6])  #'i' indicates the array will hold integers"
   ]
  },
  {
   "cell_type": "code",
   "execution_count": 26,
   "id": "3145e0c0-f3a4-4ce7-bcd7-54bca863580d",
   "metadata": {},
   "outputs": [],
   "source": [
    "#indexing a list"
   ]
  },
  {
   "cell_type": "code",
   "execution_count": 28,
   "id": "54bef0b1-85cc-4d47-8234-ef7251347800",
   "metadata": {},
   "outputs": [],
   "source": [
    "#creating a list"
   ]
  },
  {
   "cell_type": "code",
   "execution_count": 30,
   "id": "b1131f02-e27d-4082-baaa-43902bd2c035",
   "metadata": {},
   "outputs": [],
   "source": [
    "fruits=[\"apple\",\"banana\",\"kiwi\",\"dates\"]"
   ]
  },
  {
   "cell_type": "code",
   "execution_count": 36,
   "id": "5da6e055-d7e4-4ea4-9e28-3990971aec3f",
   "metadata": {},
   "outputs": [
    {
     "name": "stdout",
     "output_type": "stream",
     "text": [
      "apple\n",
      "dates\n"
     ]
    }
   ],
   "source": [
    "print(fruits[0])\n",
    "print(fruits[3])"
   ]
  },
  {
   "cell_type": "code",
   "execution_count": null,
   "id": "1dd13964-2c58-41aa-b753-b1201aa011ba",
   "metadata": {},
   "outputs": [],
   "source": [
    "#slicing a list"
   ]
  },
  {
   "cell_type": "code",
   "execution_count": 42,
   "id": "9bc47838-9534-4f44-9320-48bd5b0f00a7",
   "metadata": {},
   "outputs": [
    {
     "data": {
      "text/plain": [
       "[10, 20, 30, 40, 50, 76, 56, 88, 90, 98, 345]"
      ]
     },
     "execution_count": 42,
     "metadata": {},
     "output_type": "execute_result"
    }
   ],
   "source": [
    "#creating a list\n",
    "digi=[10,20,30,40,50,76,56,88,90,98,345]\n",
    "digi"
   ]
  },
  {
   "cell_type": "code",
   "execution_count": 44,
   "id": "fa2f1b77-9a1d-4d1b-820d-85cb36a3b62d",
   "metadata": {},
   "outputs": [
    {
     "data": {
      "text/plain": [
       "[20, 30, 40, 50, 76]"
      ]
     },
     "execution_count": 44,
     "metadata": {},
     "output_type": "execute_result"
    }
   ],
   "source": [
    "digi[1:6]"
   ]
  },
  {
   "cell_type": "code",
   "execution_count": 48,
   "id": "d36df9a8-08ec-4732-9cf3-eebab35d8cb4",
   "metadata": {},
   "outputs": [
    {
     "data": {
      "text/plain": [
       "[20, 30, 40]"
      ]
     },
     "execution_count": 48,
     "metadata": {},
     "output_type": "execute_result"
    }
   ],
   "source": [
    "digi[1:4]\n"
   ]
  },
  {
   "cell_type": "code",
   "execution_count": 60,
   "id": "3945024b-c6e2-4d62-8ad2-0f385bc03b83",
   "metadata": {},
   "outputs": [
    {
     "data": {
      "text/plain": [
       "[50, 76, 56, 88, 90]"
      ]
     },
     "execution_count": 60,
     "metadata": {},
     "output_type": "execute_result"
    }
   ],
   "source": [
    "digi[-7:-2]"
   ]
  },
  {
   "cell_type": "code",
   "execution_count": 62,
   "id": "a1157e99-546c-4def-b159-62c38007f03e",
   "metadata": {},
   "outputs": [
    {
     "data": {
      "text/plain": [
       "[20, 50, 88]"
      ]
     },
     "execution_count": 62,
     "metadata": {},
     "output_type": "execute_result"
    }
   ],
   "source": [
    "digi[1:8:3]"
   ]
  },
  {
   "cell_type": "code",
   "execution_count": 64,
   "id": "11ae0ba7-43b1-4938-a5e5-9208f43a6c06",
   "metadata": {},
   "outputs": [
    {
     "data": {
      "text/plain": [
       "[40, 50, 76, 56, 88, 90, 98, 345]"
      ]
     },
     "execution_count": 64,
     "metadata": {},
     "output_type": "execute_result"
    }
   ],
   "source": [
    "digi[3:]"
   ]
  },
  {
   "cell_type": "code",
   "execution_count": 66,
   "id": "47081edb-899c-4423-bffe-902fb9cab133",
   "metadata": {},
   "outputs": [
    {
     "data": {
      "text/plain": [
       "[10, 20, 30, 40, 50, 76]"
      ]
     },
     "execution_count": 66,
     "metadata": {},
     "output_type": "execute_result"
    }
   ],
   "source": [
    "digi[:6]"
   ]
  },
  {
   "cell_type": "code",
   "execution_count": 70,
   "id": "5b45a846-b6f6-49fa-baee-39246deba835",
   "metadata": {},
   "outputs": [
    {
     "data": {
      "text/plain": [
       "[10, 20, 30, 40, 50, 76, 56, 88, 90, 98, 345]"
      ]
     },
     "execution_count": 70,
     "metadata": {},
     "output_type": "execute_result"
    }
   ],
   "source": [
    "digi[:]"
   ]
  },
  {
   "cell_type": "code",
   "execution_count": 82,
   "id": "2f324162-0b98-4505-a2e1-11519d0cced9",
   "metadata": {},
   "outputs": [],
   "source": [
    "digi[2:6]=[]"
   ]
  },
  {
   "cell_type": "code",
   "execution_count": 84,
   "id": "4adc6760-7eb6-4d8e-8668-ed8f89ea64b6",
   "metadata": {},
   "outputs": [
    {
     "data": {
      "text/plain": [
       "[10, 20, 1, 2, 34, 9]"
      ]
     },
     "execution_count": 84,
     "metadata": {},
     "output_type": "execute_result"
    }
   ],
   "source": [
    "digi[2:6]=[1,2,34,9]\n",
    "digi"
   ]
  },
  {
   "cell_type": "code",
   "execution_count": 86,
   "id": "367021fd-d23e-4800-a44b-9e0fdbcbd5c0",
   "metadata": {},
   "outputs": [],
   "source": [
    "digi[1:5]=[1]"
   ]
  },
  {
   "cell_type": "code",
   "execution_count": 88,
   "id": "967c0749-0791-4da0-98c4-c84004a151e3",
   "metadata": {},
   "outputs": [
    {
     "data": {
      "text/plain": [
       "[10, 1, 9]"
      ]
     },
     "execution_count": 88,
     "metadata": {},
     "output_type": "execute_result"
    }
   ],
   "source": [
    "digi"
   ]
  },
  {
   "cell_type": "code",
   "execution_count": null,
   "id": "2bae12aa-2255-4f92-bf86-06f091df16c8",
   "metadata": {},
   "outputs": [],
   "source": [
    "#replacing a range of elements"
   ]
  },
  {
   "cell_type": "code",
   "execution_count": 90,
   "id": "1a63c8db-fca9-494f-b365-467e26ce9dfd",
   "metadata": {},
   "outputs": [
    {
     "data": {
      "text/plain": [
       "['red', 'blue', 'white', 'black']"
      ]
     },
     "execution_count": 90,
     "metadata": {},
     "output_type": "execute_result"
    }
   ],
   "source": [
    "colors=['red','blue','white','black']\n",
    "colors"
   ]
  },
  {
   "cell_type": "code",
   "execution_count": 94,
   "id": "9ab4e82b-8ad6-4cfc-bd8c-067ae940f489",
   "metadata": {},
   "outputs": [],
   "source": [
    "colors[1:3]=['yello','cyan']"
   ]
  },
  {
   "cell_type": "code",
   "execution_count": 96,
   "id": "e24f2e71-31a0-4a62-b61d-e0ce95eaa7ff",
   "metadata": {},
   "outputs": [
    {
     "data": {
      "text/plain": [
       "['red', 'yello', 'cyan', 'black']"
      ]
     },
     "execution_count": 96,
     "metadata": {},
     "output_type": "execute_result"
    }
   ],
   "source": [
    "colors"
   ]
  },
  {
   "cell_type": "code",
   "execution_count": 98,
   "id": "177b9962-ebbb-45da-b808-cde9a58b01d7",
   "metadata": {},
   "outputs": [],
   "source": [
    "#inserting"
   ]
  },
  {
   "cell_type": "code",
   "execution_count": 100,
   "id": "0e45b190-ccf7-495a-a578-1bbf7c312a01",
   "metadata": {},
   "outputs": [],
   "source": [
    "animals=['cat','dog','elephant']"
   ]
  },
  {
   "cell_type": "code",
   "execution_count": 102,
   "id": "099c4469-97ec-402e-9869-f9c4916467fa",
   "metadata": {},
   "outputs": [],
   "source": [
    "animals[1:2]=['rabbit','cow']"
   ]
  },
  {
   "cell_type": "code",
   "execution_count": 104,
   "id": "424ef2e0-f844-43c7-987c-04cebec719d7",
   "metadata": {},
   "outputs": [
    {
     "data": {
      "text/plain": [
       "['cat', 'rabbit', 'cow', 'elephant']"
      ]
     },
     "execution_count": 104,
     "metadata": {},
     "output_type": "execute_result"
    }
   ],
   "source": [
    "animals"
   ]
  },
  {
   "cell_type": "code",
   "execution_count": null,
   "id": "d1014bf3-fcf9-49e8-b27a-c0b137d1b1b2",
   "metadata": {},
   "outputs": [],
   "source": [
    "#deleting"
   ]
  },
  {
   "cell_type": "code",
   "execution_count": 106,
   "id": "4af32ed5-eb76-456f-ab6f-bda3cfb60558",
   "metadata": {},
   "outputs": [],
   "source": [
    "cities=['new york','chicago','london','houston']"
   ]
  },
  {
   "cell_type": "code",
   "execution_count": 108,
   "id": "e7267924-3ffe-4456-ab57-9495d4081ffc",
   "metadata": {},
   "outputs": [],
   "source": [
    "del cities[1]"
   ]
  },
  {
   "cell_type": "code",
   "execution_count": 112,
   "id": "56d59776-ab54-4bc5-af46-48ee1220b3a2",
   "metadata": {},
   "outputs": [
    {
     "data": {
      "text/plain": [
       "['new york', 'london', 'houston']"
      ]
     },
     "execution_count": 112,
     "metadata": {},
     "output_type": "execute_result"
    }
   ],
   "source": [
    "cities"
   ]
  },
  {
   "cell_type": "code",
   "execution_count": null,
   "id": "8ed5ccbd-70cc-407a-b47e-da8dc32740b7",
   "metadata": {},
   "outputs": [],
   "source": [
    "#modify"
   ]
  },
  {
   "cell_type": "code",
   "execution_count": 114,
   "id": "86fe2e71-6352-4e13-badc-9491184682c2",
   "metadata": {},
   "outputs": [],
   "source": [
    "languages=['java','c','python','sql']"
   ]
  },
  {
   "cell_type": "code",
   "execution_count": 116,
   "id": "bf342e80-903d-4131-9ef5-2865643be665",
   "metadata": {},
   "outputs": [],
   "source": [
    "languages.insert(1,'javascript')"
   ]
  },
  {
   "cell_type": "code",
   "execution_count": 118,
   "id": "00803390-96c5-4cf0-bd5b-05b04b6f4da2",
   "metadata": {},
   "outputs": [
    {
     "data": {
      "text/plain": [
       "['java', 'javascript', 'c', 'python', 'sql']"
      ]
     },
     "execution_count": 118,
     "metadata": {},
     "output_type": "execute_result"
    }
   ],
   "source": [
    "languages"
   ]
  },
  {
   "cell_type": "code",
   "execution_count": null,
   "id": "f9e7058e-ced9-4077-b4eb-90af3c7c1f47",
   "metadata": {},
   "outputs": [],
   "source": [
    "#addition"
   ]
  },
  {
   "cell_type": "code",
   "execution_count": 120,
   "id": "45733319-a4c7-43ef-9e6e-f73f298ea4cc",
   "metadata": {},
   "outputs": [],
   "source": [
    "list1=[1,2,3]\n",
    "list2=[5,7,7]"
   ]
  },
  {
   "cell_type": "code",
   "execution_count": 122,
   "id": "318b6fd7-3b25-4301-b8e2-85bc933c3dfa",
   "metadata": {},
   "outputs": [
    {
     "data": {
      "text/plain": [
       "[1, 2, 3, 5, 7, 7]"
      ]
     },
     "execution_count": 122,
     "metadata": {},
     "output_type": "execute_result"
    }
   ],
   "source": [
    "result=list1+list2\n",
    "result"
   ]
  },
  {
   "cell_type": "code",
   "execution_count": null,
   "id": "7dbb9087-4623-401a-ad32-d0a3613702b2",
   "metadata": {},
   "outputs": [],
   "source": [
    "#multiplication"
   ]
  },
  {
   "cell_type": "code",
   "execution_count": 124,
   "id": "731c7c3a-00df-44dd-be83-7da05c3cb019",
   "metadata": {},
   "outputs": [],
   "source": [
    "list3=[7,8,9]\n"
   ]
  },
  {
   "cell_type": "code",
   "execution_count": 126,
   "id": "d3cf9229-5b60-483d-adc2-057bfb6467b3",
   "metadata": {},
   "outputs": [
    {
     "data": {
      "text/plain": [
       "[7, 8, 9, 7, 8, 9, 7, 8, 9]"
      ]
     },
     "execution_count": 126,
     "metadata": {},
     "output_type": "execute_result"
    }
   ],
   "source": [
    "result=list3*3\n",
    "result"
   ]
  },
  {
   "cell_type": "code",
   "execution_count": null,
   "id": "160af26d-2c66-41ca-9b33-d812e1809f91",
   "metadata": {},
   "outputs": [],
   "source": [
    "#in and not in operator in list"
   ]
  },
  {
   "cell_type": "code",
   "execution_count": 128,
   "id": "2f1159a9-82f2-4bfd-9379-2f3b290191ee",
   "metadata": {},
   "outputs": [],
   "source": [
    "my_list=['apple','goa','orange']\n"
   ]
  },
  {
   "cell_type": "code",
   "execution_count": 130,
   "id": "ef106cd8-57cf-4c8d-8ce5-c93f3f0c3b97",
   "metadata": {},
   "outputs": [],
   "source": [
    "result='apple' in my_list"
   ]
  },
  {
   "cell_type": "code",
   "execution_count": 132,
   "id": "05876e93-d914-4613-b56e-7cf00bbd85aa",
   "metadata": {},
   "outputs": [
    {
     "data": {
      "text/plain": [
       "True"
      ]
     },
     "execution_count": 132,
     "metadata": {},
     "output_type": "execute_result"
    }
   ],
   "source": [
    "result"
   ]
  },
  {
   "cell_type": "code",
   "execution_count": 134,
   "id": "81345bbe-c95f-4c18-841e-c0ed6a5370af",
   "metadata": {},
   "outputs": [
    {
     "data": {
      "text/plain": [
       "True"
      ]
     },
     "execution_count": 134,
     "metadata": {},
     "output_type": "execute_result"
    }
   ],
   "source": [
    "result='banana' not in my_list\n",
    "result"
   ]
  },
  {
   "cell_type": "code",
   "execution_count": null,
   "id": "7b991c89-1257-44b2-b990-0749fe007c60",
   "metadata": {},
   "outputs": [],
   "source": [
    "#for loop"
   ]
  },
  {
   "cell_type": "code",
   "execution_count": 136,
   "id": "66adf0a2-7eca-480f-96a7-68d11befca9b",
   "metadata": {},
   "outputs": [],
   "source": [
    "list=['apple','goa','orange']"
   ]
  },
  {
   "cell_type": "code",
   "execution_count": 138,
   "id": "df07a951-33c4-42eb-bfbc-7b4016b953a9",
   "metadata": {},
   "outputs": [
    {
     "name": "stdout",
     "output_type": "stream",
     "text": [
      "apple\n",
      "goa\n",
      "orange\n"
     ]
    }
   ],
   "source": [
    "for fruits in list:\n",
    "    print(fruits)"
   ]
  },
  {
   "cell_type": "code",
   "execution_count": 140,
   "id": "1a549636-5a5a-4fd4-b67e-ddefe50e64da",
   "metadata": {},
   "outputs": [
    {
     "name": "stdout",
     "output_type": "stream",
     "text": [
      "total_sum: 15\n"
     ]
    }
   ],
   "source": [
    "numbers=[1,2,3,4,5]\n",
    "total_sum=0\n",
    "for number in numbers:\n",
    "    total_sum=total_sum+number\n",
    "print('total_sum:',total_sum)    "
   ]
  },
  {
   "cell_type": "code",
   "execution_count": null,
   "id": "f9c9706d-5706-423d-93de-9b018f8a4c0d",
   "metadata": {},
   "outputs": [],
   "source": [
    "#nested loop"
   ]
  },
  {
   "cell_type": "code",
   "execution_count": 142,
   "id": "74d037a4-9262-48ae-ad8c-e1a8cdadbba2",
   "metadata": {},
   "outputs": [
    {
     "name": "stdout",
     "output_type": "stream",
     "text": [
      "1 2 3 \n",
      "4 5 6 \n",
      "7 8 9 \n"
     ]
    }
   ],
   "source": [
    "matrix =[\n",
    "    [1,2,3],\n",
    "    [4,5,6],\n",
    "    [7,8,9]\n",
    "] \n",
    "for row in matrix:\n",
    "    for numbers in row:\n",
    "        print(numbers,end=\" \")\n",
    "    print()"
   ]
  },
  {
   "cell_type": "code",
   "execution_count": null,
   "id": "e4aa0a69-4116-49d4-9938-f06d1247e16d",
   "metadata": {},
   "outputs": [],
   "source": []
  }
 ],
 "metadata": {
  "kernelspec": {
   "display_name": "Python [conda env:base] *",
   "language": "python",
   "name": "conda-base-py"
  },
  "language_info": {
   "codemirror_mode": {
    "name": "ipython",
    "version": 3
   },
   "file_extension": ".py",
   "mimetype": "text/x-python",
   "name": "python",
   "nbconvert_exporter": "python",
   "pygments_lexer": "ipython3",
   "version": "3.12.7"
  }
 },
 "nbformat": 4,
 "nbformat_minor": 5
}
