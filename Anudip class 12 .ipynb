{
 "cells": [
  {
   "cell_type": "code",
   "execution_count": 2,
   "id": "bc5f8488-8572-4972-a304-e6b85412c478",
   "metadata": {},
   "outputs": [],
   "source": [
    "#functions"
   ]
  },
  {
   "cell_type": "code",
   "execution_count": 4,
   "id": "e49364f2-3a04-411e-b92f-58868e1757ef",
   "metadata": {},
   "outputs": [],
   "source": [
    "def greet():\n",
    "    name = input(\"Enter the name \")\n",
    "    print(f\"Hello {name}, Welcome to the party ..\")\n",
    "    "
   ]
  },
  {
   "cell_type": "code",
   "execution_count": 6,
   "id": "28a50b27-9d8e-4025-a3d7-0596dcdedbf6",
   "metadata": {},
   "outputs": [
    {
     "name": "stdin",
     "output_type": "stream",
     "text": [
      "Enter the name  Achhu\n"
     ]
    },
    {
     "name": "stdout",
     "output_type": "stream",
     "text": [
      "Hello Achhu, Welcome to the party ..\n"
     ]
    }
   ],
   "source": [
    "greet()"
   ]
  },
  {
   "cell_type": "code",
   "execution_count": 10,
   "id": "5956b145-fd5a-42b7-bcdb-d81b5c040966",
   "metadata": {},
   "outputs": [],
   "source": [
    "def calculation():\n",
    "    a = 18\n",
    "    b = 24\n",
    "    print(a+b)\n",
    "    print(a-b)\n",
    "    print(a*b)\n",
    "    print(a%b)"
   ]
  },
  {
   "cell_type": "code",
   "execution_count": 12,
   "id": "f75f210a-fb6b-4ca9-b8ad-895917039cdb",
   "metadata": {},
   "outputs": [
    {
     "name": "stdout",
     "output_type": "stream",
     "text": [
      "42\n",
      "-6\n",
      "432\n",
      "18\n"
     ]
    }
   ],
   "source": [
    "calculation()"
   ]
  },
  {
   "cell_type": "code",
   "execution_count": 14,
   "id": "209b1490-4e3b-458c-bb94-df48698a7e29",
   "metadata": {},
   "outputs": [],
   "source": [
    "def mul():\n",
    "    num = int(input(\"enter a number for multiplication: \"))\n",
    "    for i in range(1,11):\n",
    "        print(f\"(num) x  {i} = {num * i}\")"
   ]
  },
  {
   "cell_type": "code",
   "execution_count": 16,
   "id": "e4914881-dd4d-42eb-96a9-7f8f8293f1ef",
   "metadata": {},
   "outputs": [],
   "source": [
    "def mul(num):\n",
    "    for i in range(1,12):\n",
    "        print(f\"{num} x {i} = {num*i}\")"
   ]
  },
  {
   "cell_type": "code",
   "execution_count": 20,
   "id": "c978100a-79b7-4901-bada-9ff21238031f",
   "metadata": {},
   "outputs": [
    {
     "name": "stdout",
     "output_type": "stream",
     "text": [
      "4 x 1 = 4\n",
      "4 x 2 = 8\n",
      "4 x 3 = 12\n",
      "4 x 4 = 16\n",
      "4 x 5 = 20\n",
      "4 x 6 = 24\n",
      "4 x 7 = 28\n",
      "4 x 8 = 32\n",
      "4 x 9 = 36\n",
      "4 x 10 = 40\n",
      "4 x 11 = 44\n"
     ]
    }
   ],
   "source": [
    "mul(4)"
   ]
  },
  {
   "cell_type": "code",
   "execution_count": 22,
   "id": "0b50d2ad-11b2-49d8-924e-234ed48c7d36",
   "metadata": {},
   "outputs": [],
   "source": [
    "#parameter  and argument"
   ]
  },
  {
   "cell_type": "code",
   "execution_count": 24,
   "id": "f3ccbf83-bcc1-4fa5-a30f-af85a8d887ee",
   "metadata": {},
   "outputs": [],
   "source": [
    "def greet(name):              #name is a parameter\n",
    "    print(f\"{hello},{name}!\")      # alice is an argument"
   ]
  },
  {
   "cell_type": "code",
   "execution_count": 26,
   "id": "70b42b9f-8ff3-4a3d-98a6-b3ba4d14f076",
   "metadata": {},
   "outputs": [],
   "source": [
    "#formal argument-the declaration\n",
    "#actual argument-the value passed to the variables when it is called\n",
    "def greet(name):             #name is formal argument\n",
    "    print(f\"hello,{name}!\") #alice ia an argument"
   ]
  },
  {
   "cell_type": "code",
   "execution_count": 28,
   "id": "6c27b791-35fa-4061-8330-80a4af69df04",
   "metadata": {},
   "outputs": [],
   "source": [
    "def fun():\n",
    "    a=12\n",
    "    b=45\n",
    "    c=a+b\n",
    "    return c"
   ]
  },
  {
   "cell_type": "code",
   "execution_count": 30,
   "id": "ced781d3-8982-4e65-88d8-d93508e74eca",
   "metadata": {},
   "outputs": [],
   "source": [
    "var=fun()"
   ]
  },
  {
   "cell_type": "code",
   "execution_count": 32,
   "id": "40d23c0a-eaf9-4b4f-b977-ec872e02a502",
   "metadata": {},
   "outputs": [
    {
     "data": {
      "text/plain": [
       "57"
      ]
     },
     "execution_count": 32,
     "metadata": {},
     "output_type": "execute_result"
    }
   ],
   "source": [
    "var"
   ]
  },
  {
   "cell_type": "code",
   "execution_count": 34,
   "id": "ce161e18-b8cd-4236-b226-22738f2d77c2",
   "metadata": {},
   "outputs": [
    {
     "name": "stdout",
     "output_type": "stream",
     "text": [
      "Odd\n"
     ]
    }
   ],
   "source": [
    "def check_even(number):\n",
    "    if number%2==0:\n",
    "        return \"Even\"\n",
    "    return \"Odd\"\n",
    "result=check_even(9)\n",
    "print(result)"
   ]
  },
  {
   "cell_type": "code",
   "execution_count": 36,
   "id": "791dede3-587b-4415-a427-0786c73be420",
   "metadata": {},
   "outputs": [
    {
     "name": "stdout",
     "output_type": "stream",
     "text": [
      "[1, 2, 45, 6]\n"
     ]
    }
   ],
   "source": [
    "def create_list():\n",
    "    return [1,2,45,6]\n",
    "my_list = create_list()\n",
    "print(my_list)"
   ]
  }
 ],
 "metadata": {
  "kernelspec": {
   "display_name": "Python [conda env:base] *",
   "language": "python",
   "name": "conda-base-py"
  },
  "language_info": {
   "codemirror_mode": {
    "name": "ipython",
    "version": 3
   },
   "file_extension": ".py",
   "mimetype": "text/x-python",
   "name": "python",
   "nbconvert_exporter": "python",
   "pygments_lexer": "ipython3",
   "version": "3.12.7"
  }
 },
 "nbformat": 4,
 "nbformat_minor": 5
}
