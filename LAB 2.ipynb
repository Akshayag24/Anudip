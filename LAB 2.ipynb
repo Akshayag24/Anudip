{
 "cells": [
  {
   "cell_type": "code",
   "execution_count": null,
   "id": "425252c4-089f-4092-96ac-e872a3789d63",
   "metadata": {},
   "outputs": [],
   "source": [
    "##using input() function take one number from the user and using ternary operators check whether the number is even or odd "
   ]
  },
  {
   "cell_type": "code",
   "execution_count": 14,
   "id": "ee59975d-64e0-48f9-9846-02dea579fd5f",
   "metadata": {},
   "outputs": [
    {
     "name": "stdin",
     "output_type": "stream",
     "text": [
      "Enter a number:  85\n"
     ]
    }
   ],
   "source": [
    "# Take input from the user\n",
    "num = int(input(\"Enter a number: \"))\n"
   ]
  },
  {
   "cell_type": "code",
   "execution_count": 16,
   "id": "8d8b3bbd-4753-4288-81b4-77c10467fbe7",
   "metadata": {},
   "outputs": [
    {
     "name": "stdout",
     "output_type": "stream",
     "text": [
      "Odd\n"
     ]
    }
   ],
   "source": [
    "\n",
    "# Use ternary operator to check even or odd\n",
    "print(\"Even\" if num % 2 == 0 else \"Odd\")\n"
   ]
  },
  {
   "cell_type": "code",
   "execution_count": null,
   "id": "8226cf68-c42f-4557-8f83-f20476910153",
   "metadata": {},
   "outputs": [],
   "source": []
  },
  {
   "cell_type": "code",
   "execution_count": null,
   "id": "336d0d91-dce4-4651-ac0c-3eac6306c24f",
   "metadata": {},
   "outputs": [],
   "source": [
    "##using input function take two numbers and then swap the number"
   ]
  },
  {
   "cell_type": "code",
   "execution_count": 26,
   "id": "e1ebe8cd-35f1-45b1-96b7-8aaf4686e2b7",
   "metadata": {},
   "outputs": [
    {
     "name": "stdin",
     "output_type": "stream",
     "text": [
      "Enter the first number (a):  56\n",
      "Enter the second number (b):  65\n"
     ]
    }
   ],
   "source": [
    "# Take input from the user\n",
    "a = input(\"Enter the first number (a): \")\n",
    "b = input(\"Enter the second number (b): \")"
   ]
  },
  {
   "cell_type": "code",
   "execution_count": 28,
   "id": "6e7b344e-0e31-4671-80c1-94beca8334cb",
   "metadata": {},
   "outputs": [],
   "source": [
    "# Swap the values\n",
    "a, b = b, a"
   ]
  },
  {
   "cell_type": "code",
   "execution_count": 30,
   "id": "4a3648da-70d8-47bf-9574-987f03de8b71",
   "metadata": {},
   "outputs": [
    {
     "name": "stdout",
     "output_type": "stream",
     "text": [
      "After swapping:\n",
      "a = 65\n",
      "b = 56\n"
     ]
    }
   ],
   "source": [
    "# Print the swapped values\n",
    "print(\"After swapping:\")\n",
    "print(f\"a = {a}\")\n",
    "print(f\"b = {b}\")"
   ]
  },
  {
   "cell_type": "code",
   "execution_count": null,
   "id": "f1d743ce-957f-4259-82e3-a67a2772a505",
   "metadata": {},
   "outputs": [],
   "source": []
  },
  {
   "cell_type": "code",
   "execution_count": null,
   "id": "d2aea348-cc32-497b-b477-00dc90994f5b",
   "metadata": {},
   "outputs": [],
   "source": [
    "##write a program to convert Kilometer to miles"
   ]
  },
  {
   "cell_type": "code",
   "execution_count": 34,
   "id": "c32f8ce6-82c7-4b41-bfea-e1948b473165",
   "metadata": {},
   "outputs": [
    {
     "name": "stdin",
     "output_type": "stream",
     "text": [
      "Enter distance in kilometers:  13\n"
     ]
    },
    {
     "name": "stdout",
     "output_type": "stream",
     "text": [
      "13.0 kilometers is equal to 8.08 miles.\n"
     ]
    }
   ],
   "source": [
    "# Take input from the user in kilometers\n",
    "kilometers = float(input(\"Enter distance in kilometers: \"))\n",
    "\n",
    "# Conversion factor: 1 kilometer = 0.621371 miles\n",
    "miles = kilometers * 0.621371\n",
    "\n",
    "# Print the result\n",
    "print(f\"{kilometers} kilometers is equal to {miles:.2f} miles.\")\n"
   ]
  },
  {
   "cell_type": "code",
   "execution_count": null,
   "id": "21c8bd36-63f9-483a-891b-92fce30be1c9",
   "metadata": {},
   "outputs": [],
   "source": []
  },
  {
   "cell_type": "code",
   "execution_count": 36,
   "id": "9a9a732c-fb7f-4f6f-b7d7-315474877f3d",
   "metadata": {},
   "outputs": [],
   "source": [
    "## find the simple intrest on RS.200 for 5 yrs at 5% per year "
   ]
  },
  {
   "cell_type": "code",
   "execution_count": 6,
   "id": "70cb022e-bd92-4060-93f8-74c0e4c26a84",
   "metadata": {},
   "outputs": [
    {
     "name": "stdout",
     "output_type": "stream",
     "text": [
      "Simple Interest is ₹ 37.5\n"
     ]
    }
   ],
   "source": [
    "# Define values\n",
    "P = 150  # Principal amount in rupees\n",
    "R = 5    # Annual interest rate in percent\n",
    "T = 5    # Time in years\n",
    "\n",
    "# Calculate simple interest\n",
    "SI = (P * R * T) / 100\n",
    "\n",
    "# Display the result\n",
    "print(\"Simple Interest is ₹\", SI)\n"
   ]
  },
  {
   "cell_type": "code",
   "execution_count": null,
   "id": "2a5867bb-3c9e-424f-87e5-57e2798ad9de",
   "metadata": {},
   "outputs": [],
   "source": []
  },
  {
   "cell_type": "code",
   "execution_count": null,
   "id": "380e3a20-bfb7-47c5-a163-df2672c64015",
   "metadata": {},
   "outputs": [],
   "source": []
  },
  {
   "cell_type": "code",
   "execution_count": null,
   "id": "d0725ec9-2fd6-4633-b274-541f2e8781e5",
   "metadata": {},
   "outputs": [],
   "source": []
  }
 ],
 "metadata": {
  "kernelspec": {
   "display_name": "Python [conda env:base] *",
   "language": "python",
   "name": "conda-base-py"
  },
  "language_info": {
   "codemirror_mode": {
    "name": "ipython",
    "version": 3
   },
   "file_extension": ".py",
   "mimetype": "text/x-python",
   "name": "python",
   "nbconvert_exporter": "python",
   "pygments_lexer": "ipython3",
   "version": "3.12.7"
  }
 },
 "nbformat": 4,
 "nbformat_minor": 5
}
