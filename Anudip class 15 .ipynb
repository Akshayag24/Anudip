{
 "cells": [
  {
   "cell_type": "code",
   "execution_count": 2,
   "id": "d5250228-1127-46d8-b2f9-38756c116180",
   "metadata": {},
   "outputs": [],
   "source": [
    "class Mylist:\n",
    "    def __init__(self):\n",
    "       self.item =[]\n",
    "\n",
    "    def append(self,items):\n",
    "        \"\"\" Method to add an items to the list \"\"\"\n",
    "        self.items.append(items)\n",
    "\n",
    "    def remove(self,items):\n",
    "        \"\"\" Method to remove an item from the list \"\"\"\n",
    "        if item in self.items:\n",
    "            self.items.remove(item)\n",
    "        else:\n",
    "            print(f\" {item} not found in the list!\")\n",
    "    def display(self):\n",
    "        \"\"\" Method to display the current list\"\"\"\n",
    "        print(self.items)\n",
    "    def size(self):\n",
    "        \"\"\" Method to return the size of the list\"\"\"\n",
    "        return len(self.items)\n",
    "    "
   ]
  },
  {
   "cell_type": "code",
   "execution_count": 10,
   "id": "95946245-da4a-4fe9-999f-aef97fe39ef9",
   "metadata": {},
   "outputs": [
    {
     "name": "stdin",
     "output_type": "stream",
     "text": [
      "enter a number:  22\n"
     ]
    },
    {
     "name": "stdout",
     "output_type": "stream",
     "text": [
      "Result is 0.45454545454545453\n"
     ]
    }
   ],
   "source": [
    "try:\n",
    "    x=int(input(\"enter a number: \"))\n",
    "    result=10/x\n",
    "    print(\"Result is\", result)\n",
    "except ValueError:\n",
    "    print(\"that was not a number\")\n",
    "except ZeroDevisionError:\n",
    "    print(\"you cannot divide by zero\")\n",
    "    "
   ]
  },
  {
   "cell_type": "code",
   "execution_count": 12,
   "id": "49cc45e1-c9d1-44a1-90bd-36407257b8df",
   "metadata": {},
   "outputs": [
    {
     "name": "stdin",
     "output_type": "stream",
     "text": [
      "enter a number:  4\n"
     ]
    },
    {
     "name": "stdout",
     "output_type": "stream",
     "text": [
      "you entered: 4\n"
     ]
    }
   ],
   "source": [
    "try:\n",
    "    value = int(input(\"enter a number: \"))\n",
    "    print(\"you entered:\",value)\n",
    "except ValueError: \n",
    "    print(\"Oops! that was not a valid number\")"
   ]
  },
  {
   "cell_type": "code",
   "execution_count": 14,
   "id": "f65cbbc0-aa6f-4fdf-aae1-bafd8e4beffb",
   "metadata": {},
   "outputs": [
    {
     "name": "stdout",
     "output_type": "stream",
     "text": [
      "result is: 4.0\n",
      "this block runs no matter what\n"
     ]
    }
   ],
   "source": [
    "try:\n",
    "    x=8\n",
    "    y=2\n",
    "    result=x/y\n",
    "except ZeroDevisionError:\n",
    "    print(\"cannot divide by zero!\")\n",
    "else:\n",
    "    print(\"result is:\", result)\n",
    "finally:\n",
    "    print(\"this block runs no matter what\")"
   ]
  },
  {
   "cell_type": "code",
   "execution_count": 16,
   "id": "4694b56e-0f9c-413a-ba77-83856e92409f",
   "metadata": {},
   "outputs": [
    {
     "name": "stdout",
     "output_type": "stream",
     "text": [
      "Custom Exception Caught: age cannot be negative!\n"
     ]
    }
   ],
   "source": [
    "class NegativeAgeError(Exception):\n",
    "    \"\"\"Raised when the age is negative\"\"\"\n",
    "    pass\n",
    "def validate_age(age):\n",
    "    if age<0:\n",
    "        raise NegativeAgeError(\"age cannot be negative!\")\n",
    "    else:\n",
    "        print(\"Valid age:\", age)\n",
    "\n",
    "try:\n",
    "    validate_age(-7)\n",
    "except NegativeAgeError as e:\n",
    "    print(\"Custom Exception Caught:\",e)"
   ]
  },
  {
   "cell_type": "code",
   "execution_count": 18,
   "id": "184cc84d-cd21-4b4a-af6d-2b7807d7732d",
   "metadata": {},
   "outputs": [
    {
     "name": "stdin",
     "output_type": "stream",
     "text": [
      "enter a number:  24\n"
     ]
    },
    {
     "name": "stdout",
     "output_type": "stream",
     "text": [
      "you entered: 24\n"
     ]
    }
   ],
   "source": [
    "try:\n",
    "    value = int(input(\"enter a number: \"))\n",
    "    print(\"you entered:\",value)\n",
    "except ValueError:\n",
    "    print(\"Oops! that was not a valid number\")"
   ]
  },
  {
   "cell_type": "code",
   "execution_count": null,
   "id": "25b265eb-0069-4780-8b85-c131aaf23ad7",
   "metadata": {},
   "outputs": [],
   "source": []
  }
 ],
 "metadata": {
  "kernelspec": {
   "display_name": "Python [conda env:base] *",
   "language": "python",
   "name": "conda-base-py"
  },
  "language_info": {
   "codemirror_mode": {
    "name": "ipython",
    "version": 3
   },
   "file_extension": ".py",
   "mimetype": "text/x-python",
   "name": "python",
   "nbconvert_exporter": "python",
   "pygments_lexer": "ipython3",
   "version": "3.12.7"
  }
 },
 "nbformat": 4,
 "nbformat_minor": 5
}
