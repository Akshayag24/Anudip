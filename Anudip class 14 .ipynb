{
 "cells": [
  {
   "cell_type": "markdown",
   "id": "6263bd83-2b03-4bca-9c41-382f4a50260e",
   "metadata": {},
   "source": [
    "##OOP"
   ]
  },
  {
   "cell_type": "code",
   "execution_count": 2,
   "id": "86cae18e-e635-4d7f-a280-df9350f7cd6c",
   "metadata": {},
   "outputs": [],
   "source": [
    "#class-a blueprint to bulid a struture\n",
    "#object-ia an instance of a class or a real world entity"
   ]
  },
  {
   "cell_type": "code",
   "execution_count": 4,
   "id": "2cd0164a-6d1e-476e-a683-9e8ca5b6ccdd",
   "metadata": {},
   "outputs": [],
   "source": [
    "a='hello world'"
   ]
  },
  {
   "cell_type": "code",
   "execution_count": 6,
   "id": "e084da42-3d55-4869-a5a9-3f8a94c7637b",
   "metadata": {},
   "outputs": [
    {
     "name": "stdout",
     "output_type": "stream",
     "text": [
      "<class 'str'>\n"
     ]
    }
   ],
   "source": [
    "print(type(a))"
   ]
  },
  {
   "cell_type": "code",
   "execution_count": 8,
   "id": "ee6d9a96-39e7-49ba-b6a6-b7b0e5a7cc5d",
   "metadata": {},
   "outputs": [
    {
     "data": {
      "text/plain": [
       "'Hello world'"
      ]
     },
     "execution_count": 8,
     "metadata": {},
     "output_type": "execute_result"
    }
   ],
   "source": [
    "a.capitalize()"
   ]
  },
  {
   "cell_type": "code",
   "execution_count": 70,
   "id": "1f48bda7-ce3a-4a32-b78f-96c232aabb30",
   "metadata": {},
   "outputs": [],
   "source": [
    "x = y=[1,2,3]"
   ]
  },
  {
   "cell_type": "code",
   "execution_count": 72,
   "id": "0d05fedb-766d-4a94-9c16-f4b4d57375af",
   "metadata": {},
   "outputs": [
    {
     "name": "stdout",
     "output_type": "stream",
     "text": [
      "<class 'list'>\n"
     ]
    }
   ],
   "source": [
    "print(type(x))"
   ]
  },
  {
   "cell_type": "code",
   "execution_count": 78,
   "id": "46dd2639-3955-42cd-b85f-5618adbe22db",
   "metadata": {},
   "outputs": [
    {
     "name": "stdout",
     "output_type": "stream",
     "text": [
      "<class 'list'>\n"
     ]
    }
   ],
   "source": [
    "print(type(y))"
   ]
  },
  {
   "cell_type": "code",
   "execution_count": 80,
   "id": "b3c45719-3cf5-4ef3-9755-429d7651e59f",
   "metadata": {},
   "outputs": [
    {
     "data": {
      "text/plain": [
       "list"
      ]
     },
     "execution_count": 80,
     "metadata": {},
     "output_type": "execute_result"
    }
   ],
   "source": [
    "type(y)"
   ]
  },
  {
   "cell_type": "code",
   "execution_count": 25,
   "id": "dd802c2a-1ead-4f8d-8ccd-fcafb77c15c3",
   "metadata": {},
   "outputs": [],
   "source": [
    "b=[1,2,3,55,7]"
   ]
  },
  {
   "cell_type": "code",
   "execution_count": 27,
   "id": "8a895242-1915-411a-a255-9976e680273e",
   "metadata": {},
   "outputs": [
    {
     "data": {
      "text/plain": [
       "5"
      ]
     },
     "execution_count": 27,
     "metadata": {},
     "output_type": "execute_result"
    }
   ],
   "source": [
    "len(b)"
   ]
  },
  {
   "cell_type": "code",
   "execution_count": 29,
   "id": "dc4a2de8-4b56-4b43-850c-e4309fb05872",
   "metadata": {},
   "outputs": [
    {
     "data": {
      "text/plain": [
       "1"
      ]
     },
     "execution_count": 29,
     "metadata": {},
     "output_type": "execute_result"
    }
   ],
   "source": [
    "min(b)"
   ]
  },
  {
   "cell_type": "code",
   "execution_count": 31,
   "id": "c976026b-3bd0-48b8-9fd7-afdaea8bef35",
   "metadata": {},
   "outputs": [
    {
     "data": {
      "text/plain": [
       "55"
      ]
     },
     "execution_count": 31,
     "metadata": {},
     "output_type": "execute_result"
    }
   ],
   "source": [
    "max(b)"
   ]
  },
  {
   "cell_type": "code",
   "execution_count": 33,
   "id": "5a0a5952-5af3-4701-8d8f-e2c21bb336b1",
   "metadata": {},
   "outputs": [
    {
     "data": {
      "text/plain": [
       "68"
      ]
     },
     "execution_count": 33,
     "metadata": {},
     "output_type": "execute_result"
    }
   ],
   "source": [
    "sum(b)"
   ]
  },
  {
   "cell_type": "code",
   "execution_count": 35,
   "id": "e2322483-8967-49de-be93-678ff96198ed",
   "metadata": {},
   "outputs": [],
   "source": [
    "b.append(6)"
   ]
  },
  {
   "cell_type": "code",
   "execution_count": 37,
   "id": "2c5ae625-b248-46e1-8410-d2962c69abf1",
   "metadata": {},
   "outputs": [
    {
     "data": {
      "text/plain": [
       "[1, 2, 3, 55, 7, 6]"
      ]
     },
     "execution_count": 37,
     "metadata": {},
     "output_type": "execute_result"
    }
   ],
   "source": [
    "b"
   ]
  },
  {
   "cell_type": "code",
   "execution_count": 39,
   "id": "bb81eba4-9bee-4c61-b6b6-7b8690798211",
   "metadata": {},
   "outputs": [],
   "source": [
    "c=[7,8,9]"
   ]
  },
  {
   "cell_type": "code",
   "execution_count": 41,
   "id": "1b6ccbe9-22ce-458d-b89c-2353a45f763d",
   "metadata": {},
   "outputs": [],
   "source": [
    "b.extend(c)\n"
   ]
  },
  {
   "cell_type": "code",
   "execution_count": 43,
   "id": "fb636705-4c84-4d0b-8f61-a67a0155966d",
   "metadata": {},
   "outputs": [
    {
     "data": {
      "text/plain": [
       "[1, 2, 3, 55, 7, 6, 7, 8, 9]"
      ]
     },
     "execution_count": 43,
     "metadata": {},
     "output_type": "execute_result"
    }
   ],
   "source": [
    "b"
   ]
  },
  {
   "cell_type": "code",
   "execution_count": 45,
   "id": "50007b0e-9bc9-4f32-82d2-662728a9c34a",
   "metadata": {},
   "outputs": [],
   "source": [
    "class mobile_phone1:\n",
    "    def __init__(self,a_col,b_size,c_numc):\n",
    "        self.color=a_col\n",
    "        self.size=b_size\n",
    "        self.camera=c_numc\n",
    "\n",
    "    def calling(self,call_rates):\n",
    "        print(f\"i am calling using {self.color} cell phone and the cell rates per second is {call_rates} \")"
   ]
  },
  {
   "cell_type": "code",
   "execution_count": 49,
   "id": "93ac80b2-9156-40f3-a4a1-65a9bad6f968",
   "metadata": {},
   "outputs": [],
   "source": [
    "samsung=mobile_phone1('black',10,2)\n"
   ]
  },
  {
   "cell_type": "code",
   "execution_count": 51,
   "id": "d04e88da-6abc-4ab5-b3e8-0ee77b3b8d45",
   "metadata": {},
   "outputs": [
    {
     "data": {
      "text/plain": [
       "'black'"
      ]
     },
     "execution_count": 51,
     "metadata": {},
     "output_type": "execute_result"
    }
   ],
   "source": [
    "samsung.color"
   ]
  },
  {
   "cell_type": "code",
   "execution_count": 53,
   "id": "fc1897e8-572c-4512-807c-b9e2d2e3f647",
   "metadata": {},
   "outputs": [
    {
     "data": {
      "text/plain": [
       "10"
      ]
     },
     "execution_count": 53,
     "metadata": {},
     "output_type": "execute_result"
    }
   ],
   "source": [
    "samsung.size"
   ]
  },
  {
   "cell_type": "code",
   "execution_count": 55,
   "id": "a5656d45-34dc-4710-8315-15da40954faf",
   "metadata": {},
   "outputs": [
    {
     "data": {
      "text/plain": [
       "2"
      ]
     },
     "execution_count": 55,
     "metadata": {},
     "output_type": "execute_result"
    }
   ],
   "source": [
    "samsung.camera"
   ]
  },
  {
   "cell_type": "code",
   "execution_count": 57,
   "id": "4f66fcef-79e0-40ca-9a51-b1ae687254d0",
   "metadata": {},
   "outputs": [
    {
     "ename": "AttributeError",
     "evalue": "'mobile_phone1' object has no attribute 'call_rates'",
     "output_type": "error",
     "traceback": [
      "\u001b[1;31m---------------------------------------------------------------------------\u001b[0m",
      "\u001b[1;31mAttributeError\u001b[0m                            Traceback (most recent call last)",
      "Cell \u001b[1;32mIn[57], line 1\u001b[0m\n\u001b[1;32m----> 1\u001b[0m samsung\u001b[38;5;241m.\u001b[39mcall_rates(\u001b[38;5;241m0.5\u001b[39m)\n",
      "\u001b[1;31mAttributeError\u001b[0m: 'mobile_phone1' object has no attribute 'call_rates'"
     ]
    }
   ],
   "source": [
    "samsung.call_rates(0.5)"
   ]
  },
  {
   "cell_type": "code",
   "execution_count": 59,
   "id": "eea808f2-aa50-49fd-8deb-2246256202d7",
   "metadata": {},
   "outputs": [],
   "source": [
    "class person:\n",
    "    def __init__(self,a,b):\n",
    "        self.name=a\n",
    "        self.age=b\n",
    "\n",
    "    def introduce(self,a):\n",
    "        print(f\"My name is {self.name} and I am {self.age} years old\")"
   ]
  },
  {
   "cell_type": "code",
   "execution_count": 62,
   "id": "75db5113-2bce-43f3-aeb0-e6af57553604",
   "metadata": {},
   "outputs": [],
   "source": [
    "person1=person('Alice',25)\n"
   ]
  },
  {
   "cell_type": "code",
   "execution_count": 64,
   "id": "f7983975-bdc4-41ba-9455-565db4a7f3b6",
   "metadata": {},
   "outputs": [
    {
     "name": "stdout",
     "output_type": "stream",
     "text": [
      "My name is Alice and I am 25 years old\n"
     ]
    }
   ],
   "source": [
    "person1.introduce(a)"
   ]
  },
  {
   "cell_type": "code",
   "execution_count": 66,
   "id": "42a34540-0d32-4557-ba7e-0bc7dd678384",
   "metadata": {},
   "outputs": [],
   "source": [
    "person2=person('Char',18)"
   ]
  },
  {
   "cell_type": "code",
   "execution_count": 68,
   "id": "5d956268-45b7-48d5-b651-e128a1b17305",
   "metadata": {},
   "outputs": [
    {
     "name": "stdout",
     "output_type": "stream",
     "text": [
      "My name is Char and I am 18 years old\n"
     ]
    }
   ],
   "source": [
    "person2.introduce(b)"
   ]
  },
  {
   "cell_type": "code",
   "execution_count": null,
   "id": "bae2ac35-c177-4db7-8609-e498d7a7f538",
   "metadata": {},
   "outputs": [],
   "source": []
  }
 ],
 "metadata": {
  "kernelspec": {
   "display_name": "Python [conda env:base] *",
   "language": "python",
   "name": "conda-base-py"
  },
  "language_info": {
   "codemirror_mode": {
    "name": "ipython",
    "version": 3
   },
   "file_extension": ".py",
   "mimetype": "text/x-python",
   "name": "python",
   "nbconvert_exporter": "python",
   "pygments_lexer": "ipython3",
   "version": "3.12.7"
  }
 },
 "nbformat": 4,
 "nbformat_minor": 5
}
