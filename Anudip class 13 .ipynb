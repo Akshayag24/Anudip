{
 "cells": [
  {
   "cell_type": "code",
   "execution_count": 1,
   "id": "ad5eabad-7f3f-4615-aaa4-86efe68ef440",
   "metadata": {},
   "outputs": [
    {
     "name": "stdin",
     "output_type": "stream",
     "text": [
      "Please enter your name: Akshaya\n"
     ]
    },
    {
     "name": "stdout",
     "output_type": "stream",
     "text": [
      "Hello , Akshaya! Nice to meet you\n"
     ]
    }
   ],
   "source": [
    "def greet_user():\n",
    "    name=input(\"Please enter your name:\")\n",
    "    print(f\"Hello , {name}! Nice to meet you\")\n",
    "greet_user()    "
   ]
  },
  {
   "cell_type": "code",
   "execution_count": 3,
   "id": "f9d3cb76-f1fa-499c-8004-fa43d1ef7a24",
   "metadata": {},
   "outputs": [],
   "source": [
    "def fun(name,age,gender):\n",
    "    print(f\"hello my name is {name},my age is {age},my gender is {gender}\")"
   ]
  },
  {
   "cell_type": "code",
   "execution_count": 5,
   "id": "5a7573a3-24dc-4036-b02e-9e99baf88cb2",
   "metadata": {},
   "outputs": [
    {
     "name": "stdout",
     "output_type": "stream",
     "text": [
      "hello my name is raju,my age is 23,my gender is male\n"
     ]
    }
   ],
   "source": [
    "fun(age=23,name='raju',gender='male')"
   ]
  },
  {
   "cell_type": "code",
   "execution_count": 36,
   "id": "b7d9d0ce-3062-43fa-be13-05c69f8c0f09",
   "metadata": {},
   "outputs": [],
   "source": [
    "#arbitrary positional arguments"
   ]
  },
  {
   "cell_type": "code",
   "execution_count": 20,
   "id": "910c981b-fdcf-48b5-8050-f9805d866556",
   "metadata": {},
   "outputs": [
    {
     "name": "stdout",
     "output_type": "stream",
     "text": [
      "addition: 12\n"
     ]
    }
   ],
   "source": [
    "def add(*num):\n",
    "    v = num[0]+num[1]+num[2]\n",
    "    print (\"addition:\", v)\n",
    "add(5,7,0)    "
   ]
  },
  {
   "cell_type": "code",
   "execution_count": 22,
   "id": "d00fb2c7-599c-493b-8c85-509b840d9903",
   "metadata": {},
   "outputs": [],
   "source": [
    "def add_numbers(*a):\n",
    "    sum_value=sum(a)\n",
    "    print(sum_value)"
   ]
  },
  {
   "cell_type": "code",
   "execution_count": 24,
   "id": "3746649c-c207-41ce-8c2e-b53bef424692",
   "metadata": {},
   "outputs": [
    {
     "name": "stdout",
     "output_type": "stream",
     "text": [
      "20\n"
     ]
    }
   ],
   "source": [
    "add_numbers(7,4,9)"
   ]
  },
  {
   "cell_type": "code",
   "execution_count": 26,
   "id": "64196320-d35d-44e3-8aa8-a5c276ad5863",
   "metadata": {},
   "outputs": [
    {
     "name": "stdout",
     "output_type": "stream",
     "text": [
      "98\n"
     ]
    }
   ],
   "source": [
    "def find_max(*args):\n",
    "    return max(args)\n",
    "print(find_max(6,98,4,2,0,7))    "
   ]
  },
  {
   "cell_type": "code",
   "execution_count": 28,
   "id": "9d254959-e3de-4fb9-bcee-6ca41f746b7f",
   "metadata": {},
   "outputs": [
    {
     "data": {
      "text/plain": [
       "'Hello World !'"
      ]
     },
     "execution_count": 28,
     "metadata": {},
     "output_type": "execute_result"
    }
   ],
   "source": [
    "def concatenate_strings(*args):\n",
    "    return \" \".join(args)\n",
    "concatenate_strings(\"Hello\", \"World\", \"!\")    \n",
    "    "
   ]
  },
  {
   "cell_type": "code",
   "execution_count": 30,
   "id": "a01acdca-3cdb-4191-85b3-f0e7f3f08f9c",
   "metadata": {},
   "outputs": [],
   "source": [
    "def func(**a):\n",
    "    print(type(a))\n",
    "    for i,j in a.items():\n",
    "        print(f\"this is a key {i} this is a value {j}\")"
   ]
  },
  {
   "cell_type": "code",
   "execution_count": 32,
   "id": "34fe6796-ea8c-4bac-b071-19d310c31741",
   "metadata": {},
   "outputs": [
    {
     "name": "stdout",
     "output_type": "stream",
     "text": [
      "<class 'dict'>\n",
      "this is a key name this is a value kenn\n",
      "this is a key age this is a value 56\n"
     ]
    }
   ],
   "source": [
    "func(name='kenn',age=56)"
   ]
  },
  {
   "cell_type": "code",
   "execution_count": null,
   "id": "fe501767-5b64-467f-9aea-f8c03602059c",
   "metadata": {},
   "outputs": [],
   "source": [
    "#local variable"
   ]
  },
  {
   "cell_type": "code",
   "execution_count": null,
   "id": "f5d1da5e-dfb8-40e0-88b6-87db6c9b6f86",
   "metadata": {},
   "outputs": [],
   "source": [
    "#variables that are declared inside a function and can only accessed within that function\n"
   ]
  },
  {
   "cell_type": "code",
   "execution_count": 67,
   "id": "573a4fed-7206-4c04-941d-df45c53c1fcc",
   "metadata": {},
   "outputs": [],
   "source": [
    "#global variable"
   ]
  },
  {
   "cell_type": "code",
   "execution_count": 69,
   "id": "77ba1877-75e0-411c-bb1a-5430ecf817f8",
   "metadata": {},
   "outputs": [],
   "source": [
    "#variables that are declared outside the function and can be accessed both inside and outside any function"
   ]
  },
  {
   "cell_type": "code",
   "execution_count": 71,
   "id": "b445f8d2-bc68-492a-8319-f211975d5a2d",
   "metadata": {},
   "outputs": [],
   "source": [
    "#nested function"
   ]
  },
  {
   "cell_type": "code",
   "execution_count": 73,
   "id": "4d7976a7-e0d3-479d-a47a-9cfa554f4002",
   "metadata": {},
   "outputs": [
    {
     "name": "stdout",
     "output_type": "stream",
     "text": [
      "first\n",
      "hello\n"
     ]
    }
   ],
   "source": [
    "def outer_func():\n",
    "    print('first')\n",
    "    def inner_func():\n",
    "        print('hello')\n",
    "    inner_func()\n",
    "outer_func()"
   ]
  },
  {
   "cell_type": "code",
   "execution_count": 75,
   "id": "e63a00ce-14d8-4e7c-8230-c401312dfce7",
   "metadata": {},
   "outputs": [
    {
     "name": "stdout",
     "output_type": "stream",
     "text": [
      "hello,world!\n"
     ]
    }
   ],
   "source": [
    "def my_func():\n",
    "    print('hello,world!')\n",
    "my_func()    "
   ]
  },
  {
   "cell_type": "code",
   "execution_count": 79,
   "id": "5ef2d61b-ee24-41e1-a20d-54c529492a2a",
   "metadata": {},
   "outputs": [],
   "source": [
    "del my_func"
   ]
  },
  {
   "cell_type": "code",
   "execution_count": 81,
   "id": "8bc035a2-d1dc-4172-93e9-717bdeb4620f",
   "metadata": {},
   "outputs": [
    {
     "ename": "NameError",
     "evalue": "name 'my_func' is not defined",
     "output_type": "error",
     "traceback": [
      "\u001b[1;31m---------------------------------------------------------------------------\u001b[0m",
      "\u001b[1;31mNameError\u001b[0m                                 Traceback (most recent call last)",
      "Cell \u001b[1;32mIn[81], line 1\u001b[0m\n\u001b[1;32m----> 1\u001b[0m my_func()\n",
      "\u001b[1;31mNameError\u001b[0m: name 'my_func' is not defined"
     ]
    }
   ],
   "source": [
    "my_func()"
   ]
  },
  {
   "cell_type": "code",
   "execution_count": 83,
   "id": "26ac4be6-aa0a-4a17-af6b-34afdc4d93d1",
   "metadata": {},
   "outputs": [],
   "source": [
    "#lambda function in python is a small,anonymous function defined in the beginning"
   ]
  },
  {
   "cell_type": "code",
   "execution_count": 85,
   "id": "f59328a9-50e1-4d4d-a45b-aeb59592f26a",
   "metadata": {},
   "outputs": [],
   "source": [
    "ba=lambda a,b,c:a+b+c"
   ]
  },
  {
   "cell_type": "code",
   "execution_count": 87,
   "id": "d09d105b-698e-47df-9a77-c81a04e450ac",
   "metadata": {},
   "outputs": [
    {
     "data": {
      "text/plain": [
       "112"
      ]
     },
     "execution_count": 87,
     "metadata": {},
     "output_type": "execute_result"
    }
   ],
   "source": [
    "ba(45,65,2)"
   ]
  },
  {
   "cell_type": "code",
   "execution_count": 89,
   "id": "4eb64a7e-1172-4f23-91e4-464bd31c1cbd",
   "metadata": {},
   "outputs": [],
   "source": [
    "ab=lambda a,b:a*b"
   ]
  },
  {
   "cell_type": "code",
   "execution_count": 91,
   "id": "1a9a5c66-07f3-4dfd-8d99-3497cc0028cd",
   "metadata": {},
   "outputs": [
    {
     "data": {
      "text/plain": [
       "42"
      ]
     },
     "execution_count": 91,
     "metadata": {},
     "output_type": "execute_result"
    }
   ],
   "source": [
    "ab(6,7)"
   ]
  }
 ],
 "metadata": {
  "kernelspec": {
   "display_name": "Python [conda env:base] *",
   "language": "python",
   "name": "conda-base-py"
  },
  "language_info": {
   "codemirror_mode": {
    "name": "ipython",
    "version": 3
   },
   "file_extension": ".py",
   "mimetype": "text/x-python",
   "name": "python",
   "nbconvert_exporter": "python",
   "pygments_lexer": "ipython3",
   "version": "3.12.7"
  }
 },
 "nbformat": 4,
 "nbformat_minor": 5
}
