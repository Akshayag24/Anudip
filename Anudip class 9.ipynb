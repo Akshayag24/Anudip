{
 "cells": [
  {
   "cell_type": "code",
   "execution_count": null,
   "id": "45221332-7eb0-4fd1-8647-fee76a90f776",
   "metadata": {},
   "outputs": [],
   "source": [
    "#tuples in python"
   ]
  },
  {
   "cell_type": "code",
   "execution_count": 2,
   "id": "14122f70-e358-49c3-9d3e-921743372a6e",
   "metadata": {},
   "outputs": [],
   "source": [
    "#ordered\n",
    "t=(\"hello\",1,2,34,67,(12,32))"
   ]
  },
  {
   "cell_type": "code",
   "execution_count": 6,
   "id": "834d792b-cd59-4391-8842-3ebf17d4dd9d",
   "metadata": {},
   "outputs": [
    {
     "data": {
      "text/plain": [
       "('hello', 1)"
      ]
     },
     "execution_count": 6,
     "metadata": {},
     "output_type": "execute_result"
    }
   ],
   "source": [
    "t[0:2]"
   ]
  },
  {
   "cell_type": "code",
   "execution_count": null,
   "id": "1dd478a1-4d65-4089-9613-5c76122a189c",
   "metadata": {},
   "outputs": [],
   "source": [
    "#immutable: tuples cannot be modified "
   ]
  },
  {
   "cell_type": "code",
   "execution_count": 8,
   "id": "8bfdef61-2bb5-4644-895c-b55f210030f0",
   "metadata": {},
   "outputs": [],
   "source": [
    "my_tuple=(1,2,3)"
   ]
  },
  {
   "cell_type": "code",
   "execution_count": 63,
   "id": "5a5583d8-57da-4839-8f05-d6f17885ad89",
   "metadata": {},
   "outputs": [
    {
     "ename": "TypeError",
     "evalue": "'tuple' object does not support item assignment",
     "output_type": "error",
     "traceback": [
      "\u001b[1;31m---------------------------------------------------------------------------\u001b[0m",
      "\u001b[1;31mTypeError\u001b[0m                                 Traceback (most recent call last)",
      "Cell \u001b[1;32mIn[63], line 1\u001b[0m\n\u001b[1;32m----> 1\u001b[0m my_tuple[\u001b[38;5;241m0\u001b[39m]\u001b[38;5;241m=\u001b[39m\u001b[38;5;241m2225\u001b[39m\n",
      "\u001b[1;31mTypeError\u001b[0m: 'tuple' object does not support item assignment"
     ]
    }
   ],
   "source": [
    "my_tuple[0]=2225"
   ]
  },
  {
   "cell_type": "code",
   "execution_count": null,
   "id": "3759161a-0f0e-4435-9700-4f17ced65a9d",
   "metadata": {},
   "outputs": [],
   "source": [
    "#heterogenous:a tuple contain elements of different data types"
   ]
  },
  {
   "cell_type": "code",
   "execution_count": 12,
   "id": "34c9b1de-251e-4ab8-9503-c5f68cfdfcb3",
   "metadata": {},
   "outputs": [
    {
     "name": "stdout",
     "output_type": "stream",
     "text": [
      "(1, 'hello', 3.14)\n"
     ]
    }
   ],
   "source": [
    "my_tuple=(1,\"hello\",3.14)\n",
    "print(my_tuple)"
   ]
  },
  {
   "cell_type": "code",
   "execution_count": null,
   "id": "8f2f4e29-dd71-4d48-a205-0c86084f7d4e",
   "metadata": {},
   "outputs": [],
   "source": [
    "#indexing and slicing: tuples support indexing and slicing operations to access their elements"
   ]
  },
  {
   "cell_type": "code",
   "execution_count": 22,
   "id": "0d5c6749-b2de-42c5-a01b-b0318a751fa6",
   "metadata": {},
   "outputs": [
    {
     "name": "stdout",
     "output_type": "stream",
     "text": [
      "(20, 30)\n"
     ]
    }
   ],
   "source": [
    "my_tuple=(10,20,30,40,50)\n",
    "print(my_tuple[1:3])"
   ]
  },
  {
   "cell_type": "code",
   "execution_count": 24,
   "id": "5bac9129-8a33-4fdd-9cc9-967f1f6cf705",
   "metadata": {},
   "outputs": [
    {
     "data": {
      "text/plain": [
       "30"
      ]
     },
     "execution_count": 24,
     "metadata": {},
     "output_type": "execute_result"
    }
   ],
   "source": [
    "my_tuple[2]"
   ]
  },
  {
   "cell_type": "code",
   "execution_count": null,
   "id": "f258270b-246f-41b0-83df-fad19eb100a8",
   "metadata": {},
   "outputs": [],
   "source": [
    "#packing and unpacking:u can pack  multiple values into a tuple and unpack them into individual variable "
   ]
  },
  {
   "cell_type": "code",
   "execution_count": 26,
   "id": "d85e56f1-fe78-4cce-8071-7e5a3878bf2a",
   "metadata": {},
   "outputs": [],
   "source": [
    "#packing\n",
    "my_t=1,2,3,4"
   ]
  },
  {
   "cell_type": "code",
   "execution_count": 28,
   "id": "aef8b214-6dfc-44c9-b4ab-b784e9d5df2c",
   "metadata": {},
   "outputs": [
    {
     "data": {
      "text/plain": [
       "tuple"
      ]
     },
     "execution_count": 28,
     "metadata": {},
     "output_type": "execute_result"
    }
   ],
   "source": [
    "type(my_t)"
   ]
  },
  {
   "cell_type": "code",
   "execution_count": 32,
   "id": "1d8dc2a4-9c98-45dc-80b7-99f40b69b50e",
   "metadata": {},
   "outputs": [
    {
     "name": "stdout",
     "output_type": "stream",
     "text": [
      "('achu', 23, 'Doctor')\n"
     ]
    }
   ],
   "source": [
    "#simple tuple creation\n",
    "\n",
    "person=(\"achu\",23,\"Doctor\")\n",
    "print(person)"
   ]
  },
  {
   "cell_type": "code",
   "execution_count": 34,
   "id": "58c55cfb-5650-4b60-b609-3efc793cf54a",
   "metadata": {},
   "outputs": [
    {
     "name": "stdout",
     "output_type": "stream",
     "text": [
      "10 20 30\n"
     ]
    }
   ],
   "source": [
    "#accessing tuple elements\n",
    "\n",
    "coordinates =(10,20,30)\n",
    "x=coordinates[0]\n",
    "y=coordinates[1]\n",
    "z=coordinates[2]\n",
    "print(x,y,z)"
   ]
  },
  {
   "cell_type": "code",
   "execution_count": 57,
   "id": "86e2531e-d33e-4a7e-af7d-1e07014d7448",
   "metadata": {},
   "outputs": [],
   "source": [
    "#nested tuples\n",
    "nested_tuple=(1,(2,3),(4,(5,6)))"
   ]
  },
  {
   "cell_type": "code",
   "execution_count": 61,
   "id": "267885e1-61ff-4326-8d20-d16171671e94",
   "metadata": {},
   "outputs": [
    {
     "data": {
      "text/plain": [
       "2"
      ]
     },
     "execution_count": 61,
     "metadata": {},
     "output_type": "execute_result"
    }
   ],
   "source": [
    "nested_tuple[1][0]"
   ]
  },
  {
   "cell_type": "code",
   "execution_count": null,
   "id": "e6917b7c-a074-4fe5-91a7-04250e61741b",
   "metadata": {},
   "outputs": [],
   "source": [
    "#slicing a tuple"
   ]
  },
  {
   "cell_type": "code",
   "execution_count": null,
   "id": "1496c623-fa32-4d6a-b4a1-cdfe439401a6",
   "metadata": {},
   "outputs": [],
   "source": [
    "#creating"
   ]
  },
  {
   "cell_type": "code",
   "execution_count": 87,
   "id": "430f6d0f-86ce-4269-addd-bca9eb4d8b3b",
   "metadata": {},
   "outputs": [],
   "source": [
    "my_tuple=(\"anu\",\"achu\",\"archana\",\"abi\",\"arnav\")"
   ]
  },
  {
   "cell_type": "code",
   "execution_count": 73,
   "id": "eb176d01-f56f-46fb-a063-e7748594f4c3",
   "metadata": {},
   "outputs": [],
   "source": [
    "slice_1=my_tuple[1:3]\n",
    "slice_2=my_tuple[:4]\n",
    "slice_3=my_tuple[2:]"
   ]
  },
  {
   "cell_type": "code",
   "execution_count": 69,
   "id": "919c44da-4168-43d8-a6c2-f0cf2c6b3f8e",
   "metadata": {},
   "outputs": [
    {
     "name": "stdout",
     "output_type": "stream",
     "text": [
      "('achu', 'archana')\n",
      "('anu', 'achu', 'archana', 'abi')\n",
      "('archana', 'abi', 'arnav')\n"
     ]
    }
   ],
   "source": [
    "print(slice_1)\n",
    "print(slice_2)\n",
    "print(slice_3)"
   ]
  },
  {
   "cell_type": "code",
   "execution_count": 89,
   "id": "39b243a3-2a16-47ac-9b27-afab881bcd5e",
   "metadata": {},
   "outputs": [
    {
     "data": {
      "text/plain": [
       "'abi'"
      ]
     },
     "execution_count": 89,
     "metadata": {},
     "output_type": "execute_result"
    }
   ],
   "source": [
    "my_tuple[3]"
   ]
  },
  {
   "cell_type": "code",
   "execution_count": 75,
   "id": "f5b6ddf8-39a7-40a9-88c7-818dbe177ddc",
   "metadata": {},
   "outputs": [],
   "source": [
    "fruits=(\"apple\",\"banana\",\"cherry\",\"date\")"
   ]
  },
  {
   "cell_type": "code",
   "execution_count": 81,
   "id": "49becbda-061d-47c6-baf2-a0c1041f19f7",
   "metadata": {},
   "outputs": [],
   "source": [
    "slice_1=fruits[2:3]"
   ]
  },
  {
   "cell_type": "code",
   "execution_count": 83,
   "id": "d452dbde-5110-49b2-8b57-5a5bb8a32078",
   "metadata": {},
   "outputs": [
    {
     "name": "stdout",
     "output_type": "stream",
     "text": [
      "('cherry',)\n"
     ]
    }
   ],
   "source": [
    "print(slice_1)"
   ]
  },
  {
   "cell_type": "code",
   "execution_count": 85,
   "id": "9b379152-f150-4ada-bd2b-9e1dc20605cb",
   "metadata": {},
   "outputs": [
    {
     "data": {
      "text/plain": [
       "'cherry'"
      ]
     },
     "execution_count": 85,
     "metadata": {},
     "output_type": "execute_result"
    }
   ],
   "source": [
    "fruits[2]"
   ]
  },
  {
   "cell_type": "code",
   "execution_count": 91,
   "id": "21afea7f-ee7e-430f-acbe-c9277bb0c89a",
   "metadata": {},
   "outputs": [],
   "source": [
    "numbers=(10,20,30,40,50)"
   ]
  },
  {
   "cell_type": "code",
   "execution_count": 93,
   "id": "542f9607-0bfa-4a11-8bc5-2aa21f6dc582",
   "metadata": {},
   "outputs": [],
   "source": [
    "first_three=numbers[:3]"
   ]
  },
  {
   "cell_type": "code",
   "execution_count": 95,
   "id": "91f5e088-1a0f-4575-ba1d-87f2dd3c6a5e",
   "metadata": {},
   "outputs": [
    {
     "name": "stdout",
     "output_type": "stream",
     "text": [
      "(10, 20, 30)\n"
     ]
    }
   ],
   "source": [
    "print(first_three)"
   ]
  },
  {
   "cell_type": "code",
   "execution_count": 97,
   "id": "2fb31747-7209-4d8d-84c0-6282572aa2ba",
   "metadata": {},
   "outputs": [],
   "source": [
    "colors=(\"blue\",\"pink\",\"violet\",\"lavender\")"
   ]
  },
  {
   "cell_type": "code",
   "execution_count": 131,
   "id": "cefa8141-0271-48ad-be62-f58260d57c05",
   "metadata": {},
   "outputs": [],
   "source": [
    "slice_1=colors[-1]"
   ]
  },
  {
   "cell_type": "code",
   "execution_count": 133,
   "id": "62aba4ea-290a-4917-aa2f-aea408d80f3c",
   "metadata": {},
   "outputs": [
    {
     "name": "stdout",
     "output_type": "stream",
     "text": [
      "lavender\n"
     ]
    }
   ],
   "source": [
    "print(slice_1)"
   ]
  },
  {
   "cell_type": "code",
   "execution_count": 135,
   "id": "d0b30b56-d7d8-4beb-9d07-731eb0b1743b",
   "metadata": {},
   "outputs": [],
   "source": [
    "nested_tuple=(1,(2,3),(4,(5,6),7),8)"
   ]
  },
  {
   "cell_type": "code",
   "execution_count": 166,
   "id": "3cce08bc-f6e2-447c-9755-685c55623dfa",
   "metadata": {},
   "outputs": [
    {
     "data": {
      "text/plain": [
       "5"
      ]
     },
     "execution_count": 166,
     "metadata": {},
     "output_type": "execute_result"
    }
   ],
   "source": [
    "nested_tuple[2][1][0]"
   ]
  },
  {
   "cell_type": "code",
   "execution_count": 172,
   "id": "8a85c27a-8687-442c-83e7-7be16d318ce0",
   "metadata": {},
   "outputs": [],
   "source": [
    "#original tuple\n"
   ]
  },
  {
   "cell_type": "code",
   "execution_count": 196,
   "id": "9da058ca-17dc-4de9-bbe9-720dd68f4912",
   "metadata": {},
   "outputs": [],
   "source": [
    "fruits=(\"pineapple\",\"kiwi\",\"jackfruit\")"
   ]
  },
  {
   "cell_type": "code",
   "execution_count": 198,
   "id": "ae5bcb45-aa37-472b-b60a-c33f889dc972",
   "metadata": {},
   "outputs": [
    {
     "data": {
      "text/plain": [
       "tuple"
      ]
     },
     "execution_count": 198,
     "metadata": {},
     "output_type": "execute_result"
    }
   ],
   "source": [
    "type(fruits)"
   ]
  },
  {
   "cell_type": "code",
   "execution_count": 200,
   "id": "9e4cd788-4d4d-4aaa-9265-211f2e32ff1c",
   "metadata": {},
   "outputs": [],
   "source": [
    "a=list(fruits)"
   ]
  },
  {
   "cell_type": "code",
   "execution_count": 202,
   "id": "6edffbce-bb39-4bc0-b366-06d08ef6bf5a",
   "metadata": {},
   "outputs": [
    {
     "data": {
      "text/plain": [
       "list"
      ]
     },
     "execution_count": 202,
     "metadata": {},
     "output_type": "execute_result"
    }
   ],
   "source": [
    "type(a)"
   ]
  },
  {
   "cell_type": "code",
   "execution_count": 204,
   "id": "eaa68f82-f70f-4b86-96bf-bfaec00165a2",
   "metadata": {},
   "outputs": [],
   "source": [
    "a.append(\"Mango\")"
   ]
  },
  {
   "cell_type": "code",
   "execution_count": 206,
   "id": "fb2e6732-eeb3-433d-ad28-5a7709d0eb76",
   "metadata": {},
   "outputs": [
    {
     "data": {
      "text/plain": [
       "['pineapple', 'kiwi', 'jackfruit', 'Mango']"
      ]
     },
     "execution_count": 206,
     "metadata": {},
     "output_type": "execute_result"
    }
   ],
   "source": [
    "a"
   ]
  },
  {
   "cell_type": "code",
   "execution_count": 208,
   "id": "c40e4fff-e0e7-4cfa-97be-b9323f33b103",
   "metadata": {},
   "outputs": [],
   "source": [
    "b=tuple(a)"
   ]
  },
  {
   "cell_type": "code",
   "execution_count": 210,
   "id": "d4c3ba11-1e58-4275-a8cc-0c93cff7da8a",
   "metadata": {},
   "outputs": [
    {
     "data": {
      "text/plain": [
       "('pineapple', 'kiwi', 'jackfruit', 'Mango')"
      ]
     },
     "execution_count": 210,
     "metadata": {},
     "output_type": "execute_result"
    }
   ],
   "source": [
    "b"
   ]
  },
  {
   "cell_type": "code",
   "execution_count": 212,
   "id": "3eba070c-75fc-4dc0-9200-ec319598b452",
   "metadata": {},
   "outputs": [],
   "source": [
    "#og tuple\n",
    "fruits=(\"pineapple\",\"kiwi\",\"jackfruit\")"
   ]
  },
  {
   "cell_type": "code",
   "execution_count": 218,
   "id": "72088aee-2c7f-4031-bc47-baf995775d77",
   "metadata": {},
   "outputs": [
    {
     "name": "stdout",
     "output_type": "stream",
     "text": [
      "('pineapple', 'blueberry', 'jackfruit')\n"
     ]
    }
   ],
   "source": [
    "fruits_new=fruits[:1]+(\"blueberry\",)+fruits[2:]\n",
    "print(fruits_new)"
   ]
  },
  {
   "cell_type": "code",
   "execution_count": 228,
   "id": "1cbfd444-8c00-4eed-8506-9700eb8c1ca6",
   "metadata": {},
   "outputs": [],
   "source": [
    "#add a new element by creating a new tuple\n"
   ]
  },
  {
   "cell_type": "code",
   "execution_count": 232,
   "id": "e083a67e-12ab-4524-801d-6ab21656cf18",
   "metadata": {},
   "outputs": [
    {
     "name": "stdout",
     "output_type": "stream",
     "text": [
      "('pineapple', 'kiwi', 'jackfruit')\n"
     ]
    }
   ],
   "source": [
    "fruits1=fruits+ (\"kiwi\",)\n",
    "print(fruits)"
   ]
  },
  {
   "cell_type": "code",
   "execution_count": 234,
   "id": "2b41db61-1b29-4bcf-b823-38aabb8387e4",
   "metadata": {},
   "outputs": [
    {
     "data": {
      "text/plain": [
       "('pineapple', 'kiwi', 'jackfruit')"
      ]
     },
     "execution_count": 234,
     "metadata": {},
     "output_type": "execute_result"
    }
   ],
   "source": [
    "fruits"
   ]
  },
  {
   "cell_type": "markdown",
   "id": "5c310f88-aeb5-485b-9434-96979da04db2",
   "metadata": {},
   "source": []
  },
  {
   "cell_type": "code",
   "execution_count": null,
   "id": "78f990bc-6a5d-40c3-bc60-3a5f0fb2a7c0",
   "metadata": {},
   "outputs": [],
   "source": [
    "#index()"
   ]
  },
  {
   "cell_type": "code",
   "execution_count": 236,
   "id": "43ca1e04-a8e2-483c-90c7-fec0ab733507",
   "metadata": {},
   "outputs": [],
   "source": [
    "my_t=('a','b','c','d','b')"
   ]
  },
  {
   "cell_type": "code",
   "execution_count": 238,
   "id": "199a3873-bf9e-417b-8b6d-a0253f8ae0e6",
   "metadata": {},
   "outputs": [
    {
     "data": {
      "text/plain": [
       "2"
      ]
     },
     "execution_count": 238,
     "metadata": {},
     "output_type": "execute_result"
    }
   ],
   "source": [
    "my_t.index(\"c\")"
   ]
  },
  {
   "cell_type": "code",
   "execution_count": 240,
   "id": "0c764cda-37a0-40da-a56d-d59614958bae",
   "metadata": {},
   "outputs": [],
   "source": [
    "#len"
   ]
  },
  {
   "cell_type": "code",
   "execution_count": 242,
   "id": "e7baf301-7ad7-43cd-a183-23d1ff437acb",
   "metadata": {},
   "outputs": [
    {
     "data": {
      "text/plain": [
       "5"
      ]
     },
     "execution_count": 242,
     "metadata": {},
     "output_type": "execute_result"
    }
   ],
   "source": [
    "len(my_t)"
   ]
  },
  {
   "cell_type": "code",
   "execution_count": null,
   "id": "77801a69-9a5b-425f-a493-dcb16be195f0",
   "metadata": {},
   "outputs": [],
   "source": [
    "#max()"
   ]
  },
  {
   "cell_type": "code",
   "execution_count": 248,
   "id": "df747bb3-6cb4-45d7-8755-0c9a8c1d414a",
   "metadata": {},
   "outputs": [],
   "source": [
    "t=(1,2,3,4,54,46,5)"
   ]
  },
  {
   "cell_type": "code",
   "execution_count": 250,
   "id": "a45e082c-9c69-48a8-bb1b-8c0691cb8072",
   "metadata": {},
   "outputs": [
    {
     "data": {
      "text/plain": [
       "54"
      ]
     },
     "execution_count": 250,
     "metadata": {},
     "output_type": "execute_result"
    }
   ],
   "source": [
    "max(t)"
   ]
  },
  {
   "cell_type": "code",
   "execution_count": 252,
   "id": "f8349ec8-b7f4-4b1d-990f-c87ca9f8976c",
   "metadata": {},
   "outputs": [
    {
     "data": {
      "text/plain": [
       "'d'"
      ]
     },
     "execution_count": 252,
     "metadata": {},
     "output_type": "execute_result"
    }
   ],
   "source": [
    "max(my_t)"
   ]
  },
  {
   "cell_type": "code",
   "execution_count": null,
   "id": "7f930bff-eb15-4fa8-9dfb-9968bbd14b79",
   "metadata": {},
   "outputs": [],
   "source": [
    "#soreted()"
   ]
  },
  {
   "cell_type": "code",
   "execution_count": 254,
   "id": "08044bd2-7577-4554-9405-19a682bb065c",
   "metadata": {},
   "outputs": [
    {
     "data": {
      "text/plain": [
       "(1, 2, 3, 4, 54, 46, 5)"
      ]
     },
     "execution_count": 254,
     "metadata": {},
     "output_type": "execute_result"
    }
   ],
   "source": [
    "t"
   ]
  },
  {
   "cell_type": "code",
   "execution_count": 256,
   "id": "be75b215-92ed-4c21-a299-522c9a05063d",
   "metadata": {},
   "outputs": [
    {
     "data": {
      "text/plain": [
       "[1, 2, 3, 4, 5, 46, 54]"
      ]
     },
     "execution_count": 256,
     "metadata": {},
     "output_type": "execute_result"
    }
   ],
   "source": [
    "sorted(t)"
   ]
  },
  {
   "cell_type": "code",
   "execution_count": 258,
   "id": "c6efe17a-7611-47ef-bc90-97cf0de42763",
   "metadata": {},
   "outputs": [],
   "source": [
    "scores = (88, 76, 92, 85, 79)"
   ]
  },
  {
   "cell_type": "code",
   "execution_count": 262,
   "id": "7e4a57db-7f35-4fef-8bf6-b4b731f79cbc",
   "metadata": {},
   "outputs": [
    {
     "data": {
      "text/plain": [
       "92"
      ]
     },
     "execution_count": 262,
     "metadata": {},
     "output_type": "execute_result"
    }
   ],
   "source": [
    "max(scores)\n"
   ]
  },
  {
   "cell_type": "code",
   "execution_count": 264,
   "id": "a6a305eb-5aa0-4dd5-873f-698bc7b41734",
   "metadata": {},
   "outputs": [
    {
     "data": {
      "text/plain": [
       "76"
      ]
     },
     "execution_count": 264,
     "metadata": {},
     "output_type": "execute_result"
    }
   ],
   "source": [
    "min(scores)"
   ]
  },
  {
   "cell_type": "code",
   "execution_count": null,
   "id": "78a10a77-6efc-4415-9059-aefe79a2b079",
   "metadata": {},
   "outputs": [],
   "source": []
  }
 ],
 "metadata": {
  "kernelspec": {
   "display_name": "Python [conda env:base] *",
   "language": "python",
   "name": "conda-base-py"
  },
  "language_info": {
   "codemirror_mode": {
    "name": "ipython",
    "version": 3
   },
   "file_extension": ".py",
   "mimetype": "text/x-python",
   "name": "python",
   "nbconvert_exporter": "python",
   "pygments_lexer": "ipython3",
   "version": "3.12.7"
  }
 },
 "nbformat": 4,
 "nbformat_minor": 5
}
