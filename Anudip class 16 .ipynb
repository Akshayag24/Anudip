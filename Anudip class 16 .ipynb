{
 "cells": [
  {
   "cell_type": "code",
   "execution_count": 2,
   "id": "eabcbd9a-3d66-4c48-9e8f-45afc6a85764",
   "metadata": {},
   "outputs": [],
   "source": [
    "##numpy"
   ]
  },
  {
   "cell_type": "code",
   "execution_count": 4,
   "id": "ca6b8ce2-90e4-46c7-ac1b-413608c09b7a",
   "metadata": {},
   "outputs": [],
   "source": [
    "#array module"
   ]
  },
  {
   "cell_type": "code",
   "execution_count": 6,
   "id": "75d8b89e-7b58-4219-8a73-e35f9fd62b55",
   "metadata": {},
   "outputs": [],
   "source": [
    "from array import array\n",
    "my_array=('i',[2,5,7,8,6])"
   ]
  },
  {
   "cell_type": "code",
   "execution_count": 8,
   "id": "fdaa349b-dc90-43f9-ad03-a61ea6a97019",
   "metadata": {},
   "outputs": [
    {
     "data": {
      "text/plain": [
       "('i', [2, 5, 7, 8, 6])"
      ]
     },
     "execution_count": 8,
     "metadata": {},
     "output_type": "execute_result"
    }
   ],
   "source": [
    "my_array "
   ]
  },
  {
   "cell_type": "code",
   "execution_count": 10,
   "id": "95f104cd-955d-4afd-b8cd-a556afaa3f2b",
   "metadata": {},
   "outputs": [
    {
     "data": {
      "text/plain": [
       "tuple"
      ]
     },
     "execution_count": 10,
     "metadata": {},
     "output_type": "execute_result"
    }
   ],
   "source": [
    "type(my_array)"
   ]
  },
  {
   "cell_type": "code",
   "execution_count": 12,
   "id": "d1c5201b-2c31-44d8-9c31-18a9be93a59b",
   "metadata": {},
   "outputs": [],
   "source": [
    "#numpy arrays"
   ]
  },
  {
   "cell_type": "code",
   "execution_count": 14,
   "id": "f17e2fe5-4352-49dd-bf8a-4261ed379a4a",
   "metadata": {},
   "outputs": [],
   "source": [
    "import numpy as np\n"
   ]
  },
  {
   "cell_type": "code",
   "execution_count": 16,
   "id": "fa4dae45-2c9e-4e3b-8e23-09add1377eb2",
   "metadata": {},
   "outputs": [],
   "source": [
    "arr=np.array([1,2,3,4,5])"
   ]
  },
  {
   "cell_type": "code",
   "execution_count": 18,
   "id": "7f3fc187-4f3a-4ddd-8892-550f6a10a58d",
   "metadata": {},
   "outputs": [
    {
     "data": {
      "text/plain": [
       "array([1, 2, 3, 4, 5])"
      ]
     },
     "execution_count": 18,
     "metadata": {},
     "output_type": "execute_result"
    }
   ],
   "source": [
    "arr"
   ]
  },
  {
   "cell_type": "code",
   "execution_count": 20,
   "id": "cdbc858c-5654-4b63-9104-065d072c86bd",
   "metadata": {},
   "outputs": [
    {
     "data": {
      "text/plain": [
       "numpy.ndarray"
      ]
     },
     "execution_count": 20,
     "metadata": {},
     "output_type": "execute_result"
    }
   ],
   "source": [
    "type(arr)"
   ]
  },
  {
   "cell_type": "code",
   "execution_count": 22,
   "id": "37929ee4-7135-4b39-aafa-2e8be3ed576b",
   "metadata": {},
   "outputs": [
    {
     "data": {
      "text/plain": [
       "1"
      ]
     },
     "execution_count": 22,
     "metadata": {},
     "output_type": "execute_result"
    }
   ],
   "source": [
    "arr.ndim"
   ]
  },
  {
   "cell_type": "code",
   "execution_count": 24,
   "id": "42d8f7ab-98e7-4398-9db8-8fc1932c4c15",
   "metadata": {},
   "outputs": [
    {
     "data": {
      "text/plain": [
       "dtype('int32')"
      ]
     },
     "execution_count": 24,
     "metadata": {},
     "output_type": "execute_result"
    }
   ],
   "source": [
    "arr.dtype"
   ]
  },
  {
   "cell_type": "code",
   "execution_count": 26,
   "id": "179b8a70-d9bf-4b05-a41f-57634c90aef6",
   "metadata": {},
   "outputs": [],
   "source": [
    "array_new = np.array([1,2,3,4,5])"
   ]
  },
  {
   "cell_type": "code",
   "execution_count": 28,
   "id": "b6e083e2-7025-41cb-8932-155406ec8531",
   "metadata": {},
   "outputs": [
    {
     "data": {
      "text/plain": [
       "array([4, 5, 6, 7, 8])"
      ]
     },
     "execution_count": 28,
     "metadata": {},
     "output_type": "execute_result"
    }
   ],
   "source": [
    "array_new +3"
   ]
  },
  {
   "cell_type": "code",
   "execution_count": 30,
   "id": "d6640015-269e-4667-bf6a-e8f6bc0f6ed4",
   "metadata": {},
   "outputs": [
    {
     "data": {
      "text/plain": [
       "numpy.ndarray"
      ]
     },
     "execution_count": 30,
     "metadata": {},
     "output_type": "execute_result"
    }
   ],
   "source": [
    "type(array_new)"
   ]
  },
  {
   "cell_type": "code",
   "execution_count": 32,
   "id": "bdff512f-5d05-4f83-a7d1-e421565c8d23",
   "metadata": {},
   "outputs": [],
   "source": [
    "my_numpy_array=np.array([1,2,3,4,5])"
   ]
  },
  {
   "cell_type": "code",
   "execution_count": 34,
   "id": "2b9b556f-75a6-4e34-8121-772c66fa9f76",
   "metadata": {},
   "outputs": [],
   "source": [
    "new_array=my_numpy_array*3"
   ]
  },
  {
   "cell_type": "code",
   "execution_count": 36,
   "id": "f3b49b0a-a271-40df-aad5-bb0a2552cb0a",
   "metadata": {},
   "outputs": [
    {
     "data": {
      "text/plain": [
       "array([ 3,  6,  9, 12, 15])"
      ]
     },
     "execution_count": 36,
     "metadata": {},
     "output_type": "execute_result"
    }
   ],
   "source": [
    "new_array"
   ]
  },
  {
   "cell_type": "code",
   "execution_count": 38,
   "id": "cd2b5d11-3191-4dac-8114-dd84f99be562",
   "metadata": {},
   "outputs": [
    {
     "data": {
      "text/plain": [
       "numpy.ndarray"
      ]
     },
     "execution_count": 38,
     "metadata": {},
     "output_type": "execute_result"
    }
   ],
   "source": [
    "type(new_array)"
   ]
  },
  {
   "cell_type": "code",
   "execution_count": 40,
   "id": "c60c6aba-efb8-4d81-b374-2f53d91fd915",
   "metadata": {},
   "outputs": [
    {
     "data": {
      "text/plain": [
       "numpy.ndarray"
      ]
     },
     "execution_count": 40,
     "metadata": {},
     "output_type": "execute_result"
    }
   ],
   "source": [
    "type(my_numpy_array)"
   ]
  },
  {
   "cell_type": "code",
   "execution_count": 42,
   "id": "bdd765ba-a90a-4aeb-aea0-b211bd0cc947",
   "metadata": {},
   "outputs": [
    {
     "data": {
      "text/plain": [
       "array([False,  True,  True,  True,  True])"
      ]
     },
     "execution_count": 42,
     "metadata": {},
     "output_type": "execute_result"
    }
   ],
   "source": [
    "new_array>5"
   ]
  },
  {
   "cell_type": "code",
   "execution_count": 44,
   "id": "7d46cbe1-97d2-4d69-a210-b967cda8dcde",
   "metadata": {},
   "outputs": [],
   "source": [
    "matrix=np.array([\n",
    "    [1,2,3],\n",
    "    [4,3,5],\n",
    "    [3,7,9]])\n"
   ]
  },
  {
   "cell_type": "code",
   "execution_count": 46,
   "id": "75afc939-900e-4267-ba50-62c9aaba0976",
   "metadata": {},
   "outputs": [
    {
     "data": {
      "text/plain": [
       "array([[1, 2, 3],\n",
       "       [4, 3, 5],\n",
       "       [3, 7, 9]])"
      ]
     },
     "execution_count": 46,
     "metadata": {},
     "output_type": "execute_result"
    }
   ],
   "source": [
    "matrix"
   ]
  },
  {
   "cell_type": "code",
   "execution_count": 48,
   "id": "bca7e3dd-4d78-4bc1-9e3c-f822cbec73ee",
   "metadata": {},
   "outputs": [],
   "source": [
    "arr_2d=np.array([[0,1,2],[3,4,5],[7,9,8]])"
   ]
  },
  {
   "cell_type": "code",
   "execution_count": 50,
   "id": "2f39e96d-f48f-48c1-83d8-d4847832ea58",
   "metadata": {},
   "outputs": [
    {
     "data": {
      "text/plain": [
       "array([[ 0,  2,  4],\n",
       "       [ 6,  8, 10],\n",
       "       [14, 18, 16]])"
      ]
     },
     "execution_count": 50,
     "metadata": {},
     "output_type": "execute_result"
    }
   ],
   "source": [
    "arr_2d*2"
   ]
  },
  {
   "cell_type": "code",
   "execution_count": 52,
   "id": "6051c0c3-c5c6-4ed2-9ca0-9e36fdc66d53",
   "metadata": {},
   "outputs": [
    {
     "data": {
      "text/plain": [
       "numpy.ndarray"
      ]
     },
     "execution_count": 52,
     "metadata": {},
     "output_type": "execute_result"
    }
   ],
   "source": [
    "type(arr_2d)"
   ]
  },
  {
   "cell_type": "code",
   "execution_count": 54,
   "id": "3af12605-474e-448e-96c1-a9e7cccd2e2c",
   "metadata": {},
   "outputs": [
    {
     "data": {
      "text/plain": [
       "2"
      ]
     },
     "execution_count": 54,
     "metadata": {},
     "output_type": "execute_result"
    }
   ],
   "source": [
    "arr_2d.ndim"
   ]
  },
  {
   "cell_type": "code",
   "execution_count": 56,
   "id": "dec75e0e-2e55-4a1c-ae56-5ef71ebfe840",
   "metadata": {},
   "outputs": [
    {
     "data": {
      "text/plain": [
       "array([[ 2,  3,  4],\n",
       "       [ 5,  6,  7],\n",
       "       [ 9, 11, 10]])"
      ]
     },
     "execution_count": 56,
     "metadata": {},
     "output_type": "execute_result"
    }
   ],
   "source": [
    "arr_2d+2"
   ]
  },
  {
   "cell_type": "code",
   "execution_count": 58,
   "id": "af176b7b-41c5-4ad9-baaa-379e2b21be33",
   "metadata": {},
   "outputs": [
    {
     "data": {
      "text/plain": [
       "array([[-1,  0,  1],\n",
       "       [ 2,  3,  4],\n",
       "       [ 6,  8,  7]])"
      ]
     },
     "execution_count": 58,
     "metadata": {},
     "output_type": "execute_result"
    }
   ],
   "source": [
    "arr_2d-1"
   ]
  },
  {
   "cell_type": "code",
   "execution_count": 60,
   "id": "cc54d04c-c7db-4f19-a395-74b1cfda2ad5",
   "metadata": {},
   "outputs": [
    {
     "data": {
      "text/plain": [
       "array([[0, 1, 0],\n",
       "       [1, 0, 1],\n",
       "       [1, 1, 0]], dtype=int32)"
      ]
     },
     "execution_count": 60,
     "metadata": {},
     "output_type": "execute_result"
    }
   ],
   "source": [
    "arr_2d%2\n"
   ]
  },
  {
   "cell_type": "code",
   "execution_count": 62,
   "id": "b01cea56-8192-4072-84f7-98d0222d1dd6",
   "metadata": {},
   "outputs": [],
   "source": [
    "list_data = [1,6,5,7,9]\n",
    "array_from_list=np.array(list_data)"
   ]
  },
  {
   "cell_type": "code",
   "execution_count": 64,
   "id": "3f5ba676-4fd1-4228-8cb1-909ff6a7029f",
   "metadata": {},
   "outputs": [
    {
     "data": {
      "text/plain": [
       "[1, 6, 5, 7, 9]"
      ]
     },
     "execution_count": 64,
     "metadata": {},
     "output_type": "execute_result"
    }
   ],
   "source": [
    "list_data\n"
   ]
  },
  {
   "cell_type": "code",
   "execution_count": 66,
   "id": "f05e48c3-c6a6-4490-8afa-8b886a71ebb1",
   "metadata": {},
   "outputs": [
    {
     "data": {
      "text/plain": [
       "list"
      ]
     },
     "execution_count": 66,
     "metadata": {},
     "output_type": "execute_result"
    }
   ],
   "source": [
    "type(list_data)"
   ]
  },
  {
   "cell_type": "code",
   "execution_count": 68,
   "id": "0ee3d01a-84b2-4f1e-9fb0-5c383b99ea14",
   "metadata": {},
   "outputs": [
    {
     "data": {
      "text/plain": [
       "array([1, 6, 5, 7, 9])"
      ]
     },
     "execution_count": 68,
     "metadata": {},
     "output_type": "execute_result"
    }
   ],
   "source": [
    "array_from_list"
   ]
  },
  {
   "cell_type": "code",
   "execution_count": 70,
   "id": "490f5d70-eedd-4d1f-9930-fcc79e693f8b",
   "metadata": {},
   "outputs": [
    {
     "data": {
      "text/plain": [
       "numpy.ndarray"
      ]
     },
     "execution_count": 70,
     "metadata": {},
     "output_type": "execute_result"
    }
   ],
   "source": [
    "type(array_from_list)"
   ]
  },
  {
   "cell_type": "code",
   "execution_count": 72,
   "id": "3e224640-6b1e-4df2-b442-0ee90e48008a",
   "metadata": {},
   "outputs": [
    {
     "data": {
      "text/plain": [
       "array([1, 6, 5, 7, 9])"
      ]
     },
     "execution_count": 72,
     "metadata": {},
     "output_type": "execute_result"
    }
   ],
   "source": [
    "array_from_list"
   ]
  }
 ],
 "metadata": {
  "kernelspec": {
   "display_name": "Python [conda env:base] *",
   "language": "python",
   "name": "conda-base-py"
  },
  "language_info": {
   "codemirror_mode": {
    "name": "ipython",
    "version": 3
   },
   "file_extension": ".py",
   "mimetype": "text/x-python",
   "name": "python",
   "nbconvert_exporter": "python",
   "pygments_lexer": "ipython3",
   "version": "3.12.7"
  }
 },
 "nbformat": 4,
 "nbformat_minor": 5
}
